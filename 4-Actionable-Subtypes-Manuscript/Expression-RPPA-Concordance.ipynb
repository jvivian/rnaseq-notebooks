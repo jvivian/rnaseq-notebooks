{
 "cells": [
  {
   "cell_type": "markdown",
   "metadata": {},
   "source": [
    "# Gene Expression and RPPA Concordance \n",
    "Identify relationship between gene expression data and Reverse phase protein lysate microarray (RPPA) data "
   ]
  },
  {
   "cell_type": "markdown",
   "metadata": {},
   "source": [
    "## Inputs and Functions"
   ]
  },
  {
   "cell_type": "code",
   "execution_count": 58,
   "metadata": {},
   "outputs": [],
   "source": [
    "import rnaseq_lib as r\n",
    "import pandas as pd\n",
    "import seaborn as sns\n",
    "import matplotlib.pyplot as plt\n",
    "from scipy.stats import pearsonr"
   ]
  },
  {
   "cell_type": "code",
   "execution_count": 117,
   "metadata": {},
   "outputs": [],
   "source": [
    "# RPPA Data\n",
    "rppa_path = './data/rppa.tsv'\n",
    "rppa = pd.read_csv(rppa_path, sep='\\t', index_col=0)\n",
    "# Shorten TCGA sample names to 15 char limit\n",
    "rppa.index = [x[:15] for x in rppa.index]  \n",
    "\n",
    "# Gene Expression Data\n",
    "# Synapse ID: syn12009613\n",
    "data_path = '/mnt/data/Objects/tcga_gtex_data.hd5'\n",
    "exp = pd.read_hdf(data_path, key='exp').apply(r.math.l2norm)\n",
    "met = pd.read_hdf(data_path, key='met')\n",
    "df = r.data.add_metadata_to_exp(exp, met)\n",
    "\n",
    "# Subset for TCGA Tumor\n",
    "tcga = exp.loc[[x for x in df.index if \n",
    "                x.startswith('TCGA') and x.endswith('01')]]\n",
    "# Subset for GTEx for comparison\n",
    "gtex = exp.loc[[x for x in df.index if x.startswith('GTEX')]]\n",
    "\n",
    "# Normalize to log2(x + 0.001)\n",
    "tcga = tcga.apply(r.math.l2norm)\n",
    "gtex = gtex.apply(r.math.l2norm)"
   ]
  },
  {
   "cell_type": "code",
   "execution_count": 118,
   "metadata": {},
   "outputs": [],
   "source": [
    "# Add a few differnetly labelled examples\n",
    "rppa['ERBB2'] = rppa['HER2']\n",
    "rppa['KDR'] = rppa['VEGFR2']"
   ]
  },
  {
   "cell_type": "code",
   "execution_count": 119,
   "metadata": {},
   "outputs": [
    {
     "name": "stdout",
     "output_type": "stream",
     "text": [
      "Samples: 9164\tGenes: 58581\n",
      "Samples: 7754\tGenes: 261\n"
     ]
    }
   ],
   "source": [
    "for x in [tcga, rppa]:\n",
    "    print 'Samples: {}\\tGenes: {}'.format(*x.shape)"
   ]
  },
  {
   "cell_type": "code",
   "execution_count": 120,
   "metadata": {},
   "outputs": [],
   "source": [
    "def create_plot_df(gene, rppa=rppa, tcga=tcga, df=df):\n",
    "    pdf = pd.DataFrame()\n",
    "    pdf['RPPA'] = rppa[gene].dropna()\n",
    "    pdf['TCGA'] = tcga[gene].dropna()\n",
    "    pdf['GTEX'] = gtex[gene].dropna()\n",
    "    pdf['Tissue'] = df.tissue\n",
    "    pdf['Tumor'] = df.tumor\n",
    "    return pdf"
   ]
  },
  {
   "cell_type": "code",
   "execution_count": 121,
   "metadata": {},
   "outputs": [],
   "source": [
    "def jointplot(gene, rppa=rppa, tcga=tcga):\n",
    "    df = create_plot_df(gene, rppa=rppa, tcga=tcga)\n",
    "    sns.jointplot(x='RPPA', y='TCGA', data=df, \n",
    "                  kind='reg', scatter_kws={'alpha':0.3})"
   ]
  },
  {
   "cell_type": "markdown",
   "metadata": {},
   "source": [
    "## Subset By Sample and Gene Intersection"
   ]
  },
  {
   "cell_type": "code",
   "execution_count": 122,
   "metadata": {},
   "outputs": [
    {
     "name": "stdout",
     "output_type": "stream",
     "text": [
      "Number of genes in both datasets: 89\n"
     ]
    }
   ],
   "source": [
    "rppa_genes = set(rppa.columns[1:])\n",
    "all_genes = set(df.columns)\n",
    "genes = rppa_genes.intersection(all_genes)\n",
    "print 'Number of genes in both datasets: {}'.format(len(genes))"
   ]
  },
  {
   "cell_type": "code",
   "execution_count": 123,
   "metadata": {},
   "outputs": [
    {
     "name": "stdout",
     "output_type": "stream",
     "text": [
      "Number of shared samples: 6553\n"
     ]
    }
   ],
   "source": [
    "samples = sorted(set(tcga.index).intersection(set(rppa.index)))\n",
    "print 'Number of shared samples: {}'.format(len(samples))"
   ]
  },
  {
   "cell_type": "code",
   "execution_count": 124,
   "metadata": {
    "scrolled": false
   },
   "outputs": [],
   "source": [
    "tcga = tcga.loc[samples][sorted(genes)]\n",
    "rppa = rppa.loc[samples][sorted(genes)]"
   ]
  },
  {
   "cell_type": "markdown",
   "metadata": {},
   "source": [
    "## PearsonR Concordance\n",
    "\n",
    "What is the general concordance relationship between RPPA and RNA-seq TPM data?"
   ]
  },
  {
   "cell_type": "code",
   "execution_count": 125,
   "metadata": {},
   "outputs": [],
   "source": [
    "genes = sorted(genes)\n",
    "pr = {}\n",
    "for g in genes:\n",
    "    t = create_plot_df(g)\n",
    "    pr[g] = round(pearsonr(t.RPPA, t.TCGA)[0], 2)\n",
    "pr = pd.Series(pr).sort_values()"
   ]
  },
  {
   "cell_type": "code",
   "execution_count": null,
   "metadata": {},
   "outputs": [],
   "source": [
    "sns.boxplot(pr)\n",
    "plt.xlabel('PearsonR Score')\n",
    "plt.title('PearsonR Gene Scores Between RPPA and RNA-Seq');"
   ]
  },
  {
   "cell_type": "markdown",
   "metadata": {},
   "source": [
    "Subset top 20 most concordant values"
   ]
  },
  {
   "cell_type": "code",
   "execution_count": null,
   "metadata": {},
   "outputs": [],
   "source": [
    "sub = pr.tail(20)\n",
    "plt.figure(figsize=(8, 4))\n",
    "plt.scatter(sub.index, sub)\n",
    "plt.xticks(rotation=45, fontsize=10);"
   ]
  },
  {
   "cell_type": "markdown",
   "metadata": {},
   "source": [
    "## Concordance Evaluation"
   ]
  },
  {
   "cell_type": "markdown",
   "metadata": {},
   "source": [
    "### HER2/ERBB2"
   ]
  },
  {
   "cell_type": "code",
   "execution_count": null,
   "metadata": {},
   "outputs": [],
   "source": [
    "breast = df[(df.tissue == 'Breast') & (df.tumor == 'yes')]"
   ]
  },
  {
   "cell_type": "code",
   "execution_count": null,
   "metadata": {},
   "outputs": [],
   "source": [
    "erbb2_c = r.math.overlay_gmm_to_hist(breast.ERBB2)"
   ]
  },
  {
   "cell_type": "code",
   "execution_count": null,
   "metadata": {},
   "outputs": [],
   "source": [
    "print len(breast)\n",
    "print len(breast[breast.ERBB2 > erbb2_c])"
   ]
  },
  {
   "cell_type": "code",
   "execution_count": null,
   "metadata": {},
   "outputs": [],
   "source": []
  },
  {
   "cell_type": "code",
   "execution_count": null,
   "metadata": {},
   "outputs": [],
   "source": []
  },
  {
   "cell_type": "code",
   "execution_count": 79,
   "metadata": {},
   "outputs": [
    {
     "data": {
      "image/png": "[encoded data removed]",
      "text/plain": [
       "<Figure size 432x432 with 3 Axes>"
      ]
     },
     "metadata": {},
     "output_type": "display_data"
    }
   ],
   "source": [
    "jointplot('ERBB2')"
   ]
  }
 ],
 "metadata": {
  "hide_input": false,
  "kernelspec": {
   "display_name": "Python 2",
   "language": "python",
   "name": "python2"
  },
  "language_info": {
   "codemirror_mode": {
    "name": "ipython",
    "version": 2
   },
   "file_extension": ".py",
   "mimetype": "text/x-python",
   "name": "python",
   "nbconvert_exporter": "python",
   "pygments_lexer": "ipython2",
   "version": "2.7.12"
  },
  "latex_envs": {
   "LaTeX_envs_menu_present": true,
   "autoclose": false,
   "autocomplete": true,
   "bibliofile": "biblio.bib",
   "cite_by": "apalike",
   "current_citInitial": 1,
   "eqLabelWithNumbers": true,
   "eqNumInitial": 1,
   "hotkeys": {
    "equation": "Ctrl-E",
    "itemize": "Ctrl-I"
   },
   "labels_anchors": false,
   "latex_user_defs": false,
   "report_style_numbering": false,
   "user_envs_cfg": false
  },
  "toc": {
   "base_numbering": 1,
   "nav_menu": {},
   "number_sections": true,
   "sideBar": true,
   "skip_h1_title": false,
   "title_cell": "Table of Contents",
   "title_sidebar": "Contents",
   "toc_cell": false,
   "toc_position": {},
   "toc_section_display": true,
   "toc_window_display": true
  },
  "varInspector": {
   "cols": {
    "lenName": 16,
    "lenType": 16,
    "lenVar": 40
   },
   "kernels_config": {
    "python": {
     "delete_cmd_postfix": "",
     "delete_cmd_prefix": "del ",
     "library": "var_list.py",
     "varRefreshCmd": "print(var_dic_list())"
    },
    "r": {
     "delete_cmd_postfix": ") ",
     "delete_cmd_prefix": "rm(",
     "library": "var_list.r",
     "varRefreshCmd": "cat(var_dic_list()) "
    }
   },
   "types_to_exclude": [
    "module",
    "function",
    "builtin_function_or_method",
    "instance",
    "_Feature"
   ],
   "window_display": false
  }
 },
 "nbformat": 4,
 "nbformat_minor": 2
}
