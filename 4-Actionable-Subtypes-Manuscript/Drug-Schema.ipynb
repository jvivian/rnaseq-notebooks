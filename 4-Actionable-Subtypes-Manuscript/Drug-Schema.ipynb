{
 "cells": [
  {
   "cell_type": "markdown",
   "metadata": {},
   "source": [
    "# OncoKB to Drug Schema\n",
    "\n",
    "- Identify best source of high-quality drug information:\n",
    "    - FDA API (https://open.fda.gov/api/reference/)\n",
    "    - CIViC API (http://griffithlab.org/civic-api-docs/)\n",
    "    - **OncoKB** (http://oncokb.org/#/)  \n",
    "- Identify Information to Save\n",
    "- Export as Drug Schema (YAML format)"
   ]
  },
  {
   "cell_type": "markdown",
   "metadata": {},
   "source": [
    "## Imports and Functions"
   ]
  },
  {
   "cell_type": "code",
   "execution_count": 2,
   "metadata": {},
   "outputs": [],
   "source": [
    "import requests\n",
    "import pandas as pd\n",
    "import yaml\n",
    "from collections import defaultdict"
   ]
  },
  {
   "cell_type": "markdown",
   "metadata": {},
   "source": [
    "## OncoKB Table\n",
    "\n",
    "Information obtained from <cite data-cite=\"5029384/ZKNZBXU2\"></cite>.\n",
    "\n",
    "- Levels\n",
    "    - 1 - Standard therapeutic implications include Food and Drug Administration (FDA)–recognized biomarkers that are predictive of response to an FDA-approved drug in a specific indication\n",
    "    - 2a - Standard care biomarkers that are predictive of response to an FDA-approved drug in a specific indication\n",
    "    - 2b - Investigational therapeutic implications include FDA-approved biomarkers predictive of response to an FDA-approved drug detected in an off-label indication\n",
    "    - 3A/B - FDA- or non–FDA-recognized biomarkers that are predictive of response to novel targeted agents that have shown promising results in clinical trials\n",
    "    - 4 - Non–FDA-recognized biomarkers that are predictive of response to novel targeted agents on the basis of compelling biologic data\n",
    "    - R1 - Standard care biomarker predictive of resistance to an FDA-approved drug in this indication\n",
    "    - R2 - Compelling clinical evidence as resistance biomaker, but neither drug nor biomarker is standard care.\n",
    "    - R3 - Compelling biological evidence as resistance biomaker, but neither drug nor biomarker is standard care."
   ]
  },
  {
   "cell_type": "code",
   "execution_count": 21,
   "metadata": {},
   "outputs": [
    {
     "data": {
      "text/html": [
       "<div>\n",
       "<style scoped>\n",
       "    .dataframe tbody tr th:only-of-type {\n",
       "        vertical-align: middle;\n",
       "    }\n",
       "\n",
       "    .dataframe tbody tr th {\n",
       "        vertical-align: top;\n",
       "    }\n",
       "\n",
       "    .dataframe thead th {\n",
       "        text-align: right;\n",
       "    }\n",
       "</style>\n",
       "<table border=\"1\" class=\"dataframe\">\n",
       "  <thead>\n",
       "    <tr style=\"text-align: right;\">\n",
       "      <th></th>\n",
       "      <th>Isoform</th>\n",
       "      <th>RefSeq</th>\n",
       "      <th>Entrez Gene ID</th>\n",
       "      <th>Gene</th>\n",
       "      <th>Alteration</th>\n",
       "      <th>Cancer Type</th>\n",
       "      <th>Level</th>\n",
       "      <th>Drugs(s)</th>\n",
       "      <th>PMIDs for drug</th>\n",
       "      <th>Abstracts for drug</th>\n",
       "    </tr>\n",
       "  </thead>\n",
       "  <tbody>\n",
       "    <tr>\n",
       "      <th>262</th>\n",
       "      <td>ENST00000257290</td>\n",
       "      <td>NM_006206.4</td>\n",
       "      <td>5156</td>\n",
       "      <td>PDGFRA</td>\n",
       "      <td>Oncogenic Mutations</td>\n",
       "      <td>Gastrointestinal Stromal Tumor</td>\n",
       "      <td>2A</td>\n",
       "      <td>Imatinib</td>\n",
       "      <td>24963404, 15928335</td>\n",
       "      <td>NaN</td>\n",
       "    </tr>\n",
       "    <tr>\n",
       "      <th>263</th>\n",
       "      <td>ENST00000257290</td>\n",
       "      <td>NM_006206.4</td>\n",
       "      <td>5156</td>\n",
       "      <td>PDGFRA</td>\n",
       "      <td>D842V</td>\n",
       "      <td>Gastrointestinal Stromal Tumor</td>\n",
       "      <td>R1</td>\n",
       "      <td>Imatinib</td>\n",
       "      <td>25905001, 17087936, 12949711, 24963404, 227188...</td>\n",
       "      <td>NaN</td>\n",
       "    </tr>\n",
       "  </tbody>\n",
       "</table>\n",
       "</div>"
      ],
      "text/plain": [
       "             Isoform       RefSeq  Entrez Gene ID    Gene  \\\n",
       "262  ENST00000257290  NM_006206.4            5156  PDGFRA   \n",
       "263  ENST00000257290  NM_006206.4            5156  PDGFRA   \n",
       "\n",
       "              Alteration                     Cancer Type Level  Drugs(s)  \\\n",
       "262  Oncogenic Mutations  Gastrointestinal Stromal Tumor    2A  Imatinib   \n",
       "263                D842V  Gastrointestinal Stromal Tumor    R1  Imatinib   \n",
       "\n",
       "                                        PMIDs for drug Abstracts for drug  \n",
       "262                                 24963404, 15928335                NaN  \n",
       "263  25905001, 17087936, 12949711, 24963404, 227188...                NaN  "
      ]
     },
     "execution_count": 21,
     "metadata": {},
     "output_type": "execute_result"
    }
   ],
   "source": [
    "oncokb_url = 'http://oncokb.org/api/v1/utils/allActionableVariants.txt'\n",
    "# Downloaded locally\n",
    "df = pd.read_csv('./data/allActionableVariants.txt', sep='\\t')\n",
    "df.tail(2)"
   ]
  },
  {
   "cell_type": "markdown",
   "metadata": {},
   "source": [
    "Process table into nested data structure for YAML export\n",
    "\n",
    "- Drug:\n",
    "    - List\n",
    "        - Gene\n",
    "        - Alteration\n",
    "        - Cancer Type\n",
    "        - Level\n",
    "        - [Samples]"
   ]
  },
  {
   "cell_type": "code",
   "execution_count": 4,
   "metadata": {
    "scrolled": false
   },
   "outputs": [],
   "source": [
    "oncokb = defaultdict(list)\n",
    "for i, row in df.iterrows():\n",
    "    # Save desired values for a given alteration\n",
    "    v = {'Gene': row.Gene,\n",
    "         'Alteration': row.Alteration,\n",
    "         'Subtype': row['Cancer Type'],\n",
    "         'Level': row.Level}\n",
    "    # Save for each drug listed for an alteration\n",
    "    drugs = row['Drugs(s)'].split(', ')\n",
    "    for drug in drugs:\n",
    "        oncokb[drug].append(v)"
   ]
  },
  {
   "cell_type": "markdown",
   "metadata": {},
   "source": [
    "Save output as YAML"
   ]
  },
  {
   "cell_type": "code",
   "execution_count": null,
   "metadata": {},
   "outputs": [],
   "source": [
    "yaml_path = './drug-schema/oncokb.yaml'\n",
    "with open(yaml_path, 'wb') as f:\n",
    "    yaml.dump(oncokb, f)"
   ]
  },
  {
   "cell_type": "markdown",
   "metadata": {},
   "source": [
    "## Convert to Table"
   ]
  },
  {
   "cell_type": "code",
   "execution_count": 22,
   "metadata": {},
   "outputs": [
    {
     "data": {
      "text/html": [
       "<div>\n",
       "<style scoped>\n",
       "    .dataframe tbody tr th:only-of-type {\n",
       "        vertical-align: middle;\n",
       "    }\n",
       "\n",
       "    .dataframe tbody tr th {\n",
       "        vertical-align: top;\n",
       "    }\n",
       "\n",
       "    .dataframe thead th {\n",
       "        text-align: right;\n",
       "    }\n",
       "</style>\n",
       "<table border=\"1\" class=\"dataframe\">\n",
       "  <thead>\n",
       "    <tr style=\"text-align: right;\">\n",
       "      <th></th>\n",
       "      <th>Drug</th>\n",
       "      <th>Level</th>\n",
       "      <th>Subtype</th>\n",
       "      <th>Alteration</th>\n",
       "    </tr>\n",
       "  </thead>\n",
       "  <tbody>\n",
       "    <tr>\n",
       "      <th>0</th>\n",
       "      <td>Pembrolizumab</td>\n",
       "      <td>1</td>\n",
       "      <td>All Solid Tumors</td>\n",
       "      <td>Microsatellite Instability-High</td>\n",
       "    </tr>\n",
       "    <tr>\n",
       "      <th>1</th>\n",
       "      <td>Nivolumab</td>\n",
       "      <td>1</td>\n",
       "      <td>Colorectal Cancer</td>\n",
       "      <td>Microsatellite Instability-High</td>\n",
       "    </tr>\n",
       "    <tr>\n",
       "      <th>2</th>\n",
       "      <td>Tazemetostat</td>\n",
       "      <td>4</td>\n",
       "      <td>Diffuse Large B-Cell Lymphoma</td>\n",
       "      <td>Oncogenic Mutations</td>\n",
       "    </tr>\n",
       "    <tr>\n",
       "      <th>3</th>\n",
       "      <td>Dasatinib, Imatinib</td>\n",
       "      <td>1</td>\n",
       "      <td>Acute Lymphoid Leukemia</td>\n",
       "      <td>BCR-ABL1 Fusion</td>\n",
       "    </tr>\n",
       "    <tr>\n",
       "      <th>4</th>\n",
       "      <td>Nilotinib, Dasatinib, Imatinib</td>\n",
       "      <td>1</td>\n",
       "      <td>Chronic Myelogenous Leukemia</td>\n",
       "      <td>BCR-ABL1 Fusion</td>\n",
       "    </tr>\n",
       "  </tbody>\n",
       "</table>\n",
       "</div>"
      ],
      "text/plain": [
       "                             Drug Level                        Subtype  \\\n",
       "0                   Pembrolizumab     1               All Solid Tumors   \n",
       "1                       Nivolumab     1              Colorectal Cancer   \n",
       "2                    Tazemetostat     4  Diffuse Large B-Cell Lymphoma   \n",
       "3             Dasatinib, Imatinib     1        Acute Lymphoid Leukemia   \n",
       "4  Nilotinib, Dasatinib, Imatinib     1   Chronic Myelogenous Leukemia   \n",
       "\n",
       "                        Alteration  \n",
       "0  Microsatellite Instability-High  \n",
       "1  Microsatellite Instability-High  \n",
       "2              Oncogenic Mutations  \n",
       "3                  BCR-ABL1 Fusion  \n",
       "4                  BCR-ABL1 Fusion  "
      ]
     },
     "execution_count": 22,
     "metadata": {},
     "output_type": "execute_result"
    }
   ],
   "source": [
    "sub = df[['Drugs(s)', 'Level', 'Cancer Type', 'Alteration']]\n",
    "sub.columns = ['Drug', 'Level', 'Subtype', 'Alteration']\n",
    "sub.head()"
   ]
  },
  {
   "cell_type": "code",
   "execution_count": 23,
   "metadata": {
    "scrolled": true
   },
   "outputs": [],
   "source": [
    "drug_tsv = './drug-schema/oncokb.tsv'\n",
    "sub.to_csv(drug_tsv, sep='\\t')"
   ]
  }
 ],
 "metadata": {
  "cite2c": {
   "citations": {
    "5029384/ZKNZBXU2": {
     "DOI": "10.1200/PO.17.00011",
     "URL": "http://ascopubs.org/doi/full/10.1200/PO.17.00011",
     "abstract": "PurposeWith prospective clinical sequencing of tumors emerging as a mainstay in cancer care, an urgent need exists for a clinical support tool that distills the clinical implications associated with specific mutation events into a standardized and easily interpretable format. To this end, we developed OncoKB, an expert-guided precision oncology knowledge base.MethodsOncoKB annotates the biologic and oncogenic effects and prognostic and predictive significance of somatic molecular alterations. Potential treatment implications are stratified by the level of evidence that a specific molecular alteration is predictive of drug response on the basis of US Food and Drug Administration labeling, National Comprehensive Cancer Network guidelines, disease-focused expert group recommendations, and scientific literature.ResultsTo date, > 3,000 unique mutations, fusions, and copy number alterations in 418 cancer-associated genes have been annotated. To test the utility of OncoKB, we annotated all genomic events in 5,983 primary tumor samples in 19 cancer types. Forty-one percent of samples harbored at least one potentially actionable alteration, of which 7.5% were predictive of clinical benefit from a standard treatment. OncoKB annotations are available through a public Web resource (http://oncokb.org) and are incorporated into the cBioPortal for Cancer Genomics to facilitate the interpretation of genomic alterations by physicians and researchers.ConclusionOncoKB, a comprehensive and curated precision oncology knowledge base, offers oncologists detailed, evidence-based information about individual somatic mutations and structural alterations present in patient tumors with the goal of supporting optimal treatment decisions.",
     "accessed": {
      "day": 9,
      "month": 5,
      "year": 2018
     },
     "author": [
      {
       "family": "Chakravarty",
       "given": "Debyani"
      },
      {
       "family": "Gao",
       "given": "Jianjiong"
      },
      {
       "family": "Phillips",
       "given": "Sarah"
      },
      {
       "family": "Kundra",
       "given": "Ritika"
      },
      {
       "family": "Zhang",
       "given": "Hongxin"
      },
      {
       "family": "Wang",
       "given": "Jiaojiao"
      },
      {
       "family": "Rudolph",
       "given": "Julia E."
      },
      {
       "family": "Yaeger",
       "given": "Rona"
      },
      {
       "family": "Soumerai",
       "given": "Tara"
      },
      {
       "family": "Nissan",
       "given": "Moriah H."
      },
      {
       "family": "Chang",
       "given": "Matthew T."
      },
      {
       "family": "Chandarlapaty",
       "given": "Sarat"
      },
      {
       "family": "Traina",
       "given": "Tiffany A."
      },
      {
       "family": "Paik",
       "given": "Paul K."
      },
      {
       "family": "Ho",
       "given": "Alan L."
      },
      {
       "family": "Hantash",
       "given": "Feras M."
      },
      {
       "family": "Grupe",
       "given": "Andrew"
      },
      {
       "family": "Baxi",
       "given": "Shrujal S."
      },
      {
       "family": "Callahan",
       "given": "Margaret K."
      },
      {
       "family": "Snyder",
       "given": "Alexandra"
      },
      {
       "family": "Chi",
       "given": "Ping"
      },
      {
       "family": "Danila",
       "given": "Daniel C."
      },
      {
       "family": "Gounder",
       "given": "Mrinal"
      },
      {
       "family": "Harding",
       "given": "James J."
      },
      {
       "family": "Hellmann",
       "given": "Matthew D."
      },
      {
       "family": "Iyer",
       "given": "Gopa"
      },
      {
       "family": "Janjigian",
       "given": "Yelena Y."
      },
      {
       "family": "Kaley",
       "given": "Thomas"
      },
      {
       "family": "Levine",
       "given": "Douglas A."
      },
      {
       "family": "Lowery",
       "given": "Maeve"
      },
      {
       "family": "Omuro",
       "given": "Antonio"
      },
      {
       "family": "Postow",
       "given": "Michael A."
      },
      {
       "family": "Rathkopf",
       "given": "Dana"
      },
      {
       "family": "Shoushtari",
       "given": "Alexander N."
      },
      {
       "family": "Shukla",
       "given": "Neerav"
      },
      {
       "family": "Voss",
       "given": "Martin H."
      },
      {
       "family": "Paraiso",
       "given": "Ederlinda"
      },
      {
       "family": "Zehir",
       "given": "Ahmet"
      },
      {
       "family": "Berger",
       "given": "Michael F."
      },
      {
       "family": "Taylor",
       "given": "Barry S."
      },
      {
       "family": "Saltz",
       "given": "Leonard B."
      },
      {
       "family": "Riely",
       "given": "Gregory J."
      },
      {
       "family": "Ladanyi",
       "given": "Marc"
      },
      {
       "family": "Hyman",
       "given": "David M."
      },
      {
       "family": "Baselga",
       "given": "José"
      },
      {
       "family": "Sabbatini",
       "given": "Paul"
      },
      {
       "family": "Solit",
       "given": "David B."
      },
      {
       "family": "Schultz",
       "given": "Nikolaus"
      }
     ],
     "container-title": "JCO Precision Oncology",
     "container-title-short": "JCO Precision Oncology",
     "id": "5029384/ZKNZBXU2",
     "issue": "1",
     "issued": {
      "day": 16,
      "month": 5,
      "year": 2017
     },
     "journalAbbreviation": "JCO Precision Oncology",
     "page": "1-16",
     "page-first": "1",
     "shortTitle": "OncoKB",
     "title": "OncoKB: A Precision Oncology Knowledge Base",
     "title-short": "OncoKB",
     "type": "article-journal"
    }
   }
  },
  "hide_input": false,
  "kernelspec": {
   "display_name": "Python 2",
   "language": "python",
   "name": "python2"
  },
  "language_info": {
   "codemirror_mode": {
    "name": "ipython",
    "version": 2
   },
   "file_extension": ".py",
   "mimetype": "text/x-python",
   "name": "python",
   "nbconvert_exporter": "python",
   "pygments_lexer": "ipython2",
   "version": "2.7.12"
  },
  "latex_envs": {
   "LaTeX_envs_menu_present": true,
   "autoclose": false,
   "autocomplete": true,
   "bibliofile": "biblio.bib",
   "cite_by": "apalike",
   "current_citInitial": 1,
   "eqLabelWithNumbers": true,
   "eqNumInitial": 1,
   "hotkeys": {
    "equation": "Ctrl-E",
    "itemize": "Ctrl-I"
   },
   "labels_anchors": false,
   "latex_user_defs": false,
   "report_style_numbering": false,
   "user_envs_cfg": false
  },
  "toc": {
   "base_numbering": 1,
   "nav_menu": {},
   "number_sections": true,
   "sideBar": true,
   "skip_h1_title": false,
   "title_cell": "Table of Contents",
   "title_sidebar": "Contents",
   "toc_cell": false,
   "toc_position": {},
   "toc_section_display": true,
   "toc_window_display": true
  },
  "varInspector": {
   "cols": {
    "lenName": 16,
    "lenType": 16,
    "lenVar": 40
   },
   "kernels_config": {
    "python": {
     "delete_cmd_postfix": "",
     "delete_cmd_prefix": "del ",
     "library": "var_list.py",
     "varRefreshCmd": "print(var_dic_list())"
    },
    "r": {
     "delete_cmd_postfix": ") ",
     "delete_cmd_prefix": "rm(",
     "library": "var_list.r",
     "varRefreshCmd": "cat(var_dic_list()) "
    }
   },
   "types_to_exclude": [
    "module",
    "function",
    "builtin_function_or_method",
    "instance",
    "_Feature"
   ],
   "window_display": false
  }
 },
 "nbformat": 4,
 "nbformat_minor": 2
}
