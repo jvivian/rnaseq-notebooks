{
 "cells": [
  {
   "cell_type": "markdown",
   "metadata": {},
   "source": [
    "# DESeq2 Runs\n",
    "\n",
    "DESeq2 will provide p-value statistics and other useful information. We'll run DESeq2 for each of the tissues in our dataset."
   ]
  },
  {
   "cell_type": "code",
   "execution_count": 1,
   "metadata": {
    "collapsed": true
   },
   "outputs": [],
   "source": [
    "import os\n",
    "\n",
    "import pandas as pd\n",
    "\n",
    "from rnaseq_lib.R import run_deseq2\n",
    "from rnaseq_lib.tissues import return_samples"
   ]
  },
  {
   "cell_type": "markdown",
   "metadata": {},
   "source": [
    "### Inputs\n",
    "\n",
    "Load the raw gene expression counts output by RSEM"
   ]
  },
  {
   "cell_type": "code",
   "execution_count": 2,
   "metadata": {
    "collapsed": true
   },
   "outputs": [],
   "source": [
    "df_path = '/mnt/rna-seq-analysis/data/xena/tcga_gtex_counts_protein_coding.tsv'\n",
    "df = pd.read_csv(df_path, index_col=0, sep='\\t')"
   ]
  },
  {
   "cell_type": "markdown",
   "metadata": {},
   "source": [
    "Get sample information"
   ]
  },
  {
   "cell_type": "code",
   "execution_count": 3,
   "metadata": {
    "collapsed": true
   },
   "outputs": [],
   "source": [
    "samples = return_samples()"
   ]
  },
  {
   "cell_type": "markdown",
   "metadata": {},
   "source": [
    "### Run DESeq2"
   ]
  },
  {
   "cell_type": "code",
   "execution_count": 4,
   "metadata": {},
   "outputs": [
    {
     "name": "stdout",
     "output_type": "stream",
     "text": [
      "\n",
      "Calling: docker run -v /home/ubuntu/rnaseq-notebooks/DESeq2-Runs/Bladder:/data -v /mnt/rna-seq-analysis/data/xena:/df jvivian/deseq2 /data/work_dir/deseq2.R /df/tcga_gtex_counts_protein_coding.tsv /data/work_dir/tissue.vector /data/work_dir/disease.vector\n",
      "\n",
      "\n",
      "Calling: docker run -v /home/ubuntu/rnaseq-notebooks/DESeq2-Runs/Brain:/data -v /mnt/rna-seq-analysis/data/xena:/df jvivian/deseq2 /data/work_dir/deseq2.R /df/tcga_gtex_counts_protein_coding.tsv /data/work_dir/tissue.vector /data/work_dir/disease.vector\n",
      "\n",
      "\n",
      "Calling: docker run -v /home/ubuntu/rnaseq-notebooks/DESeq2-Runs/Breast:/data -v /mnt/rna-seq-analysis/data/xena:/df jvivian/deseq2 /data/work_dir/deseq2.R /df/tcga_gtex_counts_protein_coding.tsv /data/work_dir/tissue.vector /data/work_dir/disease.vector\n",
      "\n",
      "\n",
      "Calling: docker run -v /home/ubuntu/rnaseq-notebooks/DESeq2-Runs/Cervix:/data -v /mnt/rna-seq-analysis/data/xena:/df jvivian/deseq2 /data/work_dir/deseq2.R /df/tcga_gtex_counts_protein_coding.tsv /data/work_dir/tissue.vector /data/work_dir/disease.vector\n",
      "\n",
      "\n",
      "Calling: docker run -v /home/ubuntu/rnaseq-notebooks/DESeq2-Runs/Colon-Small_intestine:/data -v /mnt/rna-seq-analysis/data/xena:/df jvivian/deseq2 /data/work_dir/deseq2.R /df/tcga_gtex_counts_protein_coding.tsv /data/work_dir/tissue.vector /data/work_dir/disease.vector\n",
      "\n",
      "\n",
      "Calling: docker run -v /home/ubuntu/rnaseq-notebooks/DESeq2-Runs/Esophagus:/data -v /mnt/rna-seq-analysis/data/xena:/df jvivian/deseq2 /data/work_dir/deseq2.R /df/tcga_gtex_counts_protein_coding.tsv /data/work_dir/tissue.vector /data/work_dir/disease.vector\n",
      "\n",
      "\n",
      "Calling: docker run -v /home/ubuntu/rnaseq-notebooks/DESeq2-Runs/Kidney:/data -v /mnt/rna-seq-analysis/data/xena:/df jvivian/deseq2 /data/work_dir/deseq2.R /df/tcga_gtex_counts_protein_coding.tsv /data/work_dir/tissue.vector /data/work_dir/disease.vector\n",
      "\n",
      "\n",
      "Calling: docker run -v /home/ubuntu/rnaseq-notebooks/DESeq2-Runs/Liver:/data -v /mnt/rna-seq-analysis/data/xena:/df jvivian/deseq2 /data/work_dir/deseq2.R /df/tcga_gtex_counts_protein_coding.tsv /data/work_dir/tissue.vector /data/work_dir/disease.vector\n",
      "\n",
      "\n",
      "Calling: docker run -v /home/ubuntu/rnaseq-notebooks/DESeq2-Runs/Lung:/data -v /mnt/rna-seq-analysis/data/xena:/df jvivian/deseq2 /data/work_dir/deseq2.R /df/tcga_gtex_counts_protein_coding.tsv /data/work_dir/tissue.vector /data/work_dir/disease.vector\n",
      "\n",
      "\n",
      "Calling: docker run -v /home/ubuntu/rnaseq-notebooks/DESeq2-Runs/Ovary:/data -v /mnt/rna-seq-analysis/data/xena:/df jvivian/deseq2 /data/work_dir/deseq2.R /df/tcga_gtex_counts_protein_coding.tsv /data/work_dir/tissue.vector /data/work_dir/disease.vector\n",
      "\n",
      "\n",
      "Calling: docker run -v /home/ubuntu/rnaseq-notebooks/DESeq2-Runs/Pancreas:/data -v /mnt/rna-seq-analysis/data/xena:/df jvivian/deseq2 /data/work_dir/deseq2.R /df/tcga_gtex_counts_protein_coding.tsv /data/work_dir/tissue.vector /data/work_dir/disease.vector\n",
      "\n",
      "\n",
      "Calling: docker run -v /home/ubuntu/rnaseq-notebooks/DESeq2-Runs/Prostate:/data -v /mnt/rna-seq-analysis/data/xena:/df jvivian/deseq2 /data/work_dir/deseq2.R /df/tcga_gtex_counts_protein_coding.tsv /data/work_dir/tissue.vector /data/work_dir/disease.vector\n",
      "\n",
      "\n",
      "Calling: docker run -v /home/ubuntu/rnaseq-notebooks/DESeq2-Runs/Skin-Head:/data -v /mnt/rna-seq-analysis/data/xena:/df jvivian/deseq2 /data/work_dir/deseq2.R /df/tcga_gtex_counts_protein_coding.tsv /data/work_dir/tissue.vector /data/work_dir/disease.vector\n",
      "\n",
      "\n",
      "Calling: docker run -v /home/ubuntu/rnaseq-notebooks/DESeq2-Runs/Stomach:/data -v /mnt/rna-seq-analysis/data/xena:/df jvivian/deseq2 /data/work_dir/deseq2.R /df/tcga_gtex_counts_protein_coding.tsv /data/work_dir/tissue.vector /data/work_dir/disease.vector\n",
      "\n",
      "\n",
      "Calling: docker run -v /home/ubuntu/rnaseq-notebooks/DESeq2-Runs/Testis:/data -v /mnt/rna-seq-analysis/data/xena:/df jvivian/deseq2 /data/work_dir/deseq2.R /df/tcga_gtex_counts_protein_coding.tsv /data/work_dir/tissue.vector /data/work_dir/disease.vector\n",
      "\n",
      "\n",
      "Calling: docker run -v /home/ubuntu/rnaseq-notebooks/DESeq2-Runs/Thyroid:/data -v /mnt/rna-seq-analysis/data/xena:/df jvivian/deseq2 /data/work_dir/deseq2.R /df/tcga_gtex_counts_protein_coding.tsv /data/work_dir/tissue.vector /data/work_dir/disease.vector\n",
      "\n",
      "\n",
      "Calling: docker run -v /home/ubuntu/rnaseq-notebooks/DESeq2-Runs/Uterus:/data -v /mnt/rna-seq-analysis/data/xena:/df jvivian/deseq2 /data/work_dir/deseq2.R /df/tcga_gtex_counts_protein_coding.tsv /data/work_dir/tissue.vector /data/work_dir/disease.vector\n",
      "\n"
     ]
    }
   ],
   "source": [
    "for tissue in sorted(samples)[1:]:\n",
    "    run_deseq2(df_path=df_path, \n",
    "               tissue=tissue, \n",
    "               output_dir=os.path.join(os.getcwd(), tissue), \n",
    "               cores=12)"
   ]
  }
 ],
 "metadata": {
  "kernelspec": {
   "display_name": "Python 2",
   "language": "python",
   "name": "python2"
  },
  "language_info": {
   "codemirror_mode": {
    "name": "ipython",
    "version": 2
   },
   "file_extension": ".py",
   "mimetype": "text/x-python",
   "name": "python",
   "nbconvert_exporter": "python",
   "pygments_lexer": "ipython2",
   "version": "2.7.13"
  }
 },
 "nbformat": 4,
 "nbformat_minor": 2
}
