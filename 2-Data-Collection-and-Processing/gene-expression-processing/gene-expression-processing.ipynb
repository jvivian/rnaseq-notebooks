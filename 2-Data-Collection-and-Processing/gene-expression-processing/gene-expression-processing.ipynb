{
 "cells": [
  {
   "cell_type": "markdown",
   "metadata": {},
   "source": [
    "# Process Gene Expression Dataframe\n",
    "\n",
    "Processing gene expression dataframe from Xena for downstream analysis"
   ]
  },
  {
   "cell_type": "code",
   "execution_count": 12,
   "metadata": {
    "collapsed": true
   },
   "outputs": [],
   "source": [
    "import rnaseq_lib as r\n",
    "import pandas as pd\n",
    "import os"
   ]
  },
  {
   "cell_type": "markdown",
   "metadata": {},
   "source": [
    "- Expected counts downloaded from [Xena](https://xenabrowser.net/datapages/?host=https://toil.xenahubs.net)\n",
    "- Metadata table processed from [this notebook](https://github.com/jvivian/ipython_notebooks/tree/master/tcga-gtex-metadata)"
   ]
  },
  {
   "cell_type": "markdown",
   "metadata": {},
   "source": [
    "## Inputs"
   ]
  },
  {
   "cell_type": "code",
   "execution_count": 2,
   "metadata": {},
   "outputs": [
    {
     "name": "stdout",
     "output_type": "stream",
     "text": [
      "CPU times: user 16min 37s, sys: 2min 9s, total: 18min 47s\n",
      "Wall time: 18min 57s\n"
     ]
    }
   ],
   "source": [
    "%%time\n",
    "df_path = '/mnt/rna-seq-analysis/data/xena/TcgaTargetGtex_gene_expected_count'\n",
    "met_path = '/mnt/rna-seq-analysis/metadata/tcga_gtex_metadata_intersect.tsv'\n",
    "df = pd.read_csv(df_path, sep='\\t', index_col=0)\n",
    "met = pd.read_csv(met_path, sep='\\t', index_col=0)"
   ]
  },
  {
   "cell_type": "markdown",
   "metadata": {},
   "source": [
    "These files are too big for github, so set directory where all intermediate files will be written"
   ]
  },
  {
   "cell_type": "code",
   "execution_count": 3,
   "metadata": {
    "collapsed": true
   },
   "outputs": [],
   "source": [
    "workdir = '/mnt/gene-expression-processing'"
   ]
  },
  {
   "cell_type": "markdown",
   "metadata": {},
   "source": [
    "## Process Dataframe"
   ]
  },
  {
   "cell_type": "markdown",
   "metadata": {},
   "source": [
    "### I. Subset TCGA and GTEx samples"
   ]
  },
  {
   "cell_type": "code",
   "execution_count": 4,
   "metadata": {},
   "outputs": [
    {
     "name": "stdout",
     "output_type": "stream",
     "text": [
      "TCGA Samples: 10830\tGTEx Samples: 7776\n"
     ]
    }
   ],
   "source": [
    "tcga_samples = [x for x in df.columns if x.startswith('TCGA')]\n",
    "gtex_samples = [x for x in df.columns if x.startswith('GTEX')]\n",
    "print 'TCGA Samples: {}\\tGTEx Samples: {}'.format(len(tcga_samples), len(gtex_samples))"
   ]
  },
  {
   "cell_type": "code",
   "execution_count": 6,
   "metadata": {},
   "outputs": [
    {
     "data": {
      "text/plain": [
       "(60498, 18606)"
      ]
     },
     "execution_count": 6,
     "metadata": {},
     "output_type": "execute_result"
    }
   ],
   "source": [
    "df = df[tcga_samples + gtex_samples]\n",
    "df.shape"
   ]
  },
  {
   "cell_type": "markdown",
   "metadata": {},
   "source": [
    "### II. Reverse Xena normalization\n",
    "\n",
    "Xena normalizes data: log2(x + 1). Reverse normalization to get expected counts"
   ]
  },
  {
   "cell_type": "code",
   "execution_count": 8,
   "metadata": {},
   "outputs": [
    {
     "name": "stdout",
     "output_type": "stream",
     "text": [
      "CPU times: user 1min 4s, sys: 23.2 s, total: 1min 28s\n",
      "Wall time: 1min 28s\n"
     ]
    }
   ],
   "source": [
    "%%time\n",
    "df = df.apply(lambda x: 2**x - 1)"
   ]
  },
  {
   "cell_type": "markdown",
   "metadata": {},
   "source": [
    "save intermediate"
   ]
  },
  {
   "cell_type": "code",
   "execution_count": 13,
   "metadata": {},
   "outputs": [],
   "source": [
    "r.utils.mkdir_p(workdir)\n",
    "out = os.path.join(workdir, 'TCGA-GTEx-RSEM-gene-exp-counts.tsv')\n",
    "df.to_csv(out, sep='\\t')"
   ]
  },
  {
   "cell_type": "markdown",
   "metadata": {},
   "source": [
    "### III. Subset Protein-Coding Genes"
   ]
  },
  {
   "cell_type": "code",
   "execution_count": 26,
   "metadata": {},
   "outputs": [
    {
     "name": "stdout",
     "output_type": "stream",
     "text": [
      "19797 protein-coding genes found\n"
     ]
    }
   ],
   "source": [
    "genes = []\n",
    "gtf_path = '/mnt/rna-seq-analysis/metadata/gencode.v23.annotation.gtf'\n",
    "with open(gtf_path, 'r') as f:\n",
    "    for line in f:\n",
    "        if line.startswith('#'):\n",
    "            continue\n",
    "        line = r.gtf.parse(line)\n",
    "        if line['feature'] == 'gene':\n",
    "            if line['gene_type'] == 'protein_coding':\n",
    "                genes.append(line['gene_id'])\n",
    "print '{} protein-coding genes found'.format(len(genes))"
   ]
  },
  {
   "cell_type": "markdown",
   "metadata": {},
   "source": [
    "Save intermediate"
   ]
  },
  {
   "cell_type": "code",
   "execution_count": 29,
   "metadata": {},
   "outputs": [],
   "source": [
    "df = df.loc[genes]\n",
    "out = os.path.join(workdir, 'TCGA-GTEx-RSEM-counts-protein-coding.tsv')\n",
    "df.to_csv(out, sep='\\t')"
   ]
  },
  {
   "cell_type": "markdown",
   "metadata": {},
   "source": [
    "Save TCGA and GTEx dataframes for normalizing"
   ]
  },
  {
   "cell_type": "code",
   "execution_count": 33,
   "metadata": {},
   "outputs": [
    {
     "name": "stdout",
     "output_type": "stream",
     "text": [
      "CPU times: user 3min 17s, sys: 33.2 s, total: 3min 50s\n",
      "Wall time: 3min 52s\n",
      "CPU times: user 2min 13s, sys: 19.5 s, total: 2min 32s\n",
      "Wall time: 2min 33s\n"
     ]
    }
   ],
   "source": [
    "tcga_path = os.path.join(workdir, 'TCGA-RSEM-counts-protein-coding.tsv')\n",
    "gtex_path = os.path.join(workdir, 'GTEx-RSEM-counts-protein-coding.tsv')\n",
    "%time df[tcga_samples].to_csv(tcga_path, sep='\\t')\n",
    "%time df[gtex_samples].to_csv(gtex_path, sep='\\t')"
   ]
  },
  {
   "cell_type": "markdown",
   "metadata": {},
   "source": [
    "### IV. Run DESeq2 Normalization"
   ]
  },
  {
   "cell_type": "code",
   "execution_count": 34,
   "metadata": {},
   "outputs": [
    {
     "name": "stdout",
     "output_type": "stream",
     "text": [
      "\n",
      "Calling: docker run --rm -v /mnt/gene-expression-processing:/data -v /mnt/gene-expression-processing:/df jvivian/deseq2 /data/work_dir/deseq2.R\n",
      "\n",
      "CPU times: user 124 ms, sys: 1.7 s, total: 1.82 s\n",
      "Wall time: 25min 27s\n"
     ]
    },
    {
     "data": {
      "text/plain": [
       "'/mnt/gene-expression-processing/GTEx-RSEM-counts-protein-coding.deseq2-normalized.tsv'"
      ]
     },
     "execution_count": 34,
     "metadata": {},
     "output_type": "execute_result"
    }
   ],
   "source": [
    "%time tcga_norm = r.R.deseq2_normalize(df_path=gtex_path, output_dir=workdir, map_gene_names=False)"
   ]
  },
  {
   "cell_type": "code",
   "execution_count": 35,
   "metadata": {},
   "outputs": [
    {
     "name": "stdout",
     "output_type": "stream",
     "text": [
      "\n",
      "Calling: docker run --rm -v /mnt/gene-expression-processing:/data -v /mnt/gene-expression-processing:/df jvivian/deseq2 /data/work_dir/deseq2.R\n",
      "\n",
      "CPU times: user 256 ms, sys: 1.54 s, total: 1.79 s\n",
      "Wall time: 47min 36s\n"
     ]
    },
    {
     "data": {
      "text/plain": [
       "'/mnt/gene-expression-processing/TCGA-RSEM-counts-protein-coding.deseq2-normalized.tsv'"
      ]
     },
     "execution_count": 35,
     "metadata": {},
     "output_type": "execute_result"
    }
   ],
   "source": [
    "%time gtex_norm = r.R.deseq2_normalize(df_path=tcga_path, output_dir=workdir, map_gene_names=False)"
   ]
  },
  {
   "cell_type": "markdown",
   "metadata": {
    "collapsed": true
   },
   "source": [
    "### V. Combine and Upload Final Table"
   ]
  },
  {
   "cell_type": "code",
   "execution_count": 38,
   "metadata": {},
   "outputs": [
    {
     "data": {
      "text/plain": [
       "(19797, 18606)"
      ]
     },
     "execution_count": 38,
     "metadata": {},
     "output_type": "execute_result"
    }
   ],
   "source": [
    "df = pd.concat([pd.read_csv(tcga_norm, index_col=0, sep='\\t'), \n",
    "                pd.read_csv(gtex_norm, index_col=0, sep='\\t')], axis=1)\n",
    "df.shape"
   ]
  },
  {
   "cell_type": "code",
   "execution_count": 40,
   "metadata": {},
   "outputs": [],
   "source": [
    "df_path = os.path.join(workdir, 'TCGA-GTEx-RSEM-counts-protein-coding.deseq2-normalized.tsv')\n",
    "df.to_csv(df_path, sep='\\t')"
   ]
  },
  {
   "cell_type": "code",
   "execution_count": null,
   "metadata": {
    "collapsed": true
   },
   "outputs": [],
   "source": [
    "r.web.synapse.upload_file(df_path, login='jtvivian@gmail.com', parent=r.web.synapse.expression)"
   ]
  }
 ],
 "metadata": {
  "kernelspec": {
   "display_name": "Python 2",
   "language": "python",
   "name": "python2"
  },
  "language_info": {
   "codemirror_mode": {
    "name": "ipython",
    "version": 2
   },
   "file_extension": ".py",
   "mimetype": "text/x-python",
   "name": "python",
   "nbconvert_exporter": "python",
   "pygments_lexer": "ipython2",
   "version": "2.7.13"
  }
 },
 "nbformat": 4,
 "nbformat_minor": 2
}
