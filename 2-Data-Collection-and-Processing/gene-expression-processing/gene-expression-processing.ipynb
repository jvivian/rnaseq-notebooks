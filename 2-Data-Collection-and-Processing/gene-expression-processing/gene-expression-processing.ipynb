{
 "cells": [
  {
   "cell_type": "markdown",
   "metadata": {},
   "source": [
    "# Process Gene Expression Dataframe\n",
    "\n",
    "Processing gene expression dataframe from Xena for downstream analysis"
   ]
  },
  {
   "cell_type": "code",
   "execution_count": 12,
   "metadata": {
    "collapsed": true
   },
   "outputs": [],
   "source": [
    "import rnaseq_lib as r\n",
    "import pandas as pd\n",
    "import os"
   ]
  },
  {
   "cell_type": "markdown",
   "metadata": {},
   "source": [
    "- Expected counts downloaded from [Xena](https://xenabrowser.net/datapages/?host=https://toil.xenahubs.net)\n",
    "- Metadata table processed from [this notebook](https://github.com/jvivian/ipython_notebooks/tree/master/tcga-gtex-metadata)"
   ]
  },
  {
   "cell_type": "markdown",
   "metadata": {},
   "source": [
    "## Inputs"
   ]
  },
  {
   "cell_type": "code",
   "execution_count": 2,
   "metadata": {},
   "outputs": [
    {
     "name": "stdout",
     "output_type": "stream",
     "text": [
      "CPU times: user 16min 37s, sys: 2min 9s, total: 18min 47s\n",
      "Wall time: 18min 57s\n"
     ]
    }
   ],
   "source": [
    "%%time\n",
    "df_path = '/mnt/rna-seq-analysis/data/xena/TcgaTargetGtex_gene_expected_count'\n",
    "met_path = '/mnt/rna-seq-analysis/metadata/tcga_gtex_metadata_intersect.tsv'\n",
    "df = pd.read_csv(df_path, sep='\\t', index_col=0)\n",
    "met = pd.read_csv(met_path, sep='\\t', index_col=0)"
   ]
  },
  {
   "cell_type": "markdown",
   "metadata": {},
   "source": [
    "These files are too big for github, so set directory where all intermediate files will be written"
   ]
  },
  {
   "cell_type": "code",
   "execution_count": 3,
   "metadata": {
    "collapsed": true
   },
   "outputs": [],
   "source": [
    "workdir = '/mnt/gene-expression-processing'"
   ]
  },
  {
   "cell_type": "markdown",
   "metadata": {},
   "source": [
    "## Process Dataframe"
   ]
  },
  {
   "cell_type": "markdown",
   "metadata": {},
   "source": [
    "### I. Subset TCGA and GTEx samples"
   ]
  },
  {
   "cell_type": "code",
   "execution_count": 4,
   "metadata": {},
   "outputs": [
    {
     "name": "stdout",
     "output_type": "stream",
     "text": [
      "TCGA Samples: 10830\tGTEx Samples: 7776\n"
     ]
    }
   ],
   "source": [
    "tcga_samples = [x for x in df.columns if x.startswith('TCGA')]\n",
    "gtex_samples = [x for x in df.columns if x.startswith('GTEX')]\n",
    "print 'TCGA Samples: {}\\tGTEx Samples: {}'.format(len(tcga_samples), len(gtex_samples))"
   ]
  },
  {
   "cell_type": "code",
   "execution_count": 6,
   "metadata": {},
   "outputs": [
    {
     "data": {
      "text/plain": [
       "(60498, 18606)"
      ]
     },
     "execution_count": 6,
     "metadata": {},
     "output_type": "execute_result"
    }
   ],
   "source": [
    "df = df[tcga_samples + gtex_samples]\n",
    "df.shape"
   ]
  },
  {
   "cell_type": "markdown",
   "metadata": {},
   "source": [
    "### II. Reverse Xena normalization\n",
    "\n",
    "Xena normalizes data: log2(x + 1). Reverse normalization to get expected counts"
   ]
  },
  {
   "cell_type": "code",
   "execution_count": 8,
   "metadata": {},
   "outputs": [
    {
     "name": "stdout",
     "output_type": "stream",
     "text": [
      "CPU times: user 1min 4s, sys: 23.2 s, total: 1min 28s\n",
      "Wall time: 1min 28s\n"
     ]
    }
   ],
   "source": [
    "%%time\n",
    "df = df.apply(lambda x: 2**x - 1)"
   ]
  },
  {
   "cell_type": "markdown",
   "metadata": {},
   "source": [
    "save intermediate"
   ]
  },
  {
   "cell_type": "code",
   "execution_count": 13,
   "metadata": {},
   "outputs": [],
   "source": [
    "r.utils.mkdir_p(workdir)\n",
    "out = os.path.join(workdir, 'TCGA-GTEx-RSEM-gene-exp-counts.tsv')\n",
    "df.to_csv(out, sep='\\t')"
   ]
  },
  {
   "cell_type": "markdown",
   "metadata": {},
   "source": [
    "### III. Subset Protein-Coding Genes"
   ]
  },
  {
   "cell_type": "code",
   "execution_count": 26,
   "metadata": {},
   "outputs": [
    {
     "name": "stdout",
     "output_type": "stream",
     "text": [
      "19797 protein-coding genes found\n"
     ]
    }
   ],
   "source": [
    "genes = []\n",
    "gtf_path = '/mnt/rna-seq-analysis/metadata/gencode.v23.annotation.gtf'\n",
    "with open(gtf_path, 'r') as f:\n",
    "    for line in f:\n",
    "        if line.startswith('#'):\n",
    "            continue\n",
    "        line = r.gtf.parse(line)\n",
    "        if line['feature'] == 'gene':\n",
    "            if line['gene_type'] == 'protein_coding':\n",
    "                genes.append(line['gene_id'])\n",
    "print '{} protein-coding genes found'.format(len(genes))"
   ]
  },
  {
   "cell_type": "markdown",
   "metadata": {},
   "source": [
    "Save intermediate"
   ]
  },
  {
   "cell_type": "code",
   "execution_count": 29,
   "metadata": {},
   "outputs": [],
   "source": [
    "df = df.loc[genes]\n",
    "out = os.path.join(workdir, 'TCGA-GTEx-RSEM-counts-protein-coding.tsv')\n",
    "df.to_csv(out, sep='\\t')"
   ]
  },
  {
   "cell_type": "markdown",
   "metadata": {},
   "source": [
    "Save TCGA and GTEx dataframes for normalizing"
   ]
  },
  {
   "cell_type": "code",
   "execution_count": 33,
   "metadata": {},
   "outputs": [
    {
     "name": "stdout",
     "output_type": "stream",
     "text": [
      "CPU times: user 3min 17s, sys: 33.2 s, total: 3min 50s\n",
      "Wall time: 3min 52s\n",
      "CPU times: user 2min 13s, sys: 19.5 s, total: 2min 32s\n",
      "Wall time: 2min 33s\n"
     ]
    }
   ],
   "source": [
    "tcga_path = os.path.join(workdir, 'TCGA-RSEM-counts-protein-coding.tsv')\n",
    "gtex_path = os.path.join(workdir, 'GTEx-RSEM-counts-protein-coding.tsv')\n",
    "%time df[tcga_samples].to_csv(tcga_path, sep='\\t')\n",
    "%time df[gtex_samples].to_csv(gtex_path, sep='\\t')"
   ]
  },
  {
   "cell_type": "markdown",
   "metadata": {},
   "source": [
    "### IV. Run DESeq2 Normalization"
   ]
  },
  {
   "cell_type": "code",
   "execution_count": 34,
   "metadata": {},
   "outputs": [
    {
     "name": "stdout",
     "output_type": "stream",
     "text": [
      "\n",
      "Calling: docker run --rm -v /mnt/gene-expression-processing:/data -v /mnt/gene-expression-processing:/df jvivian/deseq2 /data/work_dir/deseq2.R\n",
      "\n",
      "CPU times: user 124 ms, sys: 1.7 s, total: 1.82 s\n",
      "Wall time: 25min 27s\n"
     ]
    },
    {
     "data": {
      "text/plain": [
       "'/mnt/gene-expression-processing/GTEx-RSEM-counts-protein-coding.deseq2-normalized.tsv'"
      ]
     },
     "execution_count": 34,
     "metadata": {},
     "output_type": "execute_result"
    }
   ],
   "source": [
    "%time tcga_norm = r.R.deseq2_normalize(df_path=gtex_path, output_dir=workdir, map_gene_names=False)"
   ]
  },
  {
   "cell_type": "code",
   "execution_count": 35,
   "metadata": {},
   "outputs": [
    {
     "name": "stdout",
     "output_type": "stream",
     "text": [
      "\n",
      "Calling: docker run --rm -v /mnt/gene-expression-processing:/data -v /mnt/gene-expression-processing:/df jvivian/deseq2 /data/work_dir/deseq2.R\n",
      "\n",
      "CPU times: user 256 ms, sys: 1.54 s, total: 1.79 s\n",
      "Wall time: 47min 36s\n"
     ]
    },
    {
     "data": {
      "text/plain": [
       "'/mnt/gene-expression-processing/TCGA-RSEM-counts-protein-coding.deseq2-normalized.tsv'"
      ]
     },
     "execution_count": 35,
     "metadata": {},
     "output_type": "execute_result"
    }
   ],
   "source": [
    "%time gtex_norm = r.R.deseq2_normalize(df_path=tcga_path, output_dir=workdir, map_gene_names=False)"
   ]
  },
  {
   "cell_type": "markdown",
   "metadata": {
    "collapsed": true
   },
   "source": [
    "### V. Combine and Upload Final Table"
   ]
  },
  {
   "cell_type": "code",
   "execution_count": 38,
   "metadata": {},
   "outputs": [
    {
     "data": {
      "text/plain": [
       "(19797, 18606)"
      ]
     },
     "execution_count": 38,
     "metadata": {},
     "output_type": "execute_result"
    }
   ],
   "source": [
    "df = pd.concat([pd.read_csv(tcga_norm, index_col=0, sep='\\t'), \n",
    "                pd.read_csv(gtex_norm, index_col=0, sep='\\t')], axis=1)\n",
    "df.shape"
   ]
  },
  {
   "cell_type": "code",
   "execution_count": 40,
   "metadata": {},
   "outputs": [],
   "source": [
    "df_path = os.path.join(workdir, 'TCGA-GTEx-RSEM-counts-protein-coding.deseq2-normalized.tsv')\n",
    "df.to_csv(df_path, sep='\\t')"
   ]
  },
  {
   "cell_type": "code",
   "execution_count": 43,
   "metadata": {},
   "outputs": [
    {
     "data": {
      "text/plain": [
       "{'LESSOPEN': '| /usr/bin/lesspipe %s', 'SSH_CLIENT': '10.60.0.54 57372 22', 'LOGNAME': 'ubuntu', 'USER': 'ubuntu', 'PATH': '/home/ubuntu/anaconda2/bin:/home/ubuntu/anaconda2/bin:/home/ubuntu/anaconda3/bin:/home/ubuntu/anaconda2/bin:/home/ubuntu/anaconda3/bin:/usr/local/sbin:/usr/local/bin:/usr/sbin:/usr/bin:/sbin:/bin:/usr/games:/usr/local/games', 'HOME': '/home/ubuntu', 'LANG': 'en_US.UTF-8', 'TERM': 'xterm-color', 'SHELL': '/bin/bash', 'SHLVL': '2', 'WINDOW': '0', 'XDG_RUNTIME_DIR': '/run/user/1000', 'JPY_PARENT_PID': '29896', 'GIT_PAGER': 'cat', 'SYNAPSE_PASS': 'Ripper!05', 'XDG_SESSION_ID': '35489', 'STY': '7677.jupyter', '_': '/usr/bin/env', 'TERMCAP': 'SC|screen|VT 100/ANSI X3.64 virtual terminal:\\\\\\n\\t:DO=\\\\E[%dB:LE=\\\\E[%dD:RI=\\\\E[%dC:UP=\\\\E[%dA:bs:bt=\\\\E[Z:\\\\\\n\\t:cd=\\\\E[J:ce=\\\\E[K:cl=\\\\E[H\\\\E[J:cm=\\\\E[%i%d;%dH:ct=\\\\E[3g:\\\\\\n\\t:do=^J:nd=\\\\E[C:pt:rc=\\\\E8:rs=\\\\Ec:sc=\\\\E7:st=\\\\EH:up=\\\\EM:\\\\\\n\\t:le=^H:bl=^G:cr=^M:it#8:ho=\\\\E[H:nw=\\\\EE:ta=^I:is=\\\\E)0:\\\\\\n\\t:li#23:co#110:am:xn:xv:LP:sr=\\\\EM:al=\\\\E[L:AL=\\\\E[%dL:\\\\\\n\\t:cs=\\\\E[%i%d;%dr:dl=\\\\E[M:DL=\\\\E[%dM:dc=\\\\E[P:DC=\\\\E[%dP:\\\\\\n\\t:im=\\\\E[4h:ei=\\\\E[4l:mi:IC=\\\\E[%d@:ks=\\\\E[?1h\\\\E=:\\\\\\n\\t:ke=\\\\E[?1l\\\\E>:vi=\\\\E[?25l:ve=\\\\E[34h\\\\E[?25h:vs=\\\\E[34l:\\\\\\n\\t:ti=\\\\E[?1049h:te=\\\\E[?1049l:us=\\\\E[4m:ue=\\\\E[24m:so=\\\\E[3m:\\\\\\n\\t:se=\\\\E[23m:mb=\\\\E[5m:md=\\\\E[1m:mh=\\\\E[2m:mr=\\\\E[7m:\\\\\\n\\t:me=\\\\E[m:ms:\\\\\\n\\t:Co#8:pa#64:AF=\\\\E[3%dm:AB=\\\\E[4%dm:op=\\\\E[39;49m:AX:\\\\\\n\\t:vb=\\\\Eg:G0:as=\\\\E(0:ae=\\\\E(B:\\\\\\n\\t:ac=\\\\140\\\\140aaffggjjkkllmmnnooppqqrrssttuuvvwwxxyyzz{{||}}~~..--++,,hhII00:\\\\\\n\\t:po=\\\\E[5i:pf=\\\\E[4i:Km=\\\\E[M:k0=\\\\E[10~:k1=\\\\EOP:k2=\\\\EOQ:\\\\\\n\\t:k3=\\\\EOR:k4=\\\\EOS:k5=\\\\E[15~:k6=\\\\E[17~:k7=\\\\E[18~:\\\\\\n\\t:k8=\\\\E[19~:k9=\\\\E[20~:k;=\\\\E[21~:F1=\\\\E[23~:F2=\\\\E[24~:\\\\\\n\\t:F3=\\\\E[1;2P:F4=\\\\E[1;2Q:F5=\\\\E[1;2R:F6=\\\\E[1;2S:\\\\\\n\\t:F7=\\\\E[15;2~:F8=\\\\E[17;2~:F9=\\\\E[18;2~:FA=\\\\E[19;2~:kb=\\x7f:\\\\\\n\\t:K2=\\\\EOE:kB=\\\\E[Z:kF=\\\\E[1;2B:kR=\\\\E[1;2A:*4=\\\\E[3;2~:\\\\\\n\\t:*7=\\\\E[1;2F:#2=\\\\E[1;2H:#3=\\\\E[2;2~:#4=\\\\E[1;2D:%c=\\\\E[6;2~:\\\\\\n\\t:%e=\\\\E[5;2~:%i=\\\\E[1;2C:kh=\\\\E[1~:@1=\\\\E[1~:kH=\\\\E[4~:\\\\\\n\\t:@7=\\\\E[4~:kN=\\\\E[6~:kP=\\\\E[5~:kI=\\\\E[2~:kD=\\\\E[3~:ku=\\\\EOA:\\\\\\n\\t:kd=\\\\EOB:kr=\\\\EOC:kl=\\\\EOD:km:', 'SSH_CONNECTION': '10.60.0.54 57372 10.101.0.20 22', 'LESSCLOSE': '/usr/bin/lesspipe %s %s', 'MPLBACKEND': 'module://ipykernel.pylab.backend_inline', 'SSH_TTY': '/dev/pts/0', 'OLDPWD': '/home/ubuntu/rnaseq-notebooks/DESeq2-Runs', 'CLICOLOR': '1', 'PWD': '/home/ubuntu/rnaseq-notebooks', 'MAIL': '/var/mail/ubuntu', 'LS_COLORS': 'rs=0:di=01;34:ln=01;36:mh=00:pi=40;33:so=01;35:do=01;35:bd=40;33;01:cd=40;33;01:or=40;31;01:su=37;41:sg=30;43:ca=30;41:tw=30;42:ow=34;42:st=37;44:ex=01;32:*.tar=01;31:*.tgz=01;31:*.arc=01;31:*.arj=01;31:*.taz=01;31:*.lha=01;31:*.lz4=01;31:*.lzh=01;31:*.lzma=01;31:*.tlz=01;31:*.txz=01;31:*.tzo=01;31:*.t7z=01;31:*.zip=01;31:*.z=01;31:*.Z=01;31:*.dz=01;31:*.gz=01;31:*.lrz=01;31:*.lz=01;31:*.lzo=01;31:*.xz=01;31:*.bz2=01;31:*.bz=01;31:*.tbz=01;31:*.tbz2=01;31:*.tz=01;31:*.deb=01;31:*.rpm=01;31:*.jar=01;31:*.war=01;31:*.ear=01;31:*.sar=01;31:*.rar=01;31:*.alz=01;31:*.ace=01;31:*.zoo=01;31:*.cpio=01;31:*.7z=01;31:*.rz=01;31:*.cab=01;31:*.jpg=01;35:*.jpeg=01;35:*.gif=01;35:*.bmp=01;35:*.pbm=01;35:*.pgm=01;35:*.ppm=01;35:*.tga=01;35:*.xbm=01;35:*.xpm=01;35:*.tif=01;35:*.tiff=01;35:*.png=01;35:*.svg=01;35:*.svgz=01;35:*.mng=01;35:*.pcx=01;35:*.mov=01;35:*.mpg=01;35:*.mpeg=01;35:*.m2v=01;35:*.mkv=01;35:*.webm=01;35:*.ogm=01;35:*.mp4=01;35:*.m4v=01;35:*.mp4v=01;35:*.vob=01;35:*.qt=01;35:*.nuv=01;35:*.wmv=01;35:*.asf=01;35:*.rm=01;35:*.rmvb=01;35:*.flc=01;35:*.avi=01;35:*.fli=01;35:*.flv=01;35:*.gl=01;35:*.dl=01;35:*.xcf=01;35:*.xwd=01;35:*.yuv=01;35:*.cgm=01;35:*.emf=01;35:*.axv=01;35:*.anx=01;35:*.ogv=01;35:*.ogx=01;35:*.aac=00;36:*.au=00;36:*.flac=00;36:*.m4a=00;36:*.mid=00;36:*.midi=00;36:*.mka=00;36:*.mp3=00;36:*.mpc=00;36:*.ogg=00;36:*.ra=00;36:*.wav=00;36:*.axa=00;36:*.oga=00;36:*.spx=00;36:*.xspf=00;36:', 'PAGER': 'cat'}"
      ]
     },
     "execution_count": 43,
     "metadata": {},
     "output_type": "execute_result"
    }
   ],
   "source": [
    "os.environ['SYNAPSE_PASS\n",
    "           ']"
   ]
  },
  {
   "cell_type": "code",
   "execution_count": 42,
   "metadata": {
    "scrolled": false
   },
   "outputs": [
    {
     "ename": "TypeError",
     "evalue": "{'LESSOPEN': '| /usr/bin/lesspipe %s', 'SSH_CLIENT': '10.60.0.54 57372 22', 'LOGNAME': 'ubuntu', 'USER': 'ubuntu', 'PATH': '/home/ubuntu/anaconda2/bin:/home/ubuntu/anaconda2/bin:/home/ubuntu/anaconda3/bin:/home/ubuntu/anaconda2/bin:/home/ubuntu/anaconda3/bin:/usr/local/sbin:/usr/local/bin:/usr/sbin:/usr/bin:/sbin:/bin:/usr/games:/usr/local/games', 'HOME': '/home/ubuntu', 'LANG': 'en_US.UTF-8', 'TERM': 'xterm-color', 'SHELL': '/bin/bash', 'SHLVL': '2', 'WINDOW': '0', 'XDG_RUNTIME_DIR': '/run/user/1000', 'JPY_PARENT_PID': '29896', 'GIT_PAGER': 'cat', 'SYNAPSE_PASS': 'Ripper!05', 'XDG_SESSION_ID': '35489', 'STY': '7677.jupyter', '_': '/usr/bin/env', 'TERMCAP': 'SC|screen|VT 100/ANSI X3.64 virtual terminal:\\\\\\n\\t:DO=\\\\E[%dB:LE=\\\\E[%dD:RI=\\\\E[%dC:UP=\\\\E[%dA:bs:bt=\\\\E[Z:\\\\\\n\\t:cd=\\\\E[J:ce=\\\\E[K:cl=\\\\E[H\\\\E[J:cm=\\\\E[%i%d;%dH:ct=\\\\E[3g:\\\\\\n\\t:do=^J:nd=\\\\E[C:pt:rc=\\\\E8:rs=\\\\Ec:sc=\\\\E7:st=\\\\EH:up=\\\\EM:\\\\\\n\\t:le=^H:bl=^G:cr=^M:it#8:ho=\\\\E[H:nw=\\\\EE:ta=^I:is=\\\\E)0:\\\\\\n\\t:li#23:co#110:am:xn:xv:LP:sr=\\\\EM:al=\\\\E[L:AL=\\\\E[%dL:\\\\\\n\\t:cs=\\\\E[%i%d;%dr:dl=\\\\E[M:DL=\\\\E[%dM:dc=\\\\E[P:DC=\\\\E[%dP:\\\\\\n\\t:im=\\\\E[4h:ei=\\\\E[4l:mi:IC=\\\\E[%d@:ks=\\\\E[?1h\\\\E=:\\\\\\n\\t:ke=\\\\E[?1l\\\\E>:vi=\\\\E[?25l:ve=\\\\E[34h\\\\E[?25h:vs=\\\\E[34l:\\\\\\n\\t:ti=\\\\E[?1049h:te=\\\\E[?1049l:us=\\\\E[4m:ue=\\\\E[24m:so=\\\\E[3m:\\\\\\n\\t:se=\\\\E[23m:mb=\\\\E[5m:md=\\\\E[1m:mh=\\\\E[2m:mr=\\\\E[7m:\\\\\\n\\t:me=\\\\E[m:ms:\\\\\\n\\t:Co#8:pa#64:AF=\\\\E[3%dm:AB=\\\\E[4%dm:op=\\\\E[39;49m:AX:\\\\\\n\\t:vb=\\\\Eg:G0:as=\\\\E(0:ae=\\\\E(B:\\\\\\n\\t:ac=\\\\140\\\\140aaffggjjkkllmmnnooppqqrrssttuuvvwwxxyyzz{{||}}~~..--++,,hhII00:\\\\\\n\\t:po=\\\\E[5i:pf=\\\\E[4i:Km=\\\\E[M:k0=\\\\E[10~:k1=\\\\EOP:k2=\\\\EOQ:\\\\\\n\\t:k3=\\\\EOR:k4=\\\\EOS:k5=\\\\E[15~:k6=\\\\E[17~:k7=\\\\E[18~:\\\\\\n\\t:k8=\\\\E[19~:k9=\\\\E[20~:k;=\\\\E[21~:F1=\\\\E[23~:F2=\\\\E[24~:\\\\\\n\\t:F3=\\\\E[1;2P:F4=\\\\E[1;2Q:F5=\\\\E[1;2R:F6=\\\\E[1;2S:\\\\\\n\\t:F7=\\\\E[15;2~:F8=\\\\E[17;2~:F9=\\\\E[18;2~:FA=\\\\E[19;2~:kb=\\x7f:\\\\\\n\\t:K2=\\\\EOE:kB=\\\\E[Z:kF=\\\\E[1;2B:kR=\\\\E[1;2A:*4=\\\\E[3;2~:\\\\\\n\\t:*7=\\\\E[1;2F:#2=\\\\E[1;2H:#3=\\\\E[2;2~:#4=\\\\E[1;2D:%c=\\\\E[6;2~:\\\\\\n\\t:%e=\\\\E[5;2~:%i=\\\\E[1;2C:kh=\\\\E[1~:@1=\\\\E[1~:kH=\\\\E[4~:\\\\\\n\\t:@7=\\\\E[4~:kN=\\\\E[6~:kP=\\\\E[5~:kI=\\\\E[2~:kD=\\\\E[3~:ku=\\\\EOA:\\\\\\n\\t:kd=\\\\EOB:kr=\\\\EOC:kl=\\\\EOD:km:', 'SSH_CONNECTION': '10.60.0.54 57372 10.101.0.20 22', 'LESSCLOSE': '/usr/bin/lesspipe %s %s', 'MPLBACKEND': 'module://ipykernel.pylab.backend_inline', 'SSH_TTY': '/dev/pts/0', 'OLDPWD': '/home/ubuntu/rnaseq-notebooks/DESeq2-Runs', 'CLICOLOR': '1', 'PWD': '/home/ubuntu/rnaseq-notebooks', 'MAIL': '/var/mail/ubuntu', 'LS_COLORS': 'rs=0:di=01;34:ln=01;36:mh=00:pi=40;33:so=01;35:do=01;35:bd=40;33;01:cd=40;33;01:or=40;31;01:su=37;41:sg=30;43:ca=30;41:tw=30;42:ow=34;42:st=37;44:ex=01;32:*.tar=01;31:*.tgz=01;31:*.arc=01;31:*.arj=01;31:*.taz=01;31:*.lha=01;31:*.lz4=01;31:*.lzh=01;31:*.lzma=01;31:*.tlz=01;31:*.txz=01;31:*.tzo=01;31:*.t7z=01;31:*.zip=01;31:*.z=01;31:*.Z=01;31:*.dz=01;31:*.gz=01;31:*.lrz=01;31:*.lz=01;31:*.lzo=01;31:*.xz=01;31:*.bz2=01;31:*.bz=01;31:*.tbz=01;31:*.tbz2=01;31:*.tz=01;31:*.deb=01;31:*.rpm=01;31:*.jar=01;31:*.war=01;31:*.ear=01;31:*.sar=01;31:*.rar=01;31:*.alz=01;31:*.ace=01;31:*.zoo=01;31:*.cpio=01;31:*.7z=01;31:*.rz=01;31:*.cab=01;31:*.jpg=01;35:*.jpeg=01;35:*.gif=01;35:*.bmp=01;35:*.pbm=01;35:*.pgm=01;35:*.ppm=01;35:*.tga=01;35:*.xbm=01;35:*.xpm=01;35:*.tif=01;35:*.tiff=01;35:*.png=01;35:*.svg=01;35:*.svgz=01;35:*.mng=01;35:*.pcx=01;35:*.mov=01;35:*.mpg=01;35:*.mpeg=01;35:*.m2v=01;35:*.mkv=01;35:*.webm=01;35:*.ogm=01;35:*.mp4=01;35:*.m4v=01;35:*.mp4v=01;35:*.vob=01;35:*.qt=01;35:*.nuv=01;35:*.wmv=01;35:*.asf=01;35:*.rm=01;35:*.rmvb=01;35:*.flc=01;35:*.avi=01;35:*.fli=01;35:*.flv=01;35:*.gl=01;35:*.dl=01;35:*.xcf=01;35:*.xwd=01;35:*.yuv=01;35:*.cgm=01;35:*.emf=01;35:*.axv=01;35:*.anx=01;35:*.ogv=01;35:*.ogx=01;35:*.aac=00;36:*.au=00;36:*.flac=00;36:*.m4a=00;36:*.mid=00;36:*.midi=00;36:*.mka=00;36:*.mp3=00;36:*.mpc=00;36:*.ogg=00;36:*.ra=00;36:*.wav=00;36:*.axa=00;36:*.oga=00;36:*.spx=00;36:*.xspf=00;36:', 'PAGER': 'cat'} is not JSON serializable",
     "output_type": "error",
     "traceback": [
      "\u001b[0;31m---------------------------------------------------------------------------\u001b[0m",
      "\u001b[0;31mTypeError\u001b[0m                                 Traceback (most recent call last)",
      "\u001b[0;32m<ipython-input-42-9eba247cb9d8>\u001b[0m in \u001b[0;36m<module>\u001b[0;34m()\u001b[0m\n\u001b[0;32m----> 1\u001b[0;31m \u001b[0mr\u001b[0m\u001b[0;34m.\u001b[0m\u001b[0mweb\u001b[0m\u001b[0;34m.\u001b[0m\u001b[0msynapse\u001b[0m\u001b[0;34m.\u001b[0m\u001b[0mupload_file\u001b[0m\u001b[0;34m(\u001b[0m\u001b[0mdf_path\u001b[0m\u001b[0;34m,\u001b[0m \u001b[0mlogin\u001b[0m\u001b[0;34m=\u001b[0m\u001b[0;34m'jtvivian@gmail.com'\u001b[0m\u001b[0;34m,\u001b[0m \u001b[0mparent\u001b[0m\u001b[0;34m=\u001b[0m\u001b[0mr\u001b[0m\u001b[0;34m.\u001b[0m\u001b[0mweb\u001b[0m\u001b[0;34m.\u001b[0m\u001b[0msynapse\u001b[0m\u001b[0;34m.\u001b[0m\u001b[0mexpression\u001b[0m\u001b[0;34m)\u001b[0m\u001b[0;34m\u001b[0m\u001b[0m\n\u001b[0m",
      "\u001b[0;32m/home/ubuntu/rnaseq-lib/src/rnaseq_lib/web/synapse.pyc\u001b[0m in \u001b[0;36mupload_file\u001b[0;34m(file_path, login, parent, description)\u001b[0m\n\u001b[1;32m     23\u001b[0m \u001b[0;34m\u001b[0m\u001b[0m\n\u001b[1;32m     24\u001b[0m     \u001b[0msyn\u001b[0m \u001b[0;34m=\u001b[0m \u001b[0mSynapse\u001b[0m\u001b[0;34m(\u001b[0m\u001b[0;34m)\u001b[0m\u001b[0;34m\u001b[0m\u001b[0m\n\u001b[0;32m---> 25\u001b[0;31m     \u001b[0msyn\u001b[0m\u001b[0;34m.\u001b[0m\u001b[0mlogin\u001b[0m\u001b[0;34m(\u001b[0m\u001b[0mlogin\u001b[0m\u001b[0;34m,\u001b[0m \u001b[0mos\u001b[0m\u001b[0;34m.\u001b[0m\u001b[0menviron\u001b[0m\u001b[0;34m[\u001b[0m\u001b[0;34m'SYNAPSE_PASS'\u001b[0m\u001b[0;34m]\u001b[0m\u001b[0;34m)\u001b[0m\u001b[0;34m\u001b[0m\u001b[0m\n\u001b[0m\u001b[1;32m     26\u001b[0m     \u001b[0msyn\u001b[0m\u001b[0;34m.\u001b[0m\u001b[0mstore\u001b[0m\u001b[0;34m(\u001b[0m\u001b[0mf\u001b[0m\u001b[0;34m)\u001b[0m\u001b[0;34m\u001b[0m\u001b[0m\n",
      "\u001b[0;32m/home/ubuntu/anaconda2/lib/python2.7/site-packages/synapseclient/client.pyc\u001b[0m in \u001b[0;36mlogin\u001b[0;34m(self, email, password, apiKey, sessionToken, rememberMe, silent, forced)\u001b[0m\n\u001b[1;32m    339\u001b[0m \u001b[0;34m\u001b[0m\u001b[0m\n\u001b[1;32m    340\u001b[0m         \u001b[0;32mtry\u001b[0m\u001b[0;34m:\u001b[0m\u001b[0;34m\u001b[0m\u001b[0m\n\u001b[0;32m--> 341\u001b[0;31m             \u001b[0mself\u001b[0m\u001b[0;34m.\u001b[0m\u001b[0musername\u001b[0m\u001b[0;34m,\u001b[0m \u001b[0mself\u001b[0m\u001b[0;34m.\u001b[0m\u001b[0mapiKey\u001b[0m \u001b[0;34m=\u001b[0m \u001b[0mself\u001b[0m\u001b[0;34m.\u001b[0m\u001b[0m_get_login_credentials\u001b[0m\u001b[0;34m(\u001b[0m\u001b[0memail\u001b[0m\u001b[0;34m,\u001b[0m \u001b[0mpassword\u001b[0m\u001b[0;34m,\u001b[0m \u001b[0mapiKey\u001b[0m\u001b[0;34m,\u001b[0m \u001b[0msessionToken\u001b[0m\u001b[0;34m)\u001b[0m\u001b[0;34m\u001b[0m\u001b[0m\n\u001b[0m\u001b[1;32m    342\u001b[0m         \u001b[0;32mexcept\u001b[0m \u001b[0mSynapseAuthenticationError\u001b[0m\u001b[0;34m:\u001b[0m\u001b[0;34m\u001b[0m\u001b[0m\n\u001b[1;32m    343\u001b[0m             \u001b[0;32mpass\u001b[0m\u001b[0;34m\u001b[0m\u001b[0m\n",
      "\u001b[0;32m/home/ubuntu/anaconda2/lib/python2.7/site-packages/synapseclient/client.pyc\u001b[0m in \u001b[0;36m_get_login_credentials\u001b[0;34m(self, username, password, apikey, sessiontoken)\u001b[0m\n\u001b[1;32m    402\u001b[0m         \u001b[0;31m# login using email and password\u001b[0m\u001b[0;34m\u001b[0m\u001b[0;34m\u001b[0m\u001b[0m\n\u001b[1;32m    403\u001b[0m         \u001b[0;32mif\u001b[0m \u001b[0musername\u001b[0m \u001b[0;32mis\u001b[0m \u001b[0;32mnot\u001b[0m \u001b[0mNone\u001b[0m \u001b[0;32mand\u001b[0m \u001b[0mpassword\u001b[0m \u001b[0;32mis\u001b[0m \u001b[0;32mnot\u001b[0m \u001b[0mNone\u001b[0m\u001b[0;34m:\u001b[0m\u001b[0;34m\u001b[0m\u001b[0m\n\u001b[0;32m--> 404\u001b[0;31m             \u001b[0msessionToken\u001b[0m \u001b[0;34m=\u001b[0m \u001b[0mself\u001b[0m\u001b[0;34m.\u001b[0m\u001b[0m_getSessionToken\u001b[0m\u001b[0;34m(\u001b[0m\u001b[0memail\u001b[0m\u001b[0;34m=\u001b[0m\u001b[0musername\u001b[0m\u001b[0;34m,\u001b[0m \u001b[0mpassword\u001b[0m\u001b[0;34m=\u001b[0m\u001b[0mpassword\u001b[0m\u001b[0;34m)\u001b[0m\u001b[0;34m\u001b[0m\u001b[0m\n\u001b[0m\u001b[1;32m    405\u001b[0m             \u001b[0;32mreturn\u001b[0m \u001b[0musername\u001b[0m\u001b[0;34m,\u001b[0m \u001b[0mself\u001b[0m\u001b[0;34m.\u001b[0m\u001b[0m_getAPIKey\u001b[0m\u001b[0;34m(\u001b[0m\u001b[0msessionToken\u001b[0m\u001b[0;34m)\u001b[0m\u001b[0;34m\u001b[0m\u001b[0m\n\u001b[1;32m    406\u001b[0m \u001b[0;34m\u001b[0m\u001b[0m\n",
      "\u001b[0;32m/home/ubuntu/anaconda2/lib/python2.7/site-packages/synapseclient/client.pyc\u001b[0m in \u001b[0;36m_getSessionToken\u001b[0;34m(self, email, password, sessionToken)\u001b[0m\n\u001b[1;32m    426\u001b[0m             \u001b[0;32mtry\u001b[0m\u001b[0;34m:\u001b[0m\u001b[0;34m\u001b[0m\u001b[0m\n\u001b[1;32m    427\u001b[0m                 \u001b[0mreq\u001b[0m \u001b[0;34m=\u001b[0m \u001b[0;34m{\u001b[0m\u001b[0;34m'email'\u001b[0m \u001b[0;34m:\u001b[0m \u001b[0memail\u001b[0m\u001b[0;34m,\u001b[0m \u001b[0;34m'password'\u001b[0m \u001b[0;34m:\u001b[0m \u001b[0mpassword\u001b[0m\u001b[0;34m}\u001b[0m\u001b[0;34m\u001b[0m\u001b[0m\n\u001b[0;32m--> 428\u001b[0;31m                 \u001b[0msession\u001b[0m \u001b[0;34m=\u001b[0m \u001b[0mself\u001b[0m\u001b[0;34m.\u001b[0m\u001b[0mrestPOST\u001b[0m\u001b[0;34m(\u001b[0m\u001b[0;34m'/session'\u001b[0m\u001b[0;34m,\u001b[0m \u001b[0mbody\u001b[0m\u001b[0;34m=\u001b[0m\u001b[0mjson\u001b[0m\u001b[0;34m.\u001b[0m\u001b[0mdumps\u001b[0m\u001b[0;34m(\u001b[0m\u001b[0mreq\u001b[0m\u001b[0;34m)\u001b[0m\u001b[0;34m,\u001b[0m \u001b[0mendpoint\u001b[0m\u001b[0;34m=\u001b[0m\u001b[0mself\u001b[0m\u001b[0;34m.\u001b[0m\u001b[0mauthEndpoint\u001b[0m\u001b[0;34m,\u001b[0m \u001b[0mheaders\u001b[0m\u001b[0;34m=\u001b[0m\u001b[0mself\u001b[0m\u001b[0;34m.\u001b[0m\u001b[0mdefault_headers\u001b[0m\u001b[0;34m)\u001b[0m\u001b[0;34m\u001b[0m\u001b[0m\n\u001b[0m\u001b[1;32m    429\u001b[0m                 \u001b[0;32mreturn\u001b[0m \u001b[0msession\u001b[0m\u001b[0;34m[\u001b[0m\u001b[0;34m'sessionToken'\u001b[0m\u001b[0;34m]\u001b[0m\u001b[0;34m\u001b[0m\u001b[0m\n\u001b[1;32m    430\u001b[0m             \u001b[0;32mexcept\u001b[0m \u001b[0mSynapseHTTPError\u001b[0m \u001b[0;32mas\u001b[0m \u001b[0merr\u001b[0m\u001b[0;34m:\u001b[0m\u001b[0;34m\u001b[0m\u001b[0m\n",
      "\u001b[0;32m/home/ubuntu/anaconda2/lib/python2.7/json/__init__.pyc\u001b[0m in \u001b[0;36mdumps\u001b[0;34m(obj, skipkeys, ensure_ascii, check_circular, allow_nan, cls, indent, separators, encoding, default, sort_keys, **kw)\u001b[0m\n\u001b[1;32m    242\u001b[0m         \u001b[0mcls\u001b[0m \u001b[0;32mis\u001b[0m \u001b[0mNone\u001b[0m \u001b[0;32mand\u001b[0m \u001b[0mindent\u001b[0m \u001b[0;32mis\u001b[0m \u001b[0mNone\u001b[0m \u001b[0;32mand\u001b[0m \u001b[0mseparators\u001b[0m \u001b[0;32mis\u001b[0m \u001b[0mNone\u001b[0m \u001b[0;32mand\u001b[0m\u001b[0;34m\u001b[0m\u001b[0m\n\u001b[1;32m    243\u001b[0m         encoding == 'utf-8' and default is None and not sort_keys and not kw):\n\u001b[0;32m--> 244\u001b[0;31m         \u001b[0;32mreturn\u001b[0m \u001b[0m_default_encoder\u001b[0m\u001b[0;34m.\u001b[0m\u001b[0mencode\u001b[0m\u001b[0;34m(\u001b[0m\u001b[0mobj\u001b[0m\u001b[0;34m)\u001b[0m\u001b[0;34m\u001b[0m\u001b[0m\n\u001b[0m\u001b[1;32m    245\u001b[0m     \u001b[0;32mif\u001b[0m \u001b[0mcls\u001b[0m \u001b[0;32mis\u001b[0m \u001b[0mNone\u001b[0m\u001b[0;34m:\u001b[0m\u001b[0;34m\u001b[0m\u001b[0m\n\u001b[1;32m    246\u001b[0m         \u001b[0mcls\u001b[0m \u001b[0;34m=\u001b[0m \u001b[0mJSONEncoder\u001b[0m\u001b[0;34m\u001b[0m\u001b[0m\n",
      "\u001b[0;32m/home/ubuntu/anaconda2/lib/python2.7/json/encoder.pyc\u001b[0m in \u001b[0;36mencode\u001b[0;34m(self, o)\u001b[0m\n\u001b[1;32m    205\u001b[0m         \u001b[0;31m# exceptions aren't as detailed.  The list call should be roughly\u001b[0m\u001b[0;34m\u001b[0m\u001b[0;34m\u001b[0m\u001b[0m\n\u001b[1;32m    206\u001b[0m         \u001b[0;31m# equivalent to the PySequence_Fast that ''.join() would do.\u001b[0m\u001b[0;34m\u001b[0m\u001b[0;34m\u001b[0m\u001b[0m\n\u001b[0;32m--> 207\u001b[0;31m         \u001b[0mchunks\u001b[0m \u001b[0;34m=\u001b[0m \u001b[0mself\u001b[0m\u001b[0;34m.\u001b[0m\u001b[0miterencode\u001b[0m\u001b[0;34m(\u001b[0m\u001b[0mo\u001b[0m\u001b[0;34m,\u001b[0m \u001b[0m_one_shot\u001b[0m\u001b[0;34m=\u001b[0m\u001b[0mTrue\u001b[0m\u001b[0;34m)\u001b[0m\u001b[0;34m\u001b[0m\u001b[0m\n\u001b[0m\u001b[1;32m    208\u001b[0m         \u001b[0;32mif\u001b[0m \u001b[0;32mnot\u001b[0m \u001b[0misinstance\u001b[0m\u001b[0;34m(\u001b[0m\u001b[0mchunks\u001b[0m\u001b[0;34m,\u001b[0m \u001b[0;34m(\u001b[0m\u001b[0mlist\u001b[0m\u001b[0;34m,\u001b[0m \u001b[0mtuple\u001b[0m\u001b[0;34m)\u001b[0m\u001b[0;34m)\u001b[0m\u001b[0;34m:\u001b[0m\u001b[0;34m\u001b[0m\u001b[0m\n\u001b[1;32m    209\u001b[0m             \u001b[0mchunks\u001b[0m \u001b[0;34m=\u001b[0m \u001b[0mlist\u001b[0m\u001b[0;34m(\u001b[0m\u001b[0mchunks\u001b[0m\u001b[0;34m)\u001b[0m\u001b[0;34m\u001b[0m\u001b[0m\n",
      "\u001b[0;32m/home/ubuntu/anaconda2/lib/python2.7/json/encoder.pyc\u001b[0m in \u001b[0;36miterencode\u001b[0;34m(self, o, _one_shot)\u001b[0m\n\u001b[1;32m    268\u001b[0m                 \u001b[0mself\u001b[0m\u001b[0;34m.\u001b[0m\u001b[0mkey_separator\u001b[0m\u001b[0;34m,\u001b[0m \u001b[0mself\u001b[0m\u001b[0;34m.\u001b[0m\u001b[0mitem_separator\u001b[0m\u001b[0;34m,\u001b[0m \u001b[0mself\u001b[0m\u001b[0;34m.\u001b[0m\u001b[0msort_keys\u001b[0m\u001b[0;34m,\u001b[0m\u001b[0;34m\u001b[0m\u001b[0m\n\u001b[1;32m    269\u001b[0m                 self.skipkeys, _one_shot)\n\u001b[0;32m--> 270\u001b[0;31m         \u001b[0;32mreturn\u001b[0m \u001b[0m_iterencode\u001b[0m\u001b[0;34m(\u001b[0m\u001b[0mo\u001b[0m\u001b[0;34m,\u001b[0m \u001b[0;36m0\u001b[0m\u001b[0;34m)\u001b[0m\u001b[0;34m\u001b[0m\u001b[0m\n\u001b[0m\u001b[1;32m    271\u001b[0m \u001b[0;34m\u001b[0m\u001b[0m\n\u001b[1;32m    272\u001b[0m def _make_iterencode(markers, _default, _encoder, _indent, _floatstr,\n",
      "\u001b[0;32m/home/ubuntu/anaconda2/lib/python2.7/json/encoder.pyc\u001b[0m in \u001b[0;36mdefault\u001b[0;34m(self, o)\u001b[0m\n\u001b[1;32m    182\u001b[0m \u001b[0;34m\u001b[0m\u001b[0m\n\u001b[1;32m    183\u001b[0m         \"\"\"\n\u001b[0;32m--> 184\u001b[0;31m         \u001b[0;32mraise\u001b[0m \u001b[0mTypeError\u001b[0m\u001b[0;34m(\u001b[0m\u001b[0mrepr\u001b[0m\u001b[0;34m(\u001b[0m\u001b[0mo\u001b[0m\u001b[0;34m)\u001b[0m \u001b[0;34m+\u001b[0m \u001b[0;34m\" is not JSON serializable\"\u001b[0m\u001b[0;34m)\u001b[0m\u001b[0;34m\u001b[0m\u001b[0m\n\u001b[0m\u001b[1;32m    185\u001b[0m \u001b[0;34m\u001b[0m\u001b[0m\n\u001b[1;32m    186\u001b[0m     \u001b[0;32mdef\u001b[0m \u001b[0mencode\u001b[0m\u001b[0;34m(\u001b[0m\u001b[0mself\u001b[0m\u001b[0;34m,\u001b[0m \u001b[0mo\u001b[0m\u001b[0;34m)\u001b[0m\u001b[0;34m:\u001b[0m\u001b[0;34m\u001b[0m\u001b[0m\n",
      "\u001b[0;31mTypeError\u001b[0m: {'LESSOPEN': '| /usr/bin/lesspipe %s', 'SSH_CLIENT': '10.60.0.54 57372 22', 'LOGNAME': 'ubuntu', 'USER': 'ubuntu', 'PATH': '/home/ubuntu/anaconda2/bin:/home/ubuntu/anaconda2/bin:/home/ubuntu/anaconda3/bin:/home/ubuntu/anaconda2/bin:/home/ubuntu/anaconda3/bin:/usr/local/sbin:/usr/local/bin:/usr/sbin:/usr/bin:/sbin:/bin:/usr/games:/usr/local/games', 'HOME': '/home/ubuntu', 'LANG': 'en_US.UTF-8', 'TERM': 'xterm-color', 'SHELL': '/bin/bash', 'SHLVL': '2', 'WINDOW': '0', 'XDG_RUNTIME_DIR': '/run/user/1000', 'JPY_PARENT_PID': '29896', 'GIT_PAGER': 'cat', 'SYNAPSE_PASS': 'Ripper!05', 'XDG_SESSION_ID': '35489', 'STY': '7677.jupyter', '_': '/usr/bin/env', 'TERMCAP': 'SC|screen|VT 100/ANSI X3.64 virtual terminal:\\\\\\n\\t:DO=\\\\E[%dB:LE=\\\\E[%dD:RI=\\\\E[%dC:UP=\\\\E[%dA:bs:bt=\\\\E[Z:\\\\\\n\\t:cd=\\\\E[J:ce=\\\\E[K:cl=\\\\E[H\\\\E[J:cm=\\\\E[%i%d;%dH:ct=\\\\E[3g:\\\\\\n\\t:do=^J:nd=\\\\E[C:pt:rc=\\\\E8:rs=\\\\Ec:sc=\\\\E7:st=\\\\EH:up=\\\\EM:\\\\\\n\\t:le=^H:bl=^G:cr=^M:it#8:ho=\\\\E[H:nw=\\\\EE:ta=^I:is=\\\\E)0:\\\\\\n\\t:li#23:co#110:am:xn:xv:LP:sr=\\\\EM:al=\\\\E[L:AL=\\\\E[%dL:\\\\\\n\\t:cs=\\\\E[%i%d;%dr:dl=\\\\E[M:DL=\\\\E[%dM:dc=\\\\E[P:DC=\\\\E[%dP:\\\\\\n\\t:im=\\\\E[4h:ei=\\\\E[4l:mi:IC=\\\\E[%d@:ks=\\\\E[?1h\\\\E=:\\\\\\n\\t:ke=\\\\E[?1l\\\\E>:vi=\\\\E[?25l:ve=\\\\E[34h\\\\E[?25h:vs=\\\\E[34l:\\\\\\n\\t:ti=\\\\E[?1049h:te=\\\\E[?1049l:us=\\\\E[4m:ue=\\\\E[24m:so=\\\\E[3m:\\\\\\n\\t:se=\\\\E[23m:mb=\\\\E[5m:md=\\\\E[1m:mh=\\\\E[2m:mr=\\\\E[7m:\\\\\\n\\t:me=\\\\E[m:ms:\\\\\\n\\t:Co#8:pa#64:AF=\\\\E[3%dm:AB=\\\\E[4%dm:op=\\\\E[39;49m:AX:\\\\\\n\\t:vb=\\\\Eg:G0:as=\\\\E(0:ae=\\\\E(B:\\\\\\n\\t:ac=\\\\140\\\\140aaffggjjkkllmmnnooppqqrrssttuuvvwwxxyyzz{{||}}~~..--++,,hhII00:\\\\\\n\\t:po=\\\\E[5i:pf=\\\\E[4i:Km=\\\\E[M:k0=\\\\E[10~:k1=\\\\EOP:k2=\\\\EOQ:\\\\\\n\\t:k3=\\\\EOR:k4=\\\\EOS:k5=\\\\E[15~:k6=\\\\E[17~:k7=\\\\E[18~:\\\\\\n\\t:k8=\\\\E[19~:k9=\\\\E[20~:k;=\\\\E[21~:F1=\\\\E[23~:F2=\\\\E[24~:\\\\\\n\\t:F3=\\\\E[1;2P:F4=\\\\E[1;2Q:F5=\\\\E[1;2R:F6=\\\\E[1;2S:\\\\\\n\\t:F7=\\\\E[15;2~:F8=\\\\E[17;2~:F9=\\\\E[18;2~:FA=\\\\E[19;2~:kb=\\x7f:\\\\\\n\\t:K2=\\\\EOE:kB=\\\\E[Z:kF=\\\\E[1;2B:kR=\\\\E[1;2A:*4=\\\\E[3;2~:\\\\\\n\\t:*7=\\\\E[1;2F:#2=\\\\E[1;2H:#3=\\\\E[2;2~:#4=\\\\E[1;2D:%c=\\\\E[6;2~:\\\\\\n\\t:%e=\\\\E[5;2~:%i=\\\\E[1;2C:kh=\\\\E[1~:@1=\\\\E[1~:kH=\\\\E[4~:\\\\\\n\\t:@7=\\\\E[4~:kN=\\\\E[6~:kP=\\\\E[5~:kI=\\\\E[2~:kD=\\\\E[3~:ku=\\\\EOA:\\\\\\n\\t:kd=\\\\EOB:kr=\\\\EOC:kl=\\\\EOD:km:', 'SSH_CONNECTION': '10.60.0.54 57372 10.101.0.20 22', 'LESSCLOSE': '/usr/bin/lesspipe %s %s', 'MPLBACKEND': 'module://ipykernel.pylab.backend_inline', 'SSH_TTY': '/dev/pts/0', 'OLDPWD': '/home/ubuntu/rnaseq-notebooks/DESeq2-Runs', 'CLICOLOR': '1', 'PWD': '/home/ubuntu/rnaseq-notebooks', 'MAIL': '/var/mail/ubuntu', 'LS_COLORS': 'rs=0:di=01;34:ln=01;36:mh=00:pi=40;33:so=01;35:do=01;35:bd=40;33;01:cd=40;33;01:or=40;31;01:su=37;41:sg=30;43:ca=30;41:tw=30;42:ow=34;42:st=37;44:ex=01;32:*.tar=01;31:*.tgz=01;31:*.arc=01;31:*.arj=01;31:*.taz=01;31:*.lha=01;31:*.lz4=01;31:*.lzh=01;31:*.lzma=01;31:*.tlz=01;31:*.txz=01;31:*.tzo=01;31:*.t7z=01;31:*.zip=01;31:*.z=01;31:*.Z=01;31:*.dz=01;31:*.gz=01;31:*.lrz=01;31:*.lz=01;31:*.lzo=01;31:*.xz=01;31:*.bz2=01;31:*.bz=01;31:*.tbz=01;31:*.tbz2=01;31:*.tz=01;31:*.deb=01;31:*.rpm=01;31:*.jar=01;31:*.war=01;31:*.ear=01;31:*.sar=01;31:*.rar=01;31:*.alz=01;31:*.ace=01;31:*.zoo=01;31:*.cpio=01;31:*.7z=01;31:*.rz=01;31:*.cab=01;31:*.jpg=01;35:*.jpeg=01;35:*.gif=01;35:*.bmp=01;35:*.pbm=01;35:*.pgm=01;35:*.ppm=01;35:*.tga=01;35:*.xbm=01;35:*.xpm=01;35:*.tif=01;35:*.tiff=01;35:*.png=01;35:*.svg=01;35:*.svgz=01;35:*.mng=01;35:*.pcx=01;35:*.mov=01;35:*.mpg=01;35:*.mpeg=01;35:*.m2v=01;35:*.mkv=01;35:*.webm=01;35:*.ogm=01;35:*.mp4=01;35:*.m4v=01;35:*.mp4v=01;35:*.vob=01;35:*.qt=01;35:*.nuv=01;35:*.wmv=01;35:*.asf=01;35:*.rm=01;35:*.rmvb=01;35:*.flc=01;35:*.avi=01;35:*.fli=01;35:*.flv=01;35:*.gl=01;35:*.dl=01;35:*.xcf=01;35:*.xwd=01;35:*.yuv=01;35:*.cgm=01;35:*.emf=01;35:*.axv=01;35:*.anx=01;35:*.ogv=01;35:*.ogx=01;35:*.aac=00;36:*.au=00;36:*.flac=00;36:*.m4a=00;36:*.mid=00;36:*.midi=00;36:*.mka=00;36:*.mp3=00;36:*.mpc=00;36:*.ogg=00;36:*.ra=00;36:*.wav=00;36:*.axa=00;36:*.oga=00;36:*.spx=00;36:*.xspf=00;36:', 'PAGER': 'cat'} is not JSON serializable"
     ]
    }
   ],
   "source": [
    "r.web.synapse.upload_file(df_path, login='jtvivian@gmail.com', parent=r.web.synapse.expression)"
   ]
  },
  {
   "cell_type": "code",
   "execution_count": null,
   "metadata": {
    "collapsed": true
   },
   "outputs": [],
   "source": []
  }
 ],
 "metadata": {
  "kernelspec": {
   "display_name": "Python 2",
   "language": "python",
   "name": "python2"
  },
  "language_info": {
   "codemirror_mode": {
    "name": "ipython",
    "version": 2
   },
   "file_extension": ".py",
   "mimetype": "text/x-python",
   "name": "python",
   "nbconvert_exporter": "python",
   "pygments_lexer": "ipython2",
   "version": "2.7.13"
  }
 },
 "nbformat": 4,
 "nbformat_minor": 2
}
