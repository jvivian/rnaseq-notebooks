{
 "cells": [
  {
   "cell_type": "markdown",
   "metadata": {},
   "source": [
    "Add DESeq2 values to metadata table"
   ]
  },
  {
   "cell_type": "code",
   "execution_count": 2,
   "metadata": {
    "collapsed": true
   },
   "outputs": [],
   "source": [
    "import pandas as pd\n",
    "import os"
   ]
  },
  {
   "cell_type": "markdown",
   "metadata": {},
   "source": [
    "## Inputs"
   ]
  },
  {
   "cell_type": "code",
   "execution_count": 4,
   "metadata": {
    "collapsed": true
   },
   "outputs": [],
   "source": [
    "met_path = '/mnt/rnaseq-cancer/Metadata/tcga_gtex_metadata_intersect.tsv'\n",
    "met = pd.read_csv(met_path, sep='\\t', index_col=0)"
   ]
  },
  {
   "cell_type": "markdown",
   "metadata": {},
   "source": [
    "## Add DESq2 outputs"
   ]
  },
  {
   "cell_type": "code",
   "execution_count": null,
   "metadata": {
    "collapsed": true
   },
   "outputs": [],
   "source": [
    "output_dir = '../../1-Data-Collection-and-Processing/DESeq2-Runs/output/'\n"
   ]
  },
  {
   "cell_type": "code",
   "execution_count": 5,
   "metadata": {},
   "outputs": [
    {
     "data": {
      "text/html": [
       "<div>\n",
       "<style>\n",
       "    .dataframe thead tr:only-child th {\n",
       "        text-align: right;\n",
       "    }\n",
       "\n",
       "    .dataframe thead th {\n",
       "        text-align: left;\n",
       "    }\n",
       "\n",
       "    .dataframe tbody tr th {\n",
       "        vertical-align: top;\n",
       "    }\n",
       "</style>\n",
       "<table border=\"1\" class=\"dataframe\">\n",
       "  <thead>\n",
       "    <tr style=\"text-align: right;\">\n",
       "      <th></th>\n",
       "      <th>id</th>\n",
       "      <th>reads</th>\n",
       "      <th>size_MB</th>\n",
       "      <th>platform</th>\n",
       "      <th>sex</th>\n",
       "      <th>tissue</th>\n",
       "      <th>seq_site</th>\n",
       "      <th>weight</th>\n",
       "      <th>height</th>\n",
       "      <th>mapped_reads</th>\n",
       "      <th>race</th>\n",
       "      <th>age</th>\n",
       "      <th>qc</th>\n",
       "      <th>dataset</th>\n",
       "      <th>tumor</th>\n",
       "      <th>type</th>\n",
       "    </tr>\n",
       "  </thead>\n",
       "  <tbody>\n",
       "    <tr>\n",
       "      <th>TCGA-CD-8534-01</th>\n",
       "      <td>TCGA-CD-8534-01</td>\n",
       "      <td>240016440</td>\n",
       "      <td>14982.158203</td>\n",
       "      <td>Illumina HiSeq</td>\n",
       "      <td>male</td>\n",
       "      <td>Stomach</td>\n",
       "      <td>BCGSC</td>\n",
       "      <td>NaN</td>\n",
       "      <td>NaN</td>\n",
       "      <td>207116695.0</td>\n",
       "      <td>asian</td>\n",
       "      <td>40.0</td>\n",
       "      <td>0.0</td>\n",
       "      <td>tcga</td>\n",
       "      <td>yes</td>\n",
       "      <td>Stomach_Adenocarcinoma</td>\n",
       "    </tr>\n",
       "    <tr>\n",
       "      <th>TCGA-ER-A19A-06</th>\n",
       "      <td>TCGA-ER-A19A-06</td>\n",
       "      <td>179705496</td>\n",
       "      <td>7383.316781</td>\n",
       "      <td>Illumina HiSeq</td>\n",
       "      <td>male</td>\n",
       "      <td>Skin</td>\n",
       "      <td>UNC</td>\n",
       "      <td>NaN</td>\n",
       "      <td>NaN</td>\n",
       "      <td>178311442.0</td>\n",
       "      <td>white</td>\n",
       "      <td>83.0</td>\n",
       "      <td>4.0</td>\n",
       "      <td>tcga</td>\n",
       "      <td>yes</td>\n",
       "      <td>Skin_Cutaneous_Melanoma</td>\n",
       "    </tr>\n",
       "    <tr>\n",
       "      <th>TCGA-C5-A1M8-01</th>\n",
       "      <td>TCGA-C5-A1M8-01</td>\n",
       "      <td>195313702</td>\n",
       "      <td>8418.844774</td>\n",
       "      <td>Illumina HiSeq</td>\n",
       "      <td>female</td>\n",
       "      <td>Cervix</td>\n",
       "      <td>UNC</td>\n",
       "      <td>75.0</td>\n",
       "      <td>64.173228</td>\n",
       "      <td>192995706.0</td>\n",
       "      <td>white</td>\n",
       "      <td>52.0</td>\n",
       "      <td>5.0</td>\n",
       "      <td>tcga</td>\n",
       "      <td>yes</td>\n",
       "      <td>Cervical_Squamous_Cell_Carcinoma_and_Endocervi...</td>\n",
       "    </tr>\n",
       "    <tr>\n",
       "      <th>TCGA-D1-A0ZN-01</th>\n",
       "      <td>TCGA-D1-A0ZN-01</td>\n",
       "      <td>30911468</td>\n",
       "      <td>1889.145386</td>\n",
       "      <td>Illumina GA</td>\n",
       "      <td>female</td>\n",
       "      <td>Uterus</td>\n",
       "      <td>UNC</td>\n",
       "      <td>82.0</td>\n",
       "      <td>66.141732</td>\n",
       "      <td>30530086.0</td>\n",
       "      <td>white</td>\n",
       "      <td>61.0</td>\n",
       "      <td>7.4</td>\n",
       "      <td>tcga</td>\n",
       "      <td>yes</td>\n",
       "      <td>Uterine_Corpus_Endometrial_Carcinoma</td>\n",
       "    </tr>\n",
       "    <tr>\n",
       "      <th>TCGA-EM-A4FF-01</th>\n",
       "      <td>TCGA-EM-A4FF-01</td>\n",
       "      <td>206307190</td>\n",
       "      <td>8595.388177</td>\n",
       "      <td>Illumina HiSeq</td>\n",
       "      <td>female</td>\n",
       "      <td>Thyroid</td>\n",
       "      <td>UNC</td>\n",
       "      <td>NaN</td>\n",
       "      <td>NaN</td>\n",
       "      <td>201238067.0</td>\n",
       "      <td>NaN</td>\n",
       "      <td>44.0</td>\n",
       "      <td>5.6</td>\n",
       "      <td>tcga</td>\n",
       "      <td>yes</td>\n",
       "      <td>Thyroid_Carcinoma</td>\n",
       "    </tr>\n",
       "  </tbody>\n",
       "</table>\n",
       "</div>"
      ],
      "text/plain": [
       "                              id      reads       size_MB        platform  \\\n",
       "TCGA-CD-8534-01  TCGA-CD-8534-01  240016440  14982.158203  Illumina HiSeq   \n",
       "TCGA-ER-A19A-06  TCGA-ER-A19A-06  179705496   7383.316781  Illumina HiSeq   \n",
       "TCGA-C5-A1M8-01  TCGA-C5-A1M8-01  195313702   8418.844774  Illumina HiSeq   \n",
       "TCGA-D1-A0ZN-01  TCGA-D1-A0ZN-01   30911468   1889.145386     Illumina GA   \n",
       "TCGA-EM-A4FF-01  TCGA-EM-A4FF-01  206307190   8595.388177  Illumina HiSeq   \n",
       "\n",
       "                    sex   tissue seq_site  weight     height  mapped_reads  \\\n",
       "TCGA-CD-8534-01    male  Stomach    BCGSC     NaN        NaN   207116695.0   \n",
       "TCGA-ER-A19A-06    male     Skin      UNC     NaN        NaN   178311442.0   \n",
       "TCGA-C5-A1M8-01  female   Cervix      UNC    75.0  64.173228   192995706.0   \n",
       "TCGA-D1-A0ZN-01  female   Uterus      UNC    82.0  66.141732    30530086.0   \n",
       "TCGA-EM-A4FF-01  female  Thyroid      UNC     NaN        NaN   201238067.0   \n",
       "\n",
       "                  race   age   qc dataset tumor  \\\n",
       "TCGA-CD-8534-01  asian  40.0  0.0    tcga   yes   \n",
       "TCGA-ER-A19A-06  white  83.0  4.0    tcga   yes   \n",
       "TCGA-C5-A1M8-01  white  52.0  5.0    tcga   yes   \n",
       "TCGA-D1-A0ZN-01  white  61.0  7.4    tcga   yes   \n",
       "TCGA-EM-A4FF-01    NaN  44.0  5.6    tcga   yes   \n",
       "\n",
       "                                                              type  \n",
       "TCGA-CD-8534-01                             Stomach_Adenocarcinoma  \n",
       "TCGA-ER-A19A-06                            Skin_Cutaneous_Melanoma  \n",
       "TCGA-C5-A1M8-01  Cervical_Squamous_Cell_Carcinoma_and_Endocervi...  \n",
       "TCGA-D1-A0ZN-01               Uterine_Corpus_Endometrial_Carcinoma  \n",
       "TCGA-EM-A4FF-01                                  Thyroid_Carcinoma  "
      ]
     },
     "execution_count": 5,
     "metadata": {},
     "output_type": "execute_result"
    }
   ],
   "source": [
    "met.head()"
   ]
  },
  {
   "cell_type": "code",
   "execution_count": null,
   "metadata": {
    "collapsed": true
   },
   "outputs": [],
   "source": []
  },
  {
   "cell_type": "code",
   "execution_count": null,
   "metadata": {
    "collapsed": true
   },
   "outputs": [],
   "source": []
  },
  {
   "cell_type": "code",
   "execution_count": null,
   "metadata": {
    "collapsed": true
   },
   "outputs": [],
   "source": []
  },
  {
   "cell_type": "code",
   "execution_count": null,
   "metadata": {
    "collapsed": true
   },
   "outputs": [],
   "source": []
  },
  {
   "cell_type": "code",
   "execution_count": null,
   "metadata": {
    "collapsed": true
   },
   "outputs": [],
   "source": []
  },
  {
   "cell_type": "code",
   "execution_count": null,
   "metadata": {
    "collapsed": true
   },
   "outputs": [],
   "source": []
  },
  {
   "cell_type": "code",
   "execution_count": null,
   "metadata": {
    "collapsed": true
   },
   "outputs": [],
   "source": []
  }
 ],
 "metadata": {
  "kernelspec": {
   "display_name": "Python 2",
   "language": "python",
   "name": "python2"
  },
  "language_info": {
   "codemirror_mode": {
    "name": "ipython",
    "version": 2
   },
   "file_extension": ".py",
   "mimetype": "text/x-python",
   "name": "python",
   "nbconvert_exporter": "python",
   "pygments_lexer": "ipython2",
   "version": "2.7.13"
  }
 },
 "nbformat": 4,
 "nbformat_minor": 2
}
