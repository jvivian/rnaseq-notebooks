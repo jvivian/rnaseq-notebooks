{
 "cells": [
  {
   "cell_type": "code",
   "execution_count": 36,
   "metadata": {
    "collapsed": true
   },
   "outputs": [],
   "source": [
    "from rnaseq_lib.web import openfda_get_drugs_by_query\n",
    "from rnaseq_lib.web import openfda_drug_label\n",
    "from rnaseq_lib.web import _rget\n",
    "from rnaseq_lib.utils import flatten\n",
    "from rnaseq_lib.utils.expando import Expando\n",
    "from rnaseq_lib.tissues import grep_cancer_terms\n",
    "from rnaseq_lib.tissues import identify_tissue_from_str\n",
    "from rnaseq_lib.tissues import validate_genes\n",
    "\n",
    "import pandas as pd\n",
    "import os\n",
    "from collections import defaultdict\n",
    "\n",
    "from progressbar import ProgressBar"
   ]
  },
  {
   "cell_type": "markdown",
   "metadata": {},
   "source": [
    "# Table\n",
    "\n",
    "1. Get list of drugs and targets from Cancerrxgene\n",
    "2. Check for FDA listing\n",
    "    1. Collect indications_of_usage, mechanism_of_action, openfda.brand_name, openfda.generic_name\n",
    "3. Derive tissue from information"
   ]
  },
  {
   "cell_type": "code",
   "execution_count": 37,
   "metadata": {},
   "outputs": [
    {
     "name": "stdout",
     "output_type": "stream",
     "text": [
      "(265, 5)\n"
     ]
    },
    {
     "data": {
      "text/html": [
       "<div>\n",
       "<style>\n",
       "    .dataframe thead tr:only-child th {\n",
       "        text-align: right;\n",
       "    }\n",
       "\n",
       "    .dataframe thead th {\n",
       "        text-align: left;\n",
       "    }\n",
       "\n",
       "    .dataframe tbody tr th {\n",
       "        vertical-align: top;\n",
       "    }\n",
       "</style>\n",
       "<table border=\"1\" class=\"dataframe\">\n",
       "  <thead>\n",
       "    <tr style=\"text-align: right;\">\n",
       "      <th></th>\n",
       "      <th>Drug ID</th>\n",
       "      <th>Drug Name</th>\n",
       "      <th>Synonyms</th>\n",
       "      <th>Target</th>\n",
       "      <th>Target Pathway</th>\n",
       "    </tr>\n",
       "  </thead>\n",
       "  <tbody>\n",
       "    <tr>\n",
       "      <th>0</th>\n",
       "      <td>1</td>\n",
       "      <td>Erlotinib</td>\n",
       "      <td>Tarceva, RG-1415, CP-358774, OSI-774, Ro-50823...</td>\n",
       "      <td>EGFR</td>\n",
       "      <td>EGFR signaling</td>\n",
       "    </tr>\n",
       "    <tr>\n",
       "      <th>1</th>\n",
       "      <td>3</td>\n",
       "      <td>Rapamycin</td>\n",
       "      <td>AY-22989, Sirolimus, WY-090217, Torisel, Rapamune</td>\n",
       "      <td>MTORC1</td>\n",
       "      <td>PI3K/MTOR signaling</td>\n",
       "    </tr>\n",
       "    <tr>\n",
       "      <th>2</th>\n",
       "      <td>5</td>\n",
       "      <td>Sunitinib</td>\n",
       "      <td>Sutent, Sunitinib Malate, SU-11248</td>\n",
       "      <td>PDGFR, KIT, VEGFR, FLT3, RET, CSF1R</td>\n",
       "      <td>RTK signaling</td>\n",
       "    </tr>\n",
       "    <tr>\n",
       "      <th>3</th>\n",
       "      <td>6</td>\n",
       "      <td>PHA-665752</td>\n",
       "      <td>PHA665752, PHA 665752</td>\n",
       "      <td>MET</td>\n",
       "      <td>RTK signaling</td>\n",
       "    </tr>\n",
       "    <tr>\n",
       "      <th>4</th>\n",
       "      <td>9</td>\n",
       "      <td>MG-132</td>\n",
       "      <td>LLL cpd, MG 132, MG132</td>\n",
       "      <td>Proteasome, CAPN1</td>\n",
       "      <td>Protein stability and degradation</td>\n",
       "    </tr>\n",
       "  </tbody>\n",
       "</table>\n",
       "</div>"
      ],
      "text/plain": [
       "   Drug ID   Drug Name                                           Synonyms  \\\n",
       "0        1   Erlotinib  Tarceva, RG-1415, CP-358774, OSI-774, Ro-50823...   \n",
       "1        3   Rapamycin  AY-22989, Sirolimus, WY-090217, Torisel, Rapamune   \n",
       "2        5   Sunitinib                 Sutent, Sunitinib Malate, SU-11248   \n",
       "3        6  PHA-665752                              PHA665752, PHA 665752   \n",
       "4        9      MG-132                             LLL cpd, MG 132, MG132   \n",
       "\n",
       "                                Target                     Target Pathway  \n",
       "0                                 EGFR                     EGFR signaling  \n",
       "1                               MTORC1                PI3K/MTOR signaling  \n",
       "2  PDGFR, KIT, VEGFR, FLT3, RET, CSF1R                      RTK signaling  \n",
       "3                                  MET                      RTK signaling  \n",
       "4                    Proteasome, CAPN1  Protein stability and degradation  "
      ]
     },
     "execution_count": 37,
     "metadata": {},
     "output_type": "execute_result"
    }
   ],
   "source": [
    "df = pd.read_excel('Cancerrxgene/screened-compounds.xlsx')\n",
    "print df.shape; df.head()"
   ]
  },
  {
   "cell_type": "markdown",
   "metadata": {},
   "source": [
    "## Query OpenFDA\n",
    "Query drug name in OpenFDA for additional information"
   ]
  },
  {
   "cell_type": "code",
   "execution_count": 38,
   "metadata": {
    "collapsed": true,
    "scrolled": false
   },
   "outputs": [],
   "source": [
    "df_path = 'Cancerrxgene/openfda.pandas'\n",
    "try:\n",
    "    df = pd.read_pickle(df_path)\n",
    "except IOError:\n",
    "    info = defaultdict(list)\n",
    "    bar = ProgressBar()\n",
    "    for i in bar(xrange(len(df))):\n",
    "        row = df.iloc[i]\n",
    "\n",
    "        # Collect all aliases for Drug\n",
    "        aliases = row.Synonyms.split(', ') if type(row.Synonyms) == list else [str(row.Synonyms)]\n",
    "        aliases = None if 'nan' in aliases[0].lower() else aliases\n",
    "        drug = [str(row['Drug Name']).split()[0]]\n",
    "        aliases =  drug + aliases if aliases else drug\n",
    "\n",
    "        # Check if any aliases return OpenFDA results\n",
    "        r = None\n",
    "        for name in aliases:\n",
    "            if not '-' in name:\n",
    "                r = openfda_drug_label(str(name))\n",
    "                if r: break\n",
    "\n",
    "        # If no results\n",
    "        features  = ['usage', 'mech_action', 'brand_name', 'generic_name']\n",
    "        if not r:\n",
    "            #print 'No query for: {}'.format(row['Drug Name'])\n",
    "            for f in features:\n",
    "                info[f].append(None)\n",
    "\n",
    "        else:\n",
    "            # Pull out result\n",
    "            e = r.json(object_hook=Expando)['results'][0]\n",
    "\n",
    "            for f, a in zip(features, ['indications_and_usage', 'mechanism_of_action', \n",
    "                             'openfda.brand_name', 'openfda.generic_name']):    \n",
    "                try:\n",
    "                    attribute = e[a] if not a.startswith('openfda') else e['openfda'][a.split('.')[1]]\n",
    "                    info[f].append('. '.join(attribute).encode('utf-8'))\n",
    "                except KeyError:\n",
    "                    info[f].append(None)\n",
    "    \n",
    "    # Add values to DataFrame\n",
    "    df['usage'] = info['usage']\n",
    "    df['mech_action'] = info['mech_action']\n",
    "    df['brand_name'] = info['brand_name']\n",
    "    df['generic_name'] = info['generic_name']\n",
    "\n",
    "    # Save\n",
    "    df.to_pickle(df_path)"
   ]
  },
  {
   "cell_type": "markdown",
   "metadata": {},
   "source": [
    "Drop rows whose generic or brand name does not match the drug name or synonyms"
   ]
  },
  {
   "cell_type": "code",
   "execution_count": 39,
   "metadata": {
    "collapsed": true
   },
   "outputs": [],
   "source": [
    "rows_to_drop = []\n",
    "for i in xrange(len(df)):\n",
    "    row = df.iloc[i]\n",
    "    aliases = row.Synonyms.split(', ') if type(row.Synonyms) == list else [str(row.Synonyms)]\n",
    "    drug = [str(row['Drug Name']).split()[0]]\n",
    "    aliases =  drug + aliases if aliases else drug\n",
    "    \n",
    "    # If missing brand and generic name, drop\n",
    "    if not row.generic_name and not row.brand_name:\n",
    "        rows_to_drop.append(i)\n",
    "        continue\n",
    "    \n",
    "    # If drug name or synonyms don't match, drop\n",
    "    if not any([x for x in aliases if x.lower() in row.generic_name.lower()]):\n",
    "        if not any([x for x in aliases if x.lower() in row.brand_name.lower()]):\n",
    "            rows_to_drop.append(i)"
   ]
  },
  {
   "cell_type": "code",
   "execution_count": 40,
   "metadata": {
    "collapsed": true,
    "scrolled": false
   },
   "outputs": [],
   "source": [
    "df = df.drop(rows_to_drop)"
   ]
  },
  {
   "cell_type": "markdown",
   "metadata": {},
   "source": [
    "Drop duplicate entries"
   ]
  },
  {
   "cell_type": "code",
   "execution_count": 41,
   "metadata": {
    "collapsed": true
   },
   "outputs": [],
   "source": [
    "df = df.drop_duplicates('Drug Name')"
   ]
  },
  {
   "cell_type": "markdown",
   "metadata": {
    "collapsed": true
   },
   "source": [
    "## Process and Expand Table\n",
    "\n",
    "Replace rows that target multiple tissues with one row per tissue"
   ]
  },
  {
   "cell_type": "code",
   "execution_count": 42,
   "metadata": {
    "scrolled": false
   },
   "outputs": [
    {
     "name": "stdout",
     "output_type": "stream",
     "text": [
      "No evidence found for any tissue found for: CMK\n",
      "No evidence found for any tissue found for: Pyrimethamine\n",
      "No evidence found for any tissue found for: Bortezomib\n",
      "No evidence found for any tissue found for: Bexarotene\n",
      "No evidence found for any tissue found for: Ruxolitinib\n",
      "No evidence found for any tissue found for: Belinostat\n",
      "No evidence found for any tissue found for: Tretinoin\n",
      "No evidence found for any tissue found for: Vorinostat\n",
      "No evidence found for any tissue found for: Temozolomide\n"
     ]
    }
   ],
   "source": [
    "records = []\n",
    "for row in df.iterrows():\n",
    "    entries = defaultdict(str)\n",
    "    index, row = row\n",
    "    for sentence in grep_cancer_terms(str(row['usage'])):\n",
    "        for tissue in identify_tissue_from_str(sentence):\n",
    "            entries[tissue] += sentence\n",
    "    \n",
    "    if entries:\n",
    "        # Store new rows\n",
    "        for entry in entries:\n",
    "            new_row = row.copy()\n",
    "            new_row['tissue'] = entry\n",
    "            new_row['evidence'] = entries[entry]\n",
    "            records.append(new_row)\n",
    "    \n",
    "    else:\n",
    "        print 'No evidence found for any tissue found for: {}'.format(row['Drug Name'])\n",
    "\n",
    "df = pd.DataFrame.from_records(records, columns=list(df.columns) + ['tissue', 'evidence'])"
   ]
  },
  {
   "cell_type": "markdown",
   "metadata": {},
   "source": [
    "Drugs missing evidence were for either blood or bone cancer, or a non-cancer drug. "
   ]
  },
  {
   "cell_type": "markdown",
   "metadata": {},
   "source": [
    "### Fix Targets (genes)"
   ]
  },
  {
   "cell_type": "markdown",
   "metadata": {},
   "source": [
    "Look for genes in **Target** and make one row per gene"
   ]
  },
  {
   "cell_type": "code",
   "execution_count": 49,
   "metadata": {
    "collapsed": true,
    "scrolled": false
   },
   "outputs": [],
   "source": [
    "records = []\n",
    "for row in df.iterrows():\n",
    "    index, row = row\n",
    "    for gene in set(validate_genes(row.Target.split(', '))):\n",
    "        new_row = row.copy()\n",
    "        new_row['gene'] = gene.upper() if gene else gene\n",
    "        records.append(new_row)\n",
    "\n",
    "df = pd.DataFrame.from_records(records)"
   ]
  },
  {
   "cell_type": "markdown",
   "metadata": {},
   "source": [
    "### Drop NA and Save\n",
    "\n",
    "Drop all rows missing a valid \"gene\" target"
   ]
  },
  {
   "cell_type": "code",
   "execution_count": 52,
   "metadata": {
    "scrolled": false
   },
   "outputs": [
    {
     "name": "stdout",
     "output_type": "stream",
     "text": [
      "Number of drugs: 30\n",
      "Number of unique gene targets: 37\n"
     ]
    },
    {
     "data": {
      "text/plain": [
       "(108, 12)"
      ]
     },
     "execution_count": 52,
     "metadata": {},
     "output_type": "execute_result"
    }
   ],
   "source": [
    "df = df[~df.gene.isnull()]\n",
    "print 'Number of drugs: {}'.format(len(df['Drug Name'].unique()))\n",
    "print 'Number of unique gene targets: {}'.format(len(df.gene.unique()))\n",
    "df.shape"
   ]
  },
  {
   "cell_type": "code",
   "execution_count": 53,
   "metadata": {
    "collapsed": true
   },
   "outputs": [],
   "source": [
    "df.to_csv('Cancerrxgene/cancerrxgene.processed.tsv', sep='\\t')"
   ]
  }
 ],
 "metadata": {
  "kernelspec": {
   "display_name": "Python 2",
   "language": "python",
   "name": "python2"
  },
  "language_info": {
   "codemirror_mode": {
    "name": "ipython",
    "version": 2
   },
   "file_extension": ".py",
   "mimetype": "text/x-python",
   "name": "python",
   "nbconvert_exporter": "python",
   "pygments_lexer": "ipython2",
   "version": "2.7.13"
  }
 },
 "nbformat": 4,
 "nbformat_minor": 2
}
