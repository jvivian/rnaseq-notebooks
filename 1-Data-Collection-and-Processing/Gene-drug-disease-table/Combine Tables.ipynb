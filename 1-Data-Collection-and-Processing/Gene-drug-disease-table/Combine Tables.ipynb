{
 "cells": [
  {
   "cell_type": "markdown",
   "metadata": {},
   "source": [
    "# Combine Tables\n",
    "Combine drug / gene tables"
   ]
  },
  {
   "cell_type": "code",
   "execution_count": 97,
   "metadata": {
    "collapsed": true
   },
   "outputs": [],
   "source": [
    "import os\n",
    "from itertools import combinations\n",
    "\n",
    "import pandas as pd\n",
    "\n",
    "from rnaseq_lib.utils import mkdir_p, flatten\n",
    "from rnaseq_lib.tissues.plots import gene_expression_boxplot"
   ]
  },
  {
   "cell_type": "markdown",
   "metadata": {},
   "source": [
    "## Process Inputs"
   ]
  },
  {
   "cell_type": "code",
   "execution_count": 49,
   "metadata": {
    "collapsed": true
   },
   "outputs": [],
   "source": [
    "mab = pd.read_csv('MAB-processing/mab.processed.tsv', index_col=0, sep='\\t')\n",
    "crg = pd.read_csv('Cancerrxgene/cancerrxgene.processed.tsv', index_col=0, sep='\\t')"
   ]
  },
  {
   "cell_type": "markdown",
   "metadata": {},
   "source": [
    "Drop duplicate entries"
   ]
  },
  {
   "cell_type": "code",
   "execution_count": 50,
   "metadata": {
    "collapsed": true,
    "scrolled": true
   },
   "outputs": [],
   "source": [
    "duplicates = set(mab.generic_name).intersection(set(crg.generic_name))\n",
    "for d in duplicates:\n",
    "    mab = mab.drop(mab[mab.generic_name == d].index, axis=0)"
   ]
  },
  {
   "cell_type": "code",
   "execution_count": 51,
   "metadata": {
    "collapsed": true
   },
   "outputs": [],
   "source": [
    "mab = mab.reset_index(drop=True)"
   ]
  },
  {
   "cell_type": "markdown",
   "metadata": {},
   "source": [
    "combine"
   ]
  },
  {
   "cell_type": "code",
   "execution_count": 61,
   "metadata": {
    "collapsed": true
   },
   "outputs": [],
   "source": [
    "df = pd.concat([mab, crg], axis=0)"
   ]
  },
  {
   "cell_type": "markdown",
   "metadata": {},
   "source": [
    "Drop columns"
   ]
  },
  {
   "cell_type": "code",
   "execution_count": 62,
   "metadata": {},
   "outputs": [
    {
     "data": {
      "text/html": [
       "<div>\n",
       "<style>\n",
       "    .dataframe thead tr:only-child th {\n",
       "        text-align: right;\n",
       "    }\n",
       "\n",
       "    .dataframe thead th {\n",
       "        text-align: left;\n",
       "    }\n",
       "\n",
       "    .dataframe tbody tr th {\n",
       "        vertical-align: top;\n",
       "    }\n",
       "</style>\n",
       "<table border=\"1\" class=\"dataframe\">\n",
       "  <thead>\n",
       "    <tr style=\"text-align: right;\">\n",
       "      <th></th>\n",
       "      <th>Source</th>\n",
       "      <th>Target</th>\n",
       "      <th>Target Pathway</th>\n",
       "      <th>brand_name</th>\n",
       "      <th>evidence</th>\n",
       "      <th>gene</th>\n",
       "      <th>generic_name</th>\n",
       "      <th>mech_action</th>\n",
       "      <th>tissue</th>\n",
       "      <th>usage</th>\n",
       "    </tr>\n",
       "  </thead>\n",
       "  <tbody>\n",
       "    <tr>\n",
       "      <th>0</th>\n",
       "      <td>humanized</td>\n",
       "      <td>CD52</td>\n",
       "      <td>NaN</td>\n",
       "      <td>Campath</td>\n",
       "      <td>1 INDICATIONS AND USAGE Campath is indicated a...</td>\n",
       "      <td>CD52</td>\n",
       "      <td>ALEMTUZUMAB</td>\n",
       "      <td>12.1 Mechanism of Action Campath binds to CD52...</td>\n",
       "      <td>Blood</td>\n",
       "      <td>1 INDICATIONS AND USAGE Campath is indicated a...</td>\n",
       "    </tr>\n",
       "    <tr>\n",
       "      <th>1</th>\n",
       "      <td>humanized</td>\n",
       "      <td>CD274</td>\n",
       "      <td>NaN</td>\n",
       "      <td>TECENTRIQ</td>\n",
       "      <td>1) Metastatic non-small cell lung cancer who h...</td>\n",
       "      <td>CD274</td>\n",
       "      <td>ATEZOLIZUMAB</td>\n",
       "      <td>12.1 Mechanism of Action PD-L1 may be expresse...</td>\n",
       "      <td>Lung</td>\n",
       "      <td>1 INDICATIONS AND USAGE TECENTRIQ is a program...</td>\n",
       "    </tr>\n",
       "    <tr>\n",
       "      <th>2</th>\n",
       "      <td>humanized</td>\n",
       "      <td>CD274</td>\n",
       "      <td>NaN</td>\n",
       "      <td>TECENTRIQ</td>\n",
       "      <td>1 INDICATIONS AND USAGE TECENTRIQ is a program...</td>\n",
       "      <td>CD274</td>\n",
       "      <td>ATEZOLIZUMAB</td>\n",
       "      <td>12.1 Mechanism of Action PD-L1 may be expresse...</td>\n",
       "      <td>Bladder</td>\n",
       "      <td>1 INDICATIONS AND USAGE TECENTRIQ is a program...</td>\n",
       "    </tr>\n",
       "    <tr>\n",
       "      <th>3</th>\n",
       "      <td>human</td>\n",
       "      <td>CD274</td>\n",
       "      <td>NaN</td>\n",
       "      <td>BAVENCIO</td>\n",
       "      <td>1 INDICATIONS AND USAGE BAVENCIO is a programm...</td>\n",
       "      <td>CD274</td>\n",
       "      <td>AVELUMAB</td>\n",
       "      <td>12.1 Mechanism of Action PD-L1 may be expresse...</td>\n",
       "      <td>Skin-Head</td>\n",
       "      <td>1 INDICATIONS AND USAGE BAVENCIO is a programm...</td>\n",
       "    </tr>\n",
       "    <tr>\n",
       "      <th>4</th>\n",
       "      <td>human</td>\n",
       "      <td>CD274</td>\n",
       "      <td>NaN</td>\n",
       "      <td>BAVENCIO</td>\n",
       "      <td>1) Patients with locally advanced or metastati...</td>\n",
       "      <td>CD274</td>\n",
       "      <td>AVELUMAB</td>\n",
       "      <td>12.1 Mechanism of Action PD-L1 may be expresse...</td>\n",
       "      <td>Bladder</td>\n",
       "      <td>1 INDICATIONS AND USAGE BAVENCIO is a programm...</td>\n",
       "    </tr>\n",
       "  </tbody>\n",
       "</table>\n",
       "</div>"
      ],
      "text/plain": [
       "      Source Target Target Pathway brand_name  \\\n",
       "0  humanized   CD52            NaN    Campath   \n",
       "1  humanized  CD274            NaN  TECENTRIQ   \n",
       "2  humanized  CD274            NaN  TECENTRIQ   \n",
       "3      human  CD274            NaN   BAVENCIO   \n",
       "4      human  CD274            NaN   BAVENCIO   \n",
       "\n",
       "                                            evidence   gene  generic_name  \\\n",
       "0  1 INDICATIONS AND USAGE Campath is indicated a...   CD52   ALEMTUZUMAB   \n",
       "1  1) Metastatic non-small cell lung cancer who h...  CD274  ATEZOLIZUMAB   \n",
       "2  1 INDICATIONS AND USAGE TECENTRIQ is a program...  CD274  ATEZOLIZUMAB   \n",
       "3  1 INDICATIONS AND USAGE BAVENCIO is a programm...  CD274      AVELUMAB   \n",
       "4  1) Patients with locally advanced or metastati...  CD274      AVELUMAB   \n",
       "\n",
       "                                         mech_action     tissue  \\\n",
       "0  12.1 Mechanism of Action Campath binds to CD52...      Blood   \n",
       "1  12.1 Mechanism of Action PD-L1 may be expresse...       Lung   \n",
       "2  12.1 Mechanism of Action PD-L1 may be expresse...    Bladder   \n",
       "3  12.1 Mechanism of Action PD-L1 may be expresse...  Skin-Head   \n",
       "4  12.1 Mechanism of Action PD-L1 may be expresse...    Bladder   \n",
       "\n",
       "                                               usage  \n",
       "0  1 INDICATIONS AND USAGE Campath is indicated a...  \n",
       "1  1 INDICATIONS AND USAGE TECENTRIQ is a program...  \n",
       "2  1 INDICATIONS AND USAGE TECENTRIQ is a program...  \n",
       "3  1 INDICATIONS AND USAGE BAVENCIO is a programm...  \n",
       "4  1 INDICATIONS AND USAGE BAVENCIO is a programm...  "
      ]
     },
     "execution_count": 62,
     "metadata": {},
     "output_type": "execute_result"
    }
   ],
   "source": [
    "df = df.drop(['Drug ID', 'Drug Name', 'Name', 'Synonyms', \n",
    "              'Use', 'Trade name', 'Type'], axis=1)\n",
    "df.head()"
   ]
  },
  {
   "cell_type": "code",
   "execution_count": 63,
   "metadata": {
    "collapsed": true
   },
   "outputs": [],
   "source": [
    "mkdir_p('combined-table')\n",
    "df.to_csv('combined-table/combined.tsv', sep='\\t')"
   ]
  },
  {
   "cell_type": "markdown",
   "metadata": {},
   "source": [
    "## Get DESeq2 Adjusted P-Value and Log2 Fold Change\n",
    "\n",
    "Get differential expression results when comparing GTEx to TCGA-Tumor "
   ]
  },
  {
   "cell_type": "code",
   "execution_count": 157,
   "metadata": {},
   "outputs": [
    {
     "name": "stdout",
     "output_type": "stream",
     "text": [
      "CPU times: user 59.6 s, sys: 12 ms, total: 59.6 s\n",
      "Wall time: 59.6 s\n"
     ]
    }
   ],
   "source": [
    "%%time\n",
    "d2_results = os.path.join(os.path.dirname(os.getcwd()), 'DESeq2-Runs')\n",
    "\n",
    "pval, l2fc, rank = [], [], []\n",
    "for row in df.iterrows():\n",
    "    # Get tissue and grab TSV\n",
    "    p, fc, r = None, None, None\n",
    "    i, row = row\n",
    "    tsv = os.path.join(d2_results, row.tissue, row.tissue + '.tsv')\n",
    "    if os.path.exists(tsv):\n",
    "        with open(tsv, 'r') as f:\n",
    "            for i, line in enumerate(f):\n",
    "                line = line.split()\n",
    "                if line[0] == row.gene:\n",
    "                    fc = float(line[2])\n",
    "                    p = float(line[-1].strip())\n",
    "                    r = i\n",
    "    # Store values\n",
    "    pval.append(p)\n",
    "    l2fc.append(fc)\n",
    "    rank.append(r)  \n",
    "\n",
    "# Add columns to dataframe\n",
    "df['pval_adj'] = pval\n",
    "df['l2fc'] = l2fc\n",
    "df['pval_rank'] = rank"
   ]
  },
  {
   "cell_type": "markdown",
   "metadata": {},
   "source": [
    "Save"
   ]
  },
  {
   "cell_type": "code",
   "execution_count": 158,
   "metadata": {
    "collapsed": true
   },
   "outputs": [],
   "source": [
    "df.to_csv('combined-table/combined-deseq2.tsv', sep='\\t', index=False)"
   ]
  },
  {
   "cell_type": "markdown",
   "metadata": {},
   "source": [
    "## Gephi Output\n",
    "Gephi is a graph visualization tool"
   ]
  },
  {
   "cell_type": "code",
   "execution_count": 143,
   "metadata": {
    "collapsed": true
   },
   "outputs": [],
   "source": [
    "# Create node information. Gephi requires an \"Id\" and \"Label\" header\n",
    "nodes = list(set(map(lambda x: (x, 'tissue'), df.tissue.tolist()) + \n",
    "            map(lambda x: (x, 'gene'), df.gene.tolist()) +\n",
    "            map(lambda x: (x, 'drug'), df.generic_name.tolist())))\n",
    "nodes = pd.DataFrame.from_records(nodes, columns=('Label', 'Type'))\n",
    "nodes.index.name = 'Id'"
   ]
  },
  {
   "cell_type": "code",
   "execution_count": 144,
   "metadata": {
    "collapsed": true
   },
   "outputs": [],
   "source": [
    "# Edges require a \"Source\" and \"Target\" label\n",
    "edges = set()\n",
    "for row in df.iterrows():\n",
    "    i, row = row\n",
    "    edges.add( (int(nodes[nodes.Label == row.tissue].index[0]), int(nodes[nodes.Label == row.gene].index[0]), 1))\n",
    "    edges.add( (int(nodes[nodes.Label == row.tissue].index[0]), int(nodes[nodes.Label == row.generic_name].index[0]), 1))\n",
    "    edges.add( (int(nodes[nodes.Label == row.generic_name].index[0]), int(nodes[nodes.Label == row.gene].index[0]), 1))      \n",
    "\n",
    "edges = pd.DataFrame.from_records(list(edges), columns=('Source', 'Target', 'Weight'))"
   ]
  },
  {
   "cell_type": "markdown",
   "metadata": {},
   "source": [
    "Save files"
   ]
  },
  {
   "cell_type": "code",
   "execution_count": 145,
   "metadata": {
    "collapsed": true
   },
   "outputs": [],
   "source": [
    "nodes.to_csv('combined-table/gephi-nodes.csv', index=True, index_label='Id')\n",
    "edges.to_csv('combined-table/gephi-edges.csv', index=False)"
   ]
  },
  {
   "cell_type": "markdown",
   "metadata": {},
   "source": [
    "Make Tissue -> Gene dict"
   ]
  },
  {
   "cell_type": "code",
   "execution_count": 81,
   "metadata": {
    "collapsed": true
   },
   "outputs": [],
   "source": [
    "tg = df.groupby('tissue').gene.unique().to_dict()"
   ]
  },
  {
   "cell_type": "code",
   "execution_count": 152,
   "metadata": {},
   "outputs": [
    {
     "data": {
      "text/plain": [
       "'CD274\",\"MMRN2\",\"EGFR\",\"PDCD1\",\"KDR\",\"MET\",\"ALK\",\"ROS1\",\"TOP2A\",\"ERBB2\",\"MAP2K2\",\"PPP4R3A'"
      ]
     },
     "execution_count": 152,
     "metadata": {},
     "output_type": "execute_result"
    }
   ],
   "source": [
    "'\",\"'.join(df[df.tissue == 'Lung'].gene.unique())"
   ]
  },
  {
   "cell_type": "code",
   "execution_count": 154,
   "metadata": {},
   "outputs": [
    {
     "data": {
      "text/html": [
       "<div>\n",
       "<style>\n",
       "    .dataframe thead tr:only-child th {\n",
       "        text-align: right;\n",
       "    }\n",
       "\n",
       "    .dataframe thead th {\n",
       "        text-align: left;\n",
       "    }\n",
       "\n",
       "    .dataframe tbody tr th {\n",
       "        vertical-align: top;\n",
       "    }\n",
       "</style>\n",
       "<table border=\"1\" class=\"dataframe\">\n",
       "  <thead>\n",
       "    <tr style=\"text-align: right;\">\n",
       "      <th></th>\n",
       "      <th>Source</th>\n",
       "      <th>Target</th>\n",
       "      <th>Target Pathway</th>\n",
       "      <th>brand_name</th>\n",
       "      <th>evidence</th>\n",
       "      <th>gene</th>\n",
       "      <th>generic_name</th>\n",
       "      <th>mech_action</th>\n",
       "      <th>tissue</th>\n",
       "      <th>usage</th>\n",
       "      <th>pval_adj</th>\n",
       "      <th>l2fc</th>\n",
       "    </tr>\n",
       "  </thead>\n",
       "  <tbody>\n",
       "    <tr>\n",
       "      <th>57</th>\n",
       "      <td>NaN</td>\n",
       "      <td>TOP2</td>\n",
       "      <td>DNA replication</td>\n",
       "      <td>Etoposide</td>\n",
       "      <td>Small Cell Lung Cancer Etoposide Injection US...</td>\n",
       "      <td>TOP2A</td>\n",
       "      <td>ETOPOSIDE</td>\n",
       "      <td>NaN</td>\n",
       "      <td>Lung</td>\n",
       "      <td>INDICATIONS AND USAGE Etoposide Injection USP ...</td>\n",
       "      <td>0.0</td>\n",
       "      <td>3.914468</td>\n",
       "    </tr>\n",
       "    <tr>\n",
       "      <th>88</th>\n",
       "      <td>NaN</td>\n",
       "      <td>VEGFR, MET, RET, KIT, FLT1, FLT3, FLT4, TIE2,AXL</td>\n",
       "      <td>Other, kinases</td>\n",
       "      <td>COMETRIQ</td>\n",
       "      <td>1 INDICATIONS AND USAGE COMETRIQ is indicated ...</td>\n",
       "      <td>MET</td>\n",
       "      <td>CABOZANTINIB</td>\n",
       "      <td>12.1 Mechanism of Action In vitro biochemical ...</td>\n",
       "      <td>Thyroid</td>\n",
       "      <td>1 INDICATIONS AND USAGE COMETRIQ is indicated ...</td>\n",
       "      <td>0.0</td>\n",
       "      <td>3.537572</td>\n",
       "    </tr>\n",
       "  </tbody>\n",
       "</table>\n",
       "</div>"
      ],
      "text/plain": [
       "   Source                                            Target   Target Pathway  \\\n",
       "57    NaN                                              TOP2  DNA replication   \n",
       "88    NaN  VEGFR, MET, RET, KIT, FLT1, FLT3, FLT4, TIE2,AXL   Other, kinases   \n",
       "\n",
       "   brand_name                                           evidence   gene  \\\n",
       "57  Etoposide   Small Cell Lung Cancer Etoposide Injection US...  TOP2A   \n",
       "88   COMETRIQ  1 INDICATIONS AND USAGE COMETRIQ is indicated ...    MET   \n",
       "\n",
       "    generic_name                                        mech_action   tissue  \\\n",
       "57     ETOPOSIDE                                                NaN     Lung   \n",
       "88  CABOZANTINIB  12.1 Mechanism of Action In vitro biochemical ...  Thyroid   \n",
       "\n",
       "                                                usage  pval_adj      l2fc  \n",
       "57  INDICATIONS AND USAGE Etoposide Injection USP ...       0.0  3.914468  \n",
       "88  1 INDICATIONS AND USAGE COMETRIQ is indicated ...       0.0  3.537572  "
      ]
     },
     "execution_count": 154,
     "metadata": {},
     "output_type": "execute_result"
    }
   ],
   "source": [
    "df[df.l2fc > 3]"
   ]
  },
  {
   "cell_type": "code",
   "execution_count": null,
   "metadata": {
    "collapsed": true
   },
   "outputs": [],
   "source": []
  },
  {
   "cell_type": "code",
   "execution_count": null,
   "metadata": {
    "collapsed": true
   },
   "outputs": [],
   "source": []
  },
  {
   "cell_type": "code",
   "execution_count": null,
   "metadata": {
    "collapsed": true
   },
   "outputs": [],
   "source": []
  }
 ],
 "metadata": {
  "kernelspec": {
   "display_name": "Python 2",
   "language": "python",
   "name": "python2"
  },
  "language_info": {
   "codemirror_mode": {
    "name": "ipython",
    "version": 2
   },
   "file_extension": ".py",
   "mimetype": "text/x-python",
   "name": "python",
   "nbconvert_exporter": "python",
   "pygments_lexer": "ipython2",
   "version": "2.7.13"
  }
 },
 "nbformat": 4,
 "nbformat_minor": 2
}
