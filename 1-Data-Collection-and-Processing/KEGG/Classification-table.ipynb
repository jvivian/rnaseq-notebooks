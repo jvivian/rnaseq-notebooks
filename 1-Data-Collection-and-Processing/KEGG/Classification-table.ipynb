{
 "cells": [
  {
   "cell_type": "markdown",
   "metadata": {},
   "source": [
    "Scrape KEGG for information to classify drugs from our dataset and visualize"
   ]
  },
  {
   "cell_type": "code",
   "execution_count": 2,
   "metadata": {
    "collapsed": true
   },
   "outputs": [],
   "source": [
    "import rnaseq_lib as r\n",
    "import pandas as pd\n",
    "\n",
    "from IPython.display import SVG\n",
    "\n",
    "from ipysankeywidget import SankeyWidget\n",
    "from ipywidgets import Layout"
   ]
  },
  {
   "cell_type": "markdown",
   "metadata": {},
   "source": [
    "## Generating Table"
   ]
  },
  {
   "cell_type": "code",
   "execution_count": 3,
   "metadata": {
    "collapsed": true
   },
   "outputs": [],
   "source": [
    "drugs = ['Abiraterone acetate', 'ADO-TRASTUZUMAB EMTANSINE', 'AFATINIB', 'ALECTINIB HYDROCHLORIDE', 'ALEMTUZUMAB', \n",
    "         'AXITINIB', 'BEVACIZUMAB', 'BICALUTAMIDE', 'BLINATUMOMAB', 'BOSUTINIB MONOHYDRATE', 'CABOZANTINIB', \n",
    "         'Capecitabine', 'CETUXIMAB', 'CRIZOTINIB', 'DABRAFENIB', 'DASATINIB', 'DOXORUBICIN HYDROCHLORIDE', \n",
    "         'Erlotinib', 'ERLOTINIB HYDROCHLORIDE', 'ETOPOSIDE', 'Everolimus', 'GEFITINIB', 'GEMTUZUMAB OZOGAMICIN', \n",
    "         'Goserelin acetate', 'IDELALISIB', 'IMATINIB MESYLATE', 'IPILIMUMAB', 'Ipilimumab', 'LAPATINIB',\n",
    "         'LENALIDOMIDE', 'NECITUMUMAB', 'NILOTINIB', 'Nilotinib', 'NIVOLUMAB', 'OBINUTUZUMAB', 'OFATUMUMAB', \n",
    "         'OLAPARIB', 'PALBOCICLIB', 'PANITUMUMAB', 'PAZOPANIB HYDROCHLORIDE', 'PEMBROLIZUMAB', 'PERTUZUMAB', \n",
    "         'PONATINIB HYDROCHLORIDE', 'RAMUCIRUMAB', 'RITUXIMAB', 'SORAFENIB', 'Sorafenib', 'SUNITINIB MALATE', \n",
    "         'Sunitinib malate', 'TAMOXIFEN CITRATE', 'TEMSIROLIMUS', 'TRAMETINIB', 'VISMODEGIB', 'SORAFENIB', \n",
    "         'Sorafenib', 'SUNITINIB MALATE', 'Sunitinib malate', 'TAMOXIFEN CITRATE', 'TEMSIROLIMUS', 'TRAMETINIB', \n",
    "         'VISMODEGIB', 'ATEZOLIZUMAB', 'AVELUMAB', 'DURVALUMAB', 'Girentuximab', 'RUCAPARIB']"
   ]
  },
  {
   "cell_type": "markdown",
   "metadata": {},
   "source": [
    "Use KEGG API to identify classification of drugs"
   ]
  },
  {
   "cell_type": "code",
   "execution_count": null,
   "metadata": {
    "collapsed": true
   },
   "outputs": [],
   "source": [
    "with open('drug-info.tsv', 'w') as f:\n",
    "    f.write('Drug\\tClass\\tSubgroup\\tSpecification\\tName\\n')\n",
    "    for drug in drugs:\n",
    "        row = [drug]\n",
    "        drug_class = r.web.kegg.get_drug_class(drug)\n",
    "        if drug_class:\n",
    "            row.append(' '.join(drug_class[1].split()[1:]))\n",
    "            row.append(' '.join(drug_class[2].split()[1:]))\n",
    "            row.append(' '.join(drug_class[3].split()[1:]))\n",
    "            row.append(' '.join(drug_class[4].split()[1:]))\n",
    "            f.write('\\t'.join(row) + '\\n')\n",
    "        else:\n",
    "            print 'Nothing found for: {}'.format(drug)"
   ]
  },
  {
   "cell_type": "markdown",
   "metadata": {},
   "source": [
    "Hand fix the 3-4 drugs that it couldn't classify and move output to **tables/drug-classification.tsv**"
   ]
  },
  {
   "cell_type": "code",
   "execution_count": 5,
   "metadata": {
    "scrolled": true
   },
   "outputs": [
    {
     "data": {
      "text/html": [
       "<div>\n",
       "<style>\n",
       "    .dataframe thead tr:only-child th {\n",
       "        text-align: right;\n",
       "    }\n",
       "\n",
       "    .dataframe thead th {\n",
       "        text-align: left;\n",
       "    }\n",
       "\n",
       "    .dataframe tbody tr th {\n",
       "        vertical-align: top;\n",
       "    }\n",
       "</style>\n",
       "<table border=\"1\" class=\"dataframe\">\n",
       "  <thead>\n",
       "    <tr style=\"text-align: right;\">\n",
       "      <th></th>\n",
       "      <th>Class</th>\n",
       "      <th>Subgroup</th>\n",
       "      <th>Specification</th>\n",
       "      <th>Name</th>\n",
       "    </tr>\n",
       "    <tr>\n",
       "      <th>Drug</th>\n",
       "      <th></th>\n",
       "      <th></th>\n",
       "      <th></th>\n",
       "      <th></th>\n",
       "    </tr>\n",
       "  </thead>\n",
       "  <tbody>\n",
       "    <tr>\n",
       "      <th>Abiraterone acetate</th>\n",
       "      <td>ENDOCRINE THERAPY</td>\n",
       "      <td>HORMONE ANTAGONISTS AND RELATED AGENTS</td>\n",
       "      <td>Other hormone antagonists and related agents</td>\n",
       "      <td>Abiraterone</td>\n",
       "    </tr>\n",
       "    <tr>\n",
       "      <th>ADO-TRASTUZUMAB EMTANSINE</th>\n",
       "      <td>ANTINEOPLASTIC AGENTS</td>\n",
       "      <td>OTHER ANTINEOPLASTIC AGENTS</td>\n",
       "      <td>Monoclonal antibodies</td>\n",
       "      <td>Trastuzumab emtansine</td>\n",
       "    </tr>\n",
       "  </tbody>\n",
       "</table>\n",
       "</div>"
      ],
      "text/plain": [
       "                                           Class  \\\n",
       "Drug                                               \n",
       "Abiraterone acetate            ENDOCRINE THERAPY   \n",
       "ADO-TRASTUZUMAB EMTANSINE  ANTINEOPLASTIC AGENTS   \n",
       "\n",
       "                                                         Subgroup  \\\n",
       "Drug                                                                \n",
       "Abiraterone acetate        HORMONE ANTAGONISTS AND RELATED AGENTS   \n",
       "ADO-TRASTUZUMAB EMTANSINE             OTHER ANTINEOPLASTIC AGENTS   \n",
       "\n",
       "                                                          Specification  \\\n",
       "Drug                                                                      \n",
       "Abiraterone acetate        Other hormone antagonists and related agents   \n",
       "ADO-TRASTUZUMAB EMTANSINE                         Monoclonal antibodies   \n",
       "\n",
       "                                            Name  \n",
       "Drug                                              \n",
       "Abiraterone acetate                  Abiraterone  \n",
       "ADO-TRASTUZUMAB EMTANSINE  Trastuzumab emtansine  "
      ]
     },
     "execution_count": 5,
     "metadata": {},
     "output_type": "execute_result"
    }
   ],
   "source": [
    "df = pd.read_csv('tables/drug-classification.tsv', sep='\\t', index_col=0)\n",
    "df.head(2)"
   ]
  },
  {
   "cell_type": "markdown",
   "metadata": {},
   "source": [
    "## Add Tissues to Dataframe\n",
    "\n",
    "    Create empty dataframe\n",
    "   \n",
    "    For each drug:\n",
    "        Collect drug info\n",
    "        Grep for cancer terms\n",
    "        Collect tissue corresponding to cancer\n",
    "        For each tissue:\n",
    "            Copy row and add tissue\n",
    "            Add to new dataframe\n",
    "        "
   ]
  },
  {
   "cell_type": "code",
   "execution_count": 6,
   "metadata": {
    "scrolled": true
   },
   "outputs": [
    {
     "name": "stdout",
     "output_type": "stream",
     "text": [
      "Abiraterone\n",
      "\tset(['Prostate'])   DISEASE   Prostate cancer (castration-resistant) [DS:H00024]\n",
      "Afatinib\n",
      "\tNo tissue found for: Afatinib\n"
     ]
    },
    {
     "ename": "KeyboardInterrupt",
     "evalue": "",
     "output_type": "error",
     "traceback": [
      "\u001b[0;31m---------------------------------------------------------------------------\u001b[0m",
      "\u001b[0;31mKeyboardInterrupt\u001b[0m                         Traceback (most recent call last)",
      "\u001b[0;32m<ipython-input-6-fc54a6f886c4>\u001b[0m in \u001b[0;36m<module>\u001b[0;34m()\u001b[0m\n\u001b[1;32m     29\u001b[0m     \u001b[0;32melse\u001b[0m\u001b[0;34m:\u001b[0m\u001b[0;34m\u001b[0m\u001b[0m\n\u001b[1;32m     30\u001b[0m         \u001b[0;32mprint\u001b[0m \u001b[0;34m'\\tNo tissue found for: {}'\u001b[0m\u001b[0;34m.\u001b[0m\u001b[0mformat\u001b[0m\u001b[0;34m(\u001b[0m\u001b[0mdrug\u001b[0m\u001b[0;34m)\u001b[0m\u001b[0;34m\u001b[0m\u001b[0m\n\u001b[0;32m---> 31\u001b[0;31m         \u001b[0mi\u001b[0m \u001b[0;34m=\u001b[0m \u001b[0mraw_input\u001b[0m\u001b[0;34m(\u001b[0m\u001b[0;34m'\\tAdd tissue for drug or no to exit: '\u001b[0m\u001b[0;34m)\u001b[0m\u001b[0;34m\u001b[0m\u001b[0m\n\u001b[0m\u001b[1;32m     32\u001b[0m         \u001b[0;32mwhile\u001b[0m \u001b[0mi\u001b[0m \u001b[0;34m!=\u001b[0m \u001b[0;34m'no'\u001b[0m\u001b[0;34m:\u001b[0m\u001b[0;34m\u001b[0m\u001b[0m\n\u001b[1;32m     33\u001b[0m             \u001b[0mnew_row\u001b[0m \u001b[0;34m=\u001b[0m \u001b[0mrow\u001b[0m\u001b[0;34m.\u001b[0m\u001b[0mcopy\u001b[0m\u001b[0;34m(\u001b[0m\u001b[0;34m)\u001b[0m\u001b[0;34m\u001b[0m\u001b[0m\n",
      "\u001b[0;32m/home/ubuntu/anaconda2/lib/python2.7/site-packages/ipykernel/kernelbase.pyc\u001b[0m in \u001b[0;36mraw_input\u001b[0;34m(self, prompt)\u001b[0m\n\u001b[1;32m    703\u001b[0m             \u001b[0mself\u001b[0m\u001b[0;34m.\u001b[0m\u001b[0m_parent_ident\u001b[0m\u001b[0;34m,\u001b[0m\u001b[0;34m\u001b[0m\u001b[0m\n\u001b[1;32m    704\u001b[0m             \u001b[0mself\u001b[0m\u001b[0;34m.\u001b[0m\u001b[0m_parent_header\u001b[0m\u001b[0;34m,\u001b[0m\u001b[0;34m\u001b[0m\u001b[0m\n\u001b[0;32m--> 705\u001b[0;31m             \u001b[0mpassword\u001b[0m\u001b[0;34m=\u001b[0m\u001b[0mFalse\u001b[0m\u001b[0;34m,\u001b[0m\u001b[0;34m\u001b[0m\u001b[0m\n\u001b[0m\u001b[1;32m    706\u001b[0m         )\n\u001b[1;32m    707\u001b[0m \u001b[0;34m\u001b[0m\u001b[0m\n",
      "\u001b[0;32m/home/ubuntu/anaconda2/lib/python2.7/site-packages/ipykernel/kernelbase.pyc\u001b[0m in \u001b[0;36m_input_request\u001b[0;34m(self, prompt, ident, parent, password)\u001b[0m\n\u001b[1;32m    733\u001b[0m             \u001b[0;32mexcept\u001b[0m \u001b[0mKeyboardInterrupt\u001b[0m\u001b[0;34m:\u001b[0m\u001b[0;34m\u001b[0m\u001b[0m\n\u001b[1;32m    734\u001b[0m                 \u001b[0;31m# re-raise KeyboardInterrupt, to truncate traceback\u001b[0m\u001b[0;34m\u001b[0m\u001b[0;34m\u001b[0m\u001b[0m\n\u001b[0;32m--> 735\u001b[0;31m                 \u001b[0;32mraise\u001b[0m \u001b[0mKeyboardInterrupt\u001b[0m\u001b[0;34m\u001b[0m\u001b[0m\n\u001b[0m\u001b[1;32m    736\u001b[0m             \u001b[0;32melse\u001b[0m\u001b[0;34m:\u001b[0m\u001b[0;34m\u001b[0m\u001b[0m\n\u001b[1;32m    737\u001b[0m                 \u001b[0;32mbreak\u001b[0m\u001b[0;34m\u001b[0m\u001b[0m\n",
      "\u001b[0;31mKeyboardInterrupt\u001b[0m: "
     ]
    }
   ],
   "source": [
    "# Store Series as rows\n",
    "rows = []\n",
    "\n",
    "for i, row in df.drop_duplicates().sort_values('Name').iterrows():\n",
    "    drug = row.Name\n",
    "    print drug\n",
    "    \n",
    "    # Get drug info\n",
    "    info = r.web.kegg.get_drug_info(drug)\n",
    "    \n",
    "    # Grep for cancer terms\n",
    "    candidates = set()\n",
    "    for sentence in r.tissues.grep_cancer_terms(info):\n",
    "        \n",
    "        # Identify tissue from string\n",
    "        new_candidates = r.tissues.identify_tissue_from_str(sentence)\n",
    "        if new_candidates:\n",
    "            print '\\t', new_candidates, sentence\n",
    "            candidates = candidates.union(new_candidates)\n",
    "        \n",
    "    # If tissue candidate, copy row and add column\n",
    "    if candidates:\n",
    "        for tissue in candidates:\n",
    "            new_row = row.copy()\n",
    "            new_row['Tissue'] = tissue\n",
    "            rows.append(new_row)\n",
    "        \n",
    "    # No tissue found, add manually\n",
    "    else:\n",
    "        print '\\tNo tissue found for: {}'.format(drug)\n",
    "        i = raw_input('\\tAdd tissue for drug or no to exit: ')\n",
    "        while i != 'no':\n",
    "            new_row = row.copy()\n",
    "            new_row['Tissue'] = i\n",
    "            rows.append(new_row)\n",
    "            i = raw_input('\\tAdd tissue for drug or no to exit: ')"
   ]
  },
  {
   "cell_type": "markdown",
   "metadata": {},
   "source": [
    "## Construct Dataframe and Process"
   ]
  },
  {
   "cell_type": "code",
   "execution_count": null,
   "metadata": {
    "collapsed": true,
    "scrolled": false
   },
   "outputs": [],
   "source": [
    "new = pd.concat(rows, axis=1).T\n",
    "new = new.drop_duplicates()\n",
    "new.head(2)"
   ]
  },
  {
   "cell_type": "markdown",
   "metadata": {},
   "source": [
    "Drop drugs for Blood"
   ]
  },
  {
   "cell_type": "code",
   "execution_count": null,
   "metadata": {
    "collapsed": true
   },
   "outputs": [],
   "source": [
    "new = new[new.Tissue != 'Blood']"
   ]
  },
  {
   "cell_type": "markdown",
   "metadata": {},
   "source": [
    "Simplify labels for plot"
   ]
  },
  {
   "cell_type": "code",
   "execution_count": null,
   "metadata": {
    "collapsed": true
   },
   "outputs": [],
   "source": [
    "class_rep = [('ENDOCRINE THERAPY', 'Endocrine'),\n",
    "             ('ANTINEOPLASTIC AGENTS', 'Antineoplastic')]\n",
    "\n",
    "sub_rep = [('HORMONE ANTAGONISTS AND RELATED AGENTS', 'Hormone Antagonists'),\n",
    "            ('OTHER ANTINEOPLASTIC AGENTS', 'Other'),\n",
    "            ('CYTOTOXIC ANTIBIOTICS AND RELATED SUBSTANCES', 'Cytotoxic Antibiotics'),\n",
    "            ('PLANT ALKALOIDS AND OTHER NATURAL PRODUCTS', 'Plant Alkaloids'),\n",
    "            ('HORMONES AND RELATED AGENTS', 'Hormones'),\n",
    "            ('IMMUNOSUPPRESSANTS', 'Suppressants')]\n",
    "\n",
    "spec_rep = [('Other hormone antagonists and related agents', 'Other antagonist'),\n",
    "           ('Protein kinase inhibitors', 'Kinase inhibitors'),\n",
    "           ('Anthracyclines and related substances', 'Anthracyclines'),\n",
    "           ('Gonadotropin releasing hormone analogues', 'Gonadotropin analogue'),\n",
    "           ('Other immunosuppressants', 'Other suppressant'),\n",
    "           ('Other antineoplastic agents', 'Other agent')]\n",
    "\n",
    "for entry, replacement in class_rep:\n",
    "    new['Class'] = new.Class.replace(entry, replacement)\n",
    "\n",
    "for entry, replacement in sub_rep:\n",
    "    new['Subgroup'] = new.Subgroup.replace(entry, replacement)\n",
    "\n",
    "for entry, replacement in spec_rep:\n",
    "    new['Specification'] = new.Specification.replace(entry, replacement)\n",
    "    \n",
    "# Fix old categories\n",
    "new['Tissue'] = new.Tissue.replace('Colon-Small_intestine', 'Colon')\n",
    "new['Tissue'] = new.Tissue.replace('Skin-Head', 'Skin')"
   ]
  },
  {
   "cell_type": "markdown",
   "metadata": {},
   "source": [
    "Fix formatting"
   ]
  },
  {
   "cell_type": "code",
   "execution_count": 9,
   "metadata": {
    "collapsed": true
   },
   "outputs": [],
   "source": [
    "new['Class'] = new.Class.apply(lambda x: x.lower().capitalize())\n",
    "new['Subgroup'] = new.Subgroup.apply(lambda x: x.lower().capitalize())\n",
    "new['Specification'] = new.Specification.apply(lambda x: x.lower().capitalize())"
   ]
  },
  {
   "cell_type": "markdown",
   "metadata": {},
   "source": [
    "Save dataframe\n"
   ]
  },
  {
   "cell_type": "code",
   "execution_count": 11,
   "metadata": {
    "collapsed": true
   },
   "outputs": [],
   "source": [
    "new.to_csv('tables/drug-classification-tissue.tsv', sep='\\t')"
   ]
  },
  {
   "cell_type": "markdown",
   "metadata": {},
   "source": [
    "# Drug Classification Sankey Graph"
   ]
  },
  {
   "cell_type": "markdown",
   "metadata": {},
   "source": [
    "Read in dataframe (if running again)"
   ]
  },
  {
   "cell_type": "code",
   "execution_count": 7,
   "metadata": {
    "collapsed": true
   },
   "outputs": [],
   "source": [
    "new = pd.read_csv('tables/drug-classification-tissue.tsv', sep='\\t', index_col=0)"
   ]
  },
  {
   "cell_type": "markdown",
   "metadata": {},
   "source": [
    "Create links automatically"
   ]
  },
  {
   "cell_type": "code",
   "execution_count": 8,
   "metadata": {
    "collapsed": true
   },
   "outputs": [],
   "source": [
    "def add_links(iteritems):\n",
    "    links = []\n",
    "    type_count = 0\n",
    "    current_type = None\n",
    "\n",
    "    for pair, count in iteritems:\n",
    "        source, target = pair\n",
    "\n",
    "        # Track type by grouping samples by \"source\"\n",
    "        if source != current_type:\n",
    "            current_type = source\n",
    "            type_count += 1\n",
    "        links.append({'source': source, 'target': target, 'value': count, 'type': type_count})\n",
    "    return links"
   ]
  },
  {
   "cell_type": "markdown",
   "metadata": {},
   "source": [
    "Create links between Class -> Subgroup -> Specification -> Tissue"
   ]
  },
  {
   "cell_type": "code",
   "execution_count": 9,
   "metadata": {
    "collapsed": true
   },
   "outputs": [],
   "source": [
    "links = []\n",
    "links.extend(add_links(new.groupby('Class').Subgroup.value_counts().iteritems()))\n",
    "links.extend(add_links(new.groupby('Subgroup').Specification.value_counts().iteritems()))\n",
    "links.extend(add_links(new.groupby('Specification').Tissue.value_counts().iteritems()))"
   ]
  },
  {
   "cell_type": "markdown",
   "metadata": {},
   "source": [
    "Define factory functon for Sankey plot"
   ]
  },
  {
   "cell_type": "code",
   "execution_count": 10,
   "metadata": {
    "collapsed": true
   },
   "outputs": [],
   "source": [
    "layout = Layout(width=\"1200\", height=\"800\")\n",
    "def sankey(**value):\n",
    "    \"\"\"Show SankeyWidget with default values for size and margins\"\"\"\n",
    "    return SankeyWidget(layout=layout,\n",
    "                        margins=dict(top=50, bottom=0, left=180, right=150),\n",
    "                        **value)"
   ]
  },
  {
   "cell_type": "code",
   "execution_count": 11,
   "metadata": {},
   "outputs": [
    {
     "data": {
      "application/vnd.jupyter.widget-view+json": {
       "model_id": "d74a7dd621c04d4295acd44d35f5db27",
       "version_major": 2,
       "version_minor": 0
      },
      "text/html": [
       "<p>Failed to display Jupyter Widget of type <code>SankeyWidget</code>.</p>\n",
       "<p>\n",
       "  If you're reading this message in the Jupyter Notebook or JupyterLab Notebook, it may mean\n",
       "  that the widgets JavaScript is still loading. If this message persists, it\n",
       "  likely means that the widgets JavaScript library is either not installed or\n",
       "  not enabled. See the <a href=\"https://ipywidgets.readthedocs.io/en/stable/user_install.html\">Jupyter\n",
       "  Widgets Documentation</a> for setup instructions.\n",
       "</p>\n",
       "<p>\n",
       "  If you're reading this message in another frontend (for example, a static\n",
       "  rendering on GitHub or <a href=\"https://nbviewer.jupyter.org/\">NBViewer</a>),\n",
       "  it may mean that your frontend doesn't currently support widgets.\n",
       "</p>\n"
      ],
      "text/plain": [
       "SankeyWidget(layout=Layout(height=u'800', width=u'1200'), links=[{'source': 'Antineoplastic', 'type': 1, 'target': 'Other', 'value': 54}, {'source': 'Antineoplastic', 'type': 1, 'target': 'Antimetabolites', 'value': 3}, {'source': 'Antineoplastic', 'type': 1, 'target': 'Plant alkaloids', 'value': 2}, {'source': 'Antineoplastic', 'type': 1, 'target': 'Cytotoxic antibiotics', 'value': 1}, {'source': 'Endocrine', 'type': 2, 'target': 'Hormone antagonists', 'value': 3}, {'source': 'Endocrine', 'type': 2, 'target': 'Hormones', 'value': 1}, {'source': 'Immunosuppressants', 'type': 3, 'target': 'Suppressants', 'value': 2}, {'source': 'Antimetabolites', 'type': 1, 'target': 'Pyrimidine analogues', 'value': 3}, {'source': 'Cytotoxic antibiotics', 'type': 2, 'target': 'Anthracyclines', 'value': 1}, {'source': 'Hormone antagonists', 'type': 3, 'target': 'Anti-androgens', 'value': 1}, {'source': 'Hormone antagonists', 'type': 3, 'target': 'Anti-estrogens', 'value': 1}, {'source': 'Hormone antagonists', 'type': 3, 'target': 'Other antagonist', 'value': 1}, {'source': 'Hormones', 'type': 4, 'target': 'Gonadotropin analogue', 'value': 1}, {'source': 'Other', 'type': 5, 'target': 'Monoclonal antibodies', 'value': 25}, {'source': 'Other', 'type': 5, 'target': 'Kinase inhibitors', 'value': 24}, {'source': 'Other', 'type': 5, 'target': 'Other agent', 'value': 4}, {'source': 'Other', 'type': 5, 'target': 'Parp inhibitor', 'value': 1}, {'source': 'Plant alkaloids', 'type': 6, 'target': 'Podophyllotoxin derivatives', 'value': 2}, {'source': 'Suppressants', 'type': 7, 'target': 'Other suppressant', 'value': 2}, {'source': 'Anthracyclines', 'type': 1, 'target': 'Ovary', 'value': 1}, {'source': 'Anti-androgens', 'type': 2, 'target': 'Prostate', 'value': 1}, {'source': 'Anti-estrogens', 'type': 3, 'target': 'Breast', 'value': 1}, {'source': 'Gonadotropin analogue', 'type': 4, 'target': 'Breast', 'value': 1}, {'source': 'Kinase inhibitors', 'type': 5, 'target': 'Kidney', 'value': 6}, {'source': 'Kinase inhibitors', 'type': 5, 'target': 'Lung', 'value': 5}, {'source': 'Kinase inhibitors', 'type': 5, 'target': 'Breast', 'value': 3}, {'source': 'Kinase inhibitors', 'type': 5, 'target': 'Pancreas', 'value': 3}, {'source': 'Kinase inhibitors', 'type': 5, 'target': 'Skin', 'value': 2}, {'source': 'Kinase inhibitors', 'type': 5, 'target': 'Thyroid', 'value': 2}, {'source': 'Kinase inhibitors', 'type': 5, 'target': 'Brain', 'value': 1}, {'source': 'Kinase inhibitors', 'type': 5, 'target': 'Liver', 'value': 1}, {'source': 'Kinase inhibitors', 'type': 5, 'target': 'Stomach', 'value': 1}, {'source': 'Monoclonal antibodies', 'type': 6, 'target': 'Colon', 'value': 5}, {'source': 'Monoclonal antibodies', 'type': 6, 'target': 'Lung', 'value': 5}, {'source': 'Monoclonal antibodies', 'type': 6, 'target': 'Bladder', 'value': 4}, {'source': 'Monoclonal antibodies', 'type': 6, 'target': 'Kidney', 'value': 3}, {'source': 'Monoclonal antibodies', 'type': 6, 'target': 'Breast', 'value': 2}, {'source': 'Monoclonal antibodies', 'type': 6, 'target': 'Skin', 'value': 2}, {'source': 'Monoclonal antibodies', 'type': 6, 'target': 'Stomach', 'value': 2}, {'source': 'Monoclonal antibodies', 'type': 6, 'target': 'Cervix', 'value': 1}, {'source': 'Monoclonal antibodies', 'type': 6, 'target': 'Ovary', 'value': 1}, {'source': 'Other agent', 'type': 7, 'target': 'Breast', 'value': 1}, {'source': 'Other agent', 'type': 7, 'target': 'Ovary', 'value': 1}, {'source': 'Other agent', 'type': 7, 'target': 'Prostate', 'value': 1}, {'source': 'Other agent', 'type': 7, 'target': 'Skin', 'value': 1}, {'source': 'Other antagonist', 'type': 8, 'target': 'Prostate', 'value': 1}, {'source': 'Other suppressant', 'type': 9, 'target': 'Brain', 'value': 1}, {'source': 'Other suppressant', 'type': 9, 'target': 'Skin', 'value': 1}, {'source': 'Parp inhibitor', 'type': 10, 'target': 'Ovary', 'value': 1}, {'source': 'Podophyllotoxin derivatives', 'type': 11, 'target': 'Lung', 'value': 1}, {'source': 'Podophyllotoxin derivatives', 'type': 11, 'target': 'Testis', 'value': 1}, {'source': 'Pyrimidine analogues', 'type': 12, 'target': 'Breast', 'value': 1}, {'source': 'Pyrimidine analogues', 'type': 12, 'target': 'Colon', 'value': 1}, {'source': 'Pyrimidine analogues', 'type': 12, 'target': 'Stomach', 'value': 1}], margins={'top': 50, 'right': 150, 'left': 180, 'bottom': 0}, nodes=[{'id': 'Thyroid'}, {'id': 'Cervix'}, {'id': 'Testis'}, {'id': 'Parp inhibitor'}, {'id': 'Plant alkaloids'}, {'id': 'Hormones'}, {'id': 'Other'}, {'id': 'Other suppressant'}, {'id': 'Anti-androgens'}, {'id': 'Anti-estrogens'}, {'id': 'Other agent'}, {'id': 'Stomach'}, {'id': 'Endocrine'}, {'id': 'Monoclonal antibodies'}, {'id': 'Bladder'}, {'id': 'Anthracyclines'}, {'id': 'Breast'}, {'id': 'Colon'}, {'id': 'Prostate'}, {'id': 'Pyrimidine analogues'}, {'id': 'Hormone antagonists'}, {'id': 'Kinase inhibitors'}, {'id': 'Cytotoxic antibiotics'}, {'id': 'Liver'}, {'id': 'Podophyllotoxin derivatives'}, {'id': 'Skin'}, {'id': 'Antineoplastic'}, {'id': 'Immunosuppressants'}, {'id': 'Ovary'}, {'id': 'Suppressants'}, {'id': 'Antimetabolites'}, {'id': 'Brain'}, {'id': 'Other antagonist'}, {'id': 'Lung'}, {'id': 'Gonadotropin analogue'}, {'id': 'Pancreas'}, {'id': 'Kidney'}])"
      ]
     },
     "metadata": {},
     "output_type": "display_data"
    }
   ],
   "source": [
    "sankey(links=links)"
   ]
  },
  {
   "cell_type": "markdown",
   "metadata": {},
   "source": [
    "# Mechanism of Action \n",
    "\n",
    "Use hand-curated labeling to group drugs by _mechanism of action_"
   ]
  },
  {
   "cell_type": "code",
   "execution_count": 12,
   "metadata": {
    "collapsed": true
   },
   "outputs": [],
   "source": [
    "df = pd.read_csv('tables/drug-biomarkers.tsv', sep='\\t', index_col=0)"
   ]
  },
  {
   "cell_type": "markdown",
   "metadata": {},
   "source": [
    "Standardize index names"
   ]
  },
  {
   "cell_type": "code",
   "execution_count": 13,
   "metadata": {
    "collapsed": true
   },
   "outputs": [],
   "source": [
    "df.index = [x.lower().capitalize() for x in df.index]\n",
    "new.index = [x.lower().capitalize() for x in new.index]"
   ]
  },
  {
   "cell_type": "markdown",
   "metadata": {},
   "source": [
    "Set mechanism of action in new dataframe"
   ]
  },
  {
   "cell_type": "code",
   "execution_count": 14,
   "metadata": {
    "collapsed": true
   },
   "outputs": [],
   "source": [
    "new['Mechanism_of_Action'] = df['Mechanism of Action']"
   ]
  },
  {
   "cell_type": "markdown",
   "metadata": {},
   "source": [
    "Define links"
   ]
  },
  {
   "cell_type": "code",
   "execution_count": 17,
   "metadata": {
    "collapsed": true
   },
   "outputs": [],
   "source": [
    "links = []\n",
    "links.extend(add_links(new.groupby('Class').Specification.value_counts().iteritems()))\n",
    "links.extend(add_links(new.groupby('Specification')['Mechanism_of_Action'].value_counts().iteritems()))\n",
    "links.extend(add_links(new.groupby('Mechanism_of_Action').Tissue.value_counts().iteritems()))"
   ]
  },
  {
   "cell_type": "code",
   "execution_count": 18,
   "metadata": {},
   "outputs": [
    {
     "data": {
      "application/vnd.jupyter.widget-view+json": {
       "model_id": "e7b14410151749999d4cc75d46ffa060",
       "version_major": 2,
       "version_minor": 0
      },
      "text/html": [
       "<p>Failed to display Jupyter Widget of type <code>SankeyWidget</code>.</p>\n",
       "<p>\n",
       "  If you're reading this message in the Jupyter Notebook or JupyterLab Notebook, it may mean\n",
       "  that the widgets JavaScript is still loading. If this message persists, it\n",
       "  likely means that the widgets JavaScript library is either not installed or\n",
       "  not enabled. See the <a href=\"https://ipywidgets.readthedocs.io/en/stable/user_install.html\">Jupyter\n",
       "  Widgets Documentation</a> for setup instructions.\n",
       "</p>\n",
       "<p>\n",
       "  If you're reading this message in another frontend (for example, a static\n",
       "  rendering on GitHub or <a href=\"https://nbviewer.jupyter.org/\">NBViewer</a>),\n",
       "  it may mean that your frontend doesn't currently support widgets.\n",
       "</p>\n"
      ],
      "text/plain": [
       "SankeyWidget(layout=Layout(height=u'800', width=u'1200'), links=[{'source': 'Antineoplastic', 'type': 1, 'target': 'Monoclonal antibodies', 'value': 25}, {'source': 'Antineoplastic', 'type': 1, 'target': 'Kinase inhibitors', 'value': 24}, {'source': 'Antineoplastic', 'type': 1, 'target': 'Other agent', 'value': 4}, {'source': 'Antineoplastic', 'type': 1, 'target': 'Pyrimidine analogues', 'value': 3}, {'source': 'Antineoplastic', 'type': 1, 'target': 'Podophyllotoxin derivatives', 'value': 2}, {'source': 'Antineoplastic', 'type': 1, 'target': 'Anthracyclines', 'value': 1}, {'source': 'Antineoplastic', 'type': 1, 'target': 'Parp inhibitor', 'value': 1}, {'source': 'Endocrine', 'type': 2, 'target': 'Anti-androgens', 'value': 1}, {'source': 'Endocrine', 'type': 2, 'target': 'Anti-estrogens', 'value': 1}, {'source': 'Endocrine', 'type': 2, 'target': 'Gonadotropin analogue', 'value': 1}, {'source': 'Endocrine', 'type': 2, 'target': 'Other antagonist', 'value': 1}, {'source': 'Immunosuppressants', 'type': 3, 'target': 'Other suppressant', 'value': 2}, {'source': 'Anthracyclines', 'type': 1, 'target': 'TOP2-inhibition', 'value': 1}, {'source': 'Anti-androgens', 'type': 2, 'target': 'AR-inhibition', 'value': 1}, {'source': 'Anti-estrogens', 'type': 3, 'target': 'ERA/B-inhibition', 'value': 1}, {'source': 'Gonadotropin analogue', 'type': 4, 'target': 'GnRH-promotion, LHRH-promotion', 'value': 1}, {'source': 'Kinase inhibitors', 'type': 5, 'target': 'mTOR-inhibition', 'value': 5}, {'source': 'Kinase inhibitors', 'type': 5, 'target': 'ErbB1-inhibition', 'value': 3}, {'source': 'Kinase inhibitors', 'type': 5, 'target': 'c/b-RAF-inhibition, VEGFR2/3-inhibition, PDGFB-inhibition, c-RET-inhibition, CD117/135-inhibition', 'value': 3}, {'source': 'Kinase inhibitors', 'type': 5, 'target': 'ALK-inhibition', 'value': 2}, {'source': 'Kinase inhibitors', 'type': 5, 'target': 'VEGFR1/2/3-inhibition, PDGFA/B-inhibition, c-RET-inhibition, CD117/135-inhibition', 'value': 2}, {'source': 'Kinase inhibitors', 'type': 5, 'target': 'BRAF-inhibition', 'value': 1}, {'source': 'Kinase inhibitors', 'type': 5, 'target': 'Bcr-Abl-inhibition', 'value': 1}, {'source': 'Kinase inhibitors', 'type': 5, 'target': 'CDK4/6-inhibition', 'value': 1}, {'source': 'Kinase inhibitors', 'type': 5, 'target': 'ErbB1/2-inhibition', 'value': 1}, {'source': 'Kinase inhibitors', 'type': 5, 'target': 'ErbB1/2/4-inhibition', 'value': 1}, {'source': 'Kinase inhibitors', 'type': 5, 'target': 'MEK1/2-inhibition', 'value': 1}, {'source': 'Kinase inhibitors', 'type': 5, 'target': 'PDGFA/B-inhibition, VGFR1/2/3-inhibition', 'value': 1}, {'source': 'Kinase inhibitors', 'type': 5, 'target': 'VEGFR1/2/3-inhibition', 'value': 1}, {'source': 'Kinase inhibitors', 'type': 5, 'target': 'c-MET-inhibition, VEGFR1/2/3-inhibition', 'value': 1}, {'source': 'Monoclonal antibodies', 'type': 6, 'target': 'VEGFR1-inhibition', 'value': 5}, {'source': 'Monoclonal antibodies', 'type': 6, 'target': 'PD-1-inhibition', 'value': 4}, {'source': 'Monoclonal antibodies', 'type': 6, 'target': 'PDL1-inhibition', 'value': 4}, {'source': 'Monoclonal antibodies', 'type': 6, 'target': 'ErbB1-inhibition', 'value': 3}, {'source': 'Monoclonal antibodies', 'type': 6, 'target': 'VEGFR2-inhibition', 'value': 3}, {'source': 'Monoclonal antibodies', 'type': 6, 'target': 'ErbB2-inhibition', 'value': 2}, {'source': 'Monoclonal antibodies', 'type': 6, 'target': 'PD1-inhibition', 'value': 2}, {'source': 'Monoclonal antibodies', 'type': 6, 'target': 'CAIX-inhibition', 'value': 1}, {'source': 'Monoclonal antibodies', 'type': 6, 'target': 'CD152-inhibition', 'value': 1}, {'source': 'Other agent', 'type': 7, 'target': 'PARP1-inhibition', 'value': 3}, {'source': 'Other agent', 'type': 7, 'target': 'SMO-inhibition', 'value': 1}, {'source': 'Other antagonist', 'type': 8, 'target': 'CYP17-inhition', 'value': 1}, {'source': 'Other suppressant', 'type': 9, 'target': 'TNF\\xce\\xb1-inhibition', 'value': 2}, {'source': 'Parp inhibitor', 'type': 10, 'target': 'PARP1-inhibition', 'value': 1}, {'source': 'Podophyllotoxin derivatives', 'type': 11, 'target': 'TOP2-inhibition', 'value': 2}, {'source': 'Pyrimidine analogues', 'type': 12, 'target': 'Thymidylate synthase-inhibition', 'value': 3}, {'source': 'ALK-inhibition', 'type': 1, 'target': 'Lung', 'value': 2}, {'source': 'AR-inhibition', 'type': 2, 'target': 'Prostate', 'value': 1}, {'source': 'BRAF-inhibition', 'type': 3, 'target': 'Skin', 'value': 1}, {'source': 'Bcr-Abl-inhibition', 'type': 4, 'target': 'Stomach', 'value': 1}, {'source': 'CAIX-inhibition', 'type': 5, 'target': 'Kidney', 'value': 1}, {'source': 'CD152-inhibition', 'type': 6, 'target': 'Skin', 'value': 1}, {'source': 'CDK4/6-inhibition', 'type': 7, 'target': 'Breast', 'value': 1}, {'source': 'CYP17-inhition', 'type': 8, 'target': 'Prostate', 'value': 1}, {'source': 'ERA/B-inhibition', 'type': 9, 'target': 'Breast', 'value': 1}, {'source': 'ErbB1-inhibition', 'type': 10, 'target': 'Lung', 'value': 3}, {'source': 'ErbB1-inhibition', 'type': 10, 'target': 'Colon', 'value': 2}, {'source': 'ErbB1-inhibition', 'type': 10, 'target': 'Pancreas', 'value': 1}, {'source': 'ErbB1/2-inhibition', 'type': 11, 'target': 'Breast', 'value': 1}, {'source': 'ErbB1/2/4-inhibition', 'type': 12, 'target': 'Lung', 'value': 1}, {'source': 'ErbB2-inhibition', 'type': 13, 'target': 'Breast', 'value': 2}, {'source': 'GnRH-promotion, LHRH-promotion', 'type': 14, 'target': 'Breast', 'value': 1}, {'source': 'MEK1/2-inhibition', 'type': 15, 'target': 'Skin', 'value': 1}, {'source': 'PARP1-inhibition', 'type': 16, 'target': 'Ovary', 'value': 2}, {'source': 'PARP1-inhibition', 'type': 16, 'target': 'Breast', 'value': 1}, {'source': 'PARP1-inhibition', 'type': 16, 'target': 'Prostate', 'value': 1}, {'source': 'PD-1-inhibition', 'type': 17, 'target': 'Bladder', 'value': 1}, {'source': 'PD-1-inhibition', 'type': 17, 'target': 'Colon', 'value': 1}, {'source': 'PD-1-inhibition', 'type': 17, 'target': 'Lung', 'value': 1}, {'source': 'PD-1-inhibition', 'type': 17, 'target': 'Stomach', 'value': 1}, {'source': 'PD1-inhibition', 'type': 18, 'target': 'Kidney', 'value': 1}, {'source': 'PD1-inhibition', 'type': 18, 'target': 'Lung', 'value': 1}, {'source': 'PDGFA/B-inhibition, VGFR1/2/3-inhibition', 'type': 19, 'target': 'Kidney', 'value': 1}, {'source': 'PDL1-inhibition', 'type': 20, 'target': 'Bladder', 'value': 3}, {'source': 'PDL1-inhibition', 'type': 20, 'target': 'Skin', 'value': 1}, {'source': 'SMO-inhibition', 'type': 21, 'target': 'Skin', 'value': 1}, {'source': 'TNF\\xce\\xb1-inhibition', 'type': 22, 'target': 'Brain', 'value': 1}, {'source': 'TNF\\xce\\xb1-inhibition', 'type': 22, 'target': 'Skin', 'value': 1}, {'source': 'TOP2-inhibition', 'type': 23, 'target': 'Lung', 'value': 1}, {'source': 'TOP2-inhibition', 'type': 23, 'target': 'Ovary', 'value': 1}, {'source': 'TOP2-inhibition', 'type': 23, 'target': 'Testis', 'value': 1}, {'source': 'Thymidylate synthase-inhibition', 'type': 24, 'target': 'Breast', 'value': 1}, {'source': 'Thymidylate synthase-inhibition', 'type': 24, 'target': 'Colon', 'value': 1}, {'source': 'Thymidylate synthase-inhibition', 'type': 24, 'target': 'Stomach', 'value': 1}, {'source': 'VEGFR1-inhibition', 'type': 25, 'target': 'Cervix', 'value': 1}, {'source': 'VEGFR1-inhibition', 'type': 25, 'target': 'Colon', 'value': 1}, {'source': 'VEGFR1-inhibition', 'type': 25, 'target': 'Kidney', 'value': 1}, {'source': 'VEGFR1-inhibition', 'type': 25, 'target': 'Lung', 'value': 1}, {'source': 'VEGFR1-inhibition', 'type': 25, 'target': 'Ovary', 'value': 1}, {'source': 'VEGFR1/2/3-inhibition', 'type': 26, 'target': 'Kidney', 'value': 1}, {'source': 'VEGFR1/2/3-inhibition, PDGFA/B-inhibition, c-RET-inhibition, CD117/135-inhibition', 'type': 27, 'target': 'Kidney', 'value': 1}, {'source': 'VEGFR1/2/3-inhibition, PDGFA/B-inhibition, c-RET-inhibition, CD117/135-inhibition', 'type': 27, 'target': 'Pancreas', 'value': 1}, {'source': 'VEGFR2-inhibition', 'type': 28, 'target': 'Colon', 'value': 1}, {'source': 'VEGFR2-inhibition', 'type': 28, 'target': 'Lung', 'value': 1}, {'source': 'VEGFR2-inhibition', 'type': 28, 'target': 'Stomach', 'value': 1}, {'source': 'c-MET-inhibition, VEGFR1/2/3-inhibition', 'type': 29, 'target': 'Thyroid', 'value': 1}, {'source': 'c/b-RAF-inhibition, VEGFR2/3-inhibition, PDGFB-inhibition, c-RET-inhibition, CD117/135-inhibition', 'type': 30, 'target': 'Kidney', 'value': 1}, {'source': 'c/b-RAF-inhibition, VEGFR2/3-inhibition, PDGFB-inhibition, c-RET-inhibition, CD117/135-inhibition', 'type': 30, 'target': 'Liver', 'value': 1}, {'source': 'c/b-RAF-inhibition, VEGFR2/3-inhibition, PDGFB-inhibition, c-RET-inhibition, CD117/135-inhibition', 'type': 30, 'target': 'Thyroid', 'value': 1}, {'source': 'mTOR-inhibition', 'type': 31, 'target': 'Kidney', 'value': 2}, {'source': 'mTOR-inhibition', 'type': 31, 'target': 'Brain', 'value': 1}, {'source': 'mTOR-inhibition', 'type': 31, 'target': 'Breast', 'value': 1}, {'source': 'mTOR-inhibition', 'type': 31, 'target': 'Pancreas', 'value': 1}], margins={'top': 50, 'right': 150, 'left': 180, 'bottom': 0}, nodes=[{'id': 'PDL1-inhibition'}, {'id': 'Cervix'}, {'id': 'Skin'}, {'id': 'CD152-inhibition'}, {'id': 'PD1-inhibition'}, {'id': 'Parp inhibitor'}, {'id': 'VEGFR1/2/3-inhibition, PDGFA/B-inhibition, c-RET-inhibition, CD117/135-inhibition'}, {'id': 'Testis'}, {'id': 'ErbB2-inhibition'}, {'id': 'SMO-inhibition'}, {'id': 'Other suppressant'}, {'id': 'Other agent'}, {'id': 'Anti-estrogens'}, {'id': 'VEGFR1-inhibition'}, {'id': 'MEK1/2-inhibition'}, {'id': 'Colon'}, {'id': 'Stomach'}, {'id': 'CYP17-inhition'}, {'id': 'Brain'}, {'id': 'Endocrine'}, {'id': 'Monoclonal antibodies'}, {'id': 'Bladder'}, {'id': 'ErbB1/2-inhibition'}, {'id': 'ERA/B-inhibition'}, {'id': 'Anthracyclines'}, {'id': 'Breast'}, {'id': 'c/b-RAF-inhibition, VEGFR2/3-inhibition, PDGFB-inhibition, c-RET-inhibition, CD117/135-inhibition'}, {'id': 'TOP2-inhibition'}, {'id': 'ErbB1/2/4-inhibition'}, {'id': 'Prostate'}, {'id': 'Pyrimidine analogues'}, {'id': 'Kinase inhibitors'}, {'id': 'Liver'}, {'id': 'Podophyllotoxin derivatives'}, {'id': 'VEGFR1/2/3-inhibition'}, {'id': 'Antineoplastic'}, {'id': 'PDGFA/B-inhibition, VGFR1/2/3-inhibition'}, {'id': 'AR-inhibition'}, {'id': 'CDK4/6-inhibition'}, {'id': 'TNF\\xce\\xb1-inhibition'}, {'id': 'ErbB1-inhibition'}, {'id': 'c-MET-inhibition, VEGFR1/2/3-inhibition'}, {'id': 'Immunosuppressants'}, {'id': 'GnRH-promotion, LHRH-promotion'}, {'id': 'Ovary'}, {'id': 'PD-1-inhibition'}, {'id': 'PARP1-inhibition'}, {'id': 'VEGFR2-inhibition'}, {'id': 'CAIX-inhibition'}, {'id': 'Thymidylate synthase-inhibition'}, {'id': 'BRAF-inhibition'}, {'id': 'ALK-inhibition'}, {'id': 'Other antagonist'}, {'id': 'mTOR-inhibition'}, {'id': 'Lung'}, {'id': 'Thyroid'}, {'id': 'Gonadotropin analogue'}, {'id': 'Anti-androgens'}, {'id': 'Pancreas'}, {'id': 'Bcr-Abl-inhibition'}, {'id': 'Kidney'}])"
      ]
     },
     "metadata": {},
     "output_type": "display_data"
    }
   ],
   "source": [
    "sankey(links=links)"
   ]
  },
  {
   "cell_type": "markdown",
   "metadata": {},
   "source": [
    "# Biomarker / Mechanism of Action Sankey Graph"
   ]
  },
  {
   "cell_type": "code",
   "execution_count": 149,
   "metadata": {
    "collapsed": true
   },
   "outputs": [],
   "source": [
    "new['Biomarker'] = df['Biomarker(s) for Sankey Graph']"
   ]
  },
  {
   "cell_type": "code",
   "execution_count": 161,
   "metadata": {
    "collapsed": true
   },
   "outputs": [],
   "source": [
    "links = []\n",
    "links.extend(add_links(new.groupby('Mechanism_of_Action').Biomarker.value_counts().iteritems()))\n",
    "#links.extend(add_links(new.groupby('Biomarker').Mechanism_of_Action.value_counts().iteritems()))"
   ]
  },
  {
   "cell_type": "code",
   "execution_count": 162,
   "metadata": {
    "collapsed": true
   },
   "outputs": [],
   "source": [
    "layout = Layout(width=\"1200\", height=\"800\")\n",
    "def sankey(**value):\n",
    "    \"\"\"Show SankeyWidget with default values for size and margins\"\"\"\n",
    "    return SankeyWidget(layout=layout,\n",
    "                        margins=dict(top=50, bottom=0, left=300, right=300),\n",
    "                        **value)"
   ]
  },
  {
   "cell_type": "code",
   "execution_count": 163,
   "metadata": {},
   "outputs": [
    {
     "data": {
      "application/vnd.jupyter.widget-view+json": {
       "model_id": "6c3021d2ef4b44f592658921529c1535",
       "version_major": 2,
       "version_minor": 0
      },
      "text/html": [
       "<p>Failed to display Jupyter Widget of type <code>SankeyWidget</code>.</p>\n",
       "<p>\n",
       "  If you're reading this message in the Jupyter Notebook or JupyterLab Notebook, it may mean\n",
       "  that the widgets JavaScript is still loading. If this message persists, it\n",
       "  likely means that the widgets JavaScript library is either not installed or\n",
       "  not enabled. See the <a href=\"https://ipywidgets.readthedocs.io/en/stable/user_install.html\">Jupyter\n",
       "  Widgets Documentation</a> for setup instructions.\n",
       "</p>\n",
       "<p>\n",
       "  If you're reading this message in another frontend (for example, a static\n",
       "  rendering on GitHub or <a href=\"https://nbviewer.jupyter.org/\">NBViewer</a>),\n",
       "  it may mean that your frontend doesn't currently support widgets.\n",
       "</p>\n"
      ],
      "text/plain": [
       "SankeyWidget(layout=Layout(height=u'800', width=u'1200'), links=[{'source': 'ALK-inhibition', 'type': 1, 'target': 'ALK fusion', 'value': 1}, {'source': 'ALK-inhibition', 'type': 1, 'target': 'ALK fusion; ROS1 fusion', 'value': 1}, {'source': 'AR-inhibition', 'type': 2, 'target': 'AR overexpression', 'value': 1}, {'source': 'BRAF-inhibition', 'type': 3, 'target': 'BRAF (V600E/K); G6PD (S218F, V98M, N156D), biallelic inactivation [must not be deficient]', 'value': 1}, {'source': 'Bcr-Abl-inhibition', 'type': 4, 'target': 'BCR-ABL1 fusion; FIP1L1-PDGFRA fusion; COL1A1-PDGFRB fusion; PDGFRA (552-596, 631-668, 814-854), inframe deletion (I843);  KIT mutation in exon 9,11,13,14, 17', 'value': 1}, {'source': 'CAIX-inhibition', 'type': 5, 'target': 'CAIX overexpression', 'value': 1}, {'source': 'CD152-inhibition', 'type': 6, 'target': 'High serum VEGF, AEC, Tregs, and RLC levels + low LDH, AMC, and MDSCs', 'value': 1}, {'source': 'CDK4/6-inhibition', 'type': 7, 'target': 'ERBB2 expression; ESR1 overexpression', 'value': 1}, {'source': 'CYP17-inhition', 'type': 8, 'target': 'AR (L702H,T878A), amplification; CYP17 expression', 'value': 1}, {'source': 'ERA/B-inhibition', 'type': 9, 'target': 'ERBB2 expression; ESR1 overexpression', 'value': 1}, {'source': 'ErbB1-inhibition', 'type': 10, 'target': 'EGFR (L858R,L861,G719,S768I), exon 19 deletions, activating mutations within exons 18\\xe2\\x80\\x9321 of TKI domain', 'value': 2}, {'source': 'ErbB1-inhibition', 'type': 10, 'target': 'EGFR (L858R), exon 19 deletions, amplification', 'value': 1}, {'source': 'ErbB1-inhibition', 'type': 10, 'target': 'EGFR overexpression', 'value': 1}, {'source': 'ErbB1-inhibition', 'type': 10, 'target': 'EGFR overexpression; KRAS (G13D)', 'value': 1}, {'source': 'ErbB1-inhibition', 'type': 10, 'target': 'Wild-type KRAS; wild-type NRAS', 'value': 1}, {'source': 'ErbB1/2-inhibition', 'type': 11, 'target': 'ERBB2 overexpression, amplification', 'value': 1}, {'source': 'ErbB1/2/4-inhibition', 'type': 12, 'target': 'EGFR (L858R, L861P/Q/R, G719A/C/D/S, L747S, S768I), insertions/deletions (exon 19)', 'value': 1}, {'source': 'ErbB2-inhibition', 'type': 13, 'target': 'ERBB2 amplificaition, overexpression', 'value': 1}, {'source': 'ErbB2-inhibition', 'type': 13, 'target': 'ERBB2 overexpression, amplification', 'value': 1}, {'source': 'GnRH-promotion, LHRH-promotion', 'type': 14, 'target': 'GNRHR1 overexpression', 'value': 1}, {'source': 'MEK1/2-inhibition', 'type': 15, 'target': 'BRAF (V600E/K)', 'value': 1}, {'source': 'PARP1-inhibition', 'type': 16, 'target': 'BRCA1 oncogenic mutation; BRCA2 oncogenic mutation', 'value': 4}, {'source': 'PD-1-inhibition', 'type': 17, 'target': 'CD274 overexpression', 'value': 4}, {'source': 'PD1-inhibition', 'type': 18, 'target': 'CD274 overexpression', 'value': 2}, {'source': 'PDGFA/B-inhibition, VGFR1/2/3-inhibition', 'type': 19, 'target': 'UGT1A1 biallelic inactivation', 'value': 1}, {'source': 'PDL1-inhibition', 'type': 20, 'target': 'CD274 overexpression', 'value': 4}, {'source': 'SMO-inhibition', 'type': 21, 'target': 'PTCH1 oncogenic mutation [loss of function]', 'value': 1}, {'source': 'TNF\\xce\\xb1-inhibition', 'type': 22, 'target': 'MDS: 5q- syndrome (3 adjacent genes deleted: CSF2, PDGFRB, and CSF1R)', 'value': 2}, {'source': 'TOP2-inhibition', 'type': 23, 'target': '???', 'value': 2}, {'source': 'TOP2-inhibition', 'type': 23, 'target': 'TP53 oncogenic mutation', 'value': 1}, {'source': 'Thymidylate synthase-inhibition', 'type': 24, 'target': 'DPYD (I560S,D949V), splice donor variant (DPYD*2A)', 'value': 3}, {'source': 'VEGFR1-inhibition', 'type': 25, 'target': 'VHL inactivation (by mutation or promoter hypermethylation)', 'value': 5}, {'source': 'VEGFR1/2/3-inhibition', 'type': 26, 'target': 'ABL1 (T315I); VHL inactivation (by mutation or promoter hypermethylation)', 'value': 1}, {'source': 'VEGFR1/2/3-inhibition, PDGFA/B-inhibition, c-RET-inhibition, CD117/135-inhibition', 'type': 27, 'target': 'PDGFRA (552-596,631-668,814-854); KIT mutation in exon 9,11,13,14 or 17', 'value': 2}, {'source': 'VEGFR2-inhibition', 'type': 28, 'target': 'VEGFR2 overexpression', 'value': 3}, {'source': 'c-MET-inhibition, VEGFR1/2/3-inhibition', 'type': 29, 'target': 'RET (C634W,M918T)', 'value': 1}, {'source': 'c/b-RAF-inhibition, VEGFR2/3-inhibition, PDGFB-inhibition, c-RET-inhibition, CD117/135-inhibition', 'type': 30, 'target': 'BRAF (V600E); serum IGF-1 levels; FGF3/FGF4 and VEGFA amplification', 'value': 3}, {'source': 'mTOR-inhibition', 'type': 31, 'target': 'ERBB2 expression; ESR1 overexpression; TSC1 oncogenic mutation; TSC2 oncogenic mutation', 'value': 4}, {'source': 'mTOR-inhibition', 'type': 31, 'target': 'MTOR overexpression', 'value': 1}], margins={'top': 50, 'right': 300, 'left': 300, 'bottom': 0}, nodes=[{'id': 'PDL1-inhibition'}, {'id': 'GNRHR1 overexpression'}, {'id': 'PD1-inhibition'}, {'id': 'ERBB2 expression; ESR1 overexpression'}, {'id': 'ERBB2 expression; ESR1 overexpression; TSC1 oncogenic mutation; TSC2 oncogenic mutation'}, {'id': 'VEGFR1/2/3-inhibition, PDGFA/B-inhibition, c-RET-inhibition, CD117/135-inhibition'}, {'id': 'CAIX overexpression'}, {'id': 'BRAF (V600E); serum IGF-1 levels; FGF3/FGF4 and VEGFA amplification'}, {'id': 'CD152-inhibition'}, {'id': 'BRAF (V600E/K)'}, {'id': 'ERBB2 amplificaition, overexpression'}, {'id': 'VEGFR2 overexpression'}, {'id': 'SMO-inhibition'}, {'id': 'EGFR (L858R, L861P/Q/R, G719A/C/D/S, L747S, S768I), insertions/deletions (exon 19)'}, {'id': 'ALK fusion; ROS1 fusion'}, {'id': 'mTOR-inhibition'}, {'id': 'CD274 overexpression'}, {'id': 'MEK1/2-inhibition'}, {'id': 'EGFR (L858R), exon 19 deletions, amplification'}, {'id': 'ALK-inhibition'}, {'id': 'Wild-type KRAS; wild-type NRAS'}, {'id': 'ErbB1/2-inhibition'}, {'id': 'ERA/B-inhibition'}, {'id': 'ErbB1/2/4-inhibition'}, {'id': 'VHL inactivation (by mutation or promoter hypermethylation)'}, {'id': 'BRCA1 oncogenic mutation; BRCA2 oncogenic mutation'}, {'id': 'VEGFR1/2/3-inhibition'}, {'id': 'PDGFA/B-inhibition, VGFR1/2/3-inhibition'}, {'id': 'UGT1A1 biallelic inactivation'}, {'id': 'EGFR (L858R,L861,G719,S768I), exon 19 deletions, activating mutations within exons 18\\xe2\\x80\\x9321 of TKI domain'}, {'id': 'High serum VEGF, AEC, Tregs, and RLC levels + low LDH, AMC, and MDSCs'}, {'id': 'ErbB2-inhibition'}, {'id': 'CYP17-inhition'}, {'id': 'EGFR overexpression'}, {'id': 'DPYD (I560S,D949V), splice donor variant (DPYD*2A)'}, {'id': 'ALK fusion'}, {'id': 'c/b-RAF-inhibition, VEGFR2/3-inhibition, PDGFB-inhibition, c-RET-inhibition, CD117/135-inhibition'}, {'id': 'BCR-ABL1 fusion; FIP1L1-PDGFRA fusion; COL1A1-PDGFRB fusion; PDGFRA (552-596, 631-668, 814-854), inframe deletion (I843);  KIT mutation in exon 9,11,13,14, 17'}, {'id': 'AR overexpression'}, {'id': 'MTOR overexpression'}, {'id': 'ERBB2 overexpression, amplification'}, {'id': 'TOP2-inhibition'}, {'id': 'AR-inhibition'}, {'id': 'RET (C634W,M918T)'}, {'id': 'CDK4/6-inhibition'}, {'id': 'TNF\\xce\\xb1-inhibition'}, {'id': 'ErbB1-inhibition'}, {'id': 'c-MET-inhibition, VEGFR1/2/3-inhibition'}, {'id': 'GnRH-promotion, LHRH-promotion'}, {'id': 'PD-1-inhibition'}, {'id': 'PARP1-inhibition'}, {'id': 'VEGFR2-inhibition'}, {'id': 'VEGFR1-inhibition'}, {'id': 'CAIX-inhibition'}, {'id': 'Thymidylate synthase-inhibition'}, {'id': 'PDGFRA (552-596,631-668,814-854); KIT mutation in exon 9,11,13,14 or 17'}, {'id': 'ABL1 (T315I); VHL inactivation (by mutation or promoter hypermethylation)'}, {'id': 'AR (L702H,T878A), amplification; CYP17 expression'}, {'id': 'BRAF-inhibition'}, {'id': 'BRAF (V600E/K); G6PD (S218F, V98M, N156D), biallelic inactivation [must not be deficient]'}, {'id': 'EGFR overexpression; KRAS (G13D)'}, {'id': 'TP53 oncogenic mutation'}, {'id': 'MDS: 5q- syndrome (3 adjacent genes deleted: CSF2, PDGFRB, and CSF1R)'}, {'id': '???'}, {'id': 'Bcr-Abl-inhibition'}, {'id': 'PTCH1 oncogenic mutation [loss of function]'}])"
      ]
     },
     "metadata": {},
     "output_type": "display_data"
    }
   ],
   "source": [
    "sankey(links=links)"
   ]
  },
  {
   "cell_type": "code",
   "execution_count": null,
   "metadata": {
    "collapsed": true
   },
   "outputs": [],
   "source": []
  }
 ],
 "metadata": {
  "kernelspec": {
   "display_name": "Python 2",
   "language": "python",
   "name": "python2"
  },
  "language_info": {
   "codemirror_mode": {
    "name": "ipython",
    "version": 2
   },
   "file_extension": ".py",
   "mimetype": "text/x-python",
   "name": "python",
   "nbconvert_exporter": "python",
   "pygments_lexer": "ipython2",
   "version": "2.7.13"
  }
 },
 "nbformat": 4,
 "nbformat_minor": 2
}
