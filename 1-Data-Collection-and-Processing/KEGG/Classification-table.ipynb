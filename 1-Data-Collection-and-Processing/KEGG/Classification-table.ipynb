{
 "cells": [
  {
   "cell_type": "markdown",
   "metadata": {},
   "source": [
    "Scrape KEGG for information to classify drugs from our dataset and visualize"
   ]
  },
  {
   "cell_type": "code",
   "execution_count": 2,
   "metadata": {
    "collapsed": true
   },
   "outputs": [],
   "source": [
    "import rnaseq_lib as r\n",
    "import pandas as pd\n",
    "\n",
    "from IPython.display import SVG\n",
    "\n",
    "from ipysankeywidget import SankeyWidget\n",
    "from ipywidgets import Layout"
   ]
  },
  {
   "cell_type": "markdown",
   "metadata": {},
   "source": [
    "## Generating Table"
   ]
  },
  {
   "cell_type": "code",
   "execution_count": 3,
   "metadata": {
    "collapsed": true
   },
   "outputs": [],
   "source": [
    "drugs = ['Abiraterone acetate', 'ADO-TRASTUZUMAB EMTANSINE', 'AFATINIB', 'ALECTINIB HYDROCHLORIDE', 'ALEMTUZUMAB', \n",
    "         'AXITINIB', 'BEVACIZUMAB', 'BICALUTAMIDE', 'BLINATUMOMAB', 'BOSUTINIB MONOHYDRATE', 'CABOZANTINIB', \n",
    "         'Capecitabine', 'CETUXIMAB', 'CRIZOTINIB', 'DABRAFENIB', 'DASATINIB', 'DOXORUBICIN HYDROCHLORIDE', \n",
    "         'Erlotinib', 'ERLOTINIB HYDROCHLORIDE', 'ETOPOSIDE', 'Everolimus', 'GEFITINIB', 'GEMTUZUMAB OZOGAMICIN', \n",
    "         'Goserelin acetate', 'IDELALISIB', 'IMATINIB MESYLATE', 'IPILIMUMAB', 'Ipilimumab', 'LAPATINIB',\n",
    "         'LENALIDOMIDE', 'NECITUMUMAB', 'NILOTINIB', 'Nilotinib', 'NIVOLUMAB', 'OBINUTUZUMAB', 'OFATUMUMAB', \n",
    "         'OLAPARIB', 'PALBOCICLIB', 'PANITUMUMAB', 'PAZOPANIB HYDROCHLORIDE', 'PEMBROLIZUMAB', 'PERTUZUMAB', \n",
    "         'PONATINIB HYDROCHLORIDE', 'RAMUCIRUMAB', 'RITUXIMAB', 'SORAFENIB', 'Sorafenib', 'SUNITINIB MALATE', \n",
    "         'Sunitinib malate', 'TAMOXIFEN CITRATE', 'TEMSIROLIMUS', 'TRAMETINIB', 'VISMODEGIB', 'SORAFENIB', \n",
    "         'Sorafenib', 'SUNITINIB MALATE', 'Sunitinib malate', 'TAMOXIFEN CITRATE', 'TEMSIROLIMUS', 'TRAMETINIB', \n",
    "         'VISMODEGIB', 'ATEZOLIZUMAB', 'AVELUMAB', 'DURVALUMAB', 'Girentuximab', 'RUCAPARIB']"
   ]
  },
  {
   "cell_type": "markdown",
   "metadata": {},
   "source": [
    "Use KEGG API to identify classification of drugs"
   ]
  },
  {
   "cell_type": "code",
   "execution_count": null,
   "metadata": {
    "collapsed": true
   },
   "outputs": [],
   "source": [
    "with open('drug-classification-init.tsv', 'w') as f:\n",
    "    f.write('Drug\\tClass\\tSubgroup\\tSpecification\\tName\\n')\n",
    "    for drug in drugs:\n",
    "        row = [drug]\n",
    "        drug_class = r.web.kegg.get_drug_class(drug)\n",
    "        if drug_class:\n",
    "            row.append(' '.join(drug_class[1].split()[1:]))\n",
    "            row.append(' '.join(drug_class[2].split()[1:]))\n",
    "            row.append(' '.join(drug_class[3].split()[1:]))\n",
    "            row.append(' '.join(drug_class[4].split()[1:]))\n",
    "            f.write('\\t'.join(row) + '\\n')\n",
    "        else:\n",
    "            print 'Nothing found for: {}'.format(drug)"
   ]
  },
  {
   "cell_type": "markdown",
   "metadata": {},
   "source": [
    "Hand fix the 3-4 drugs that it couldn't classify and move output to **tables/drug-classification.tsv**"
   ]
  },
  {
   "cell_type": "code",
   "execution_count": 4,
   "metadata": {
    "scrolled": true
   },
   "outputs": [
    {
     "data": {
      "text/html": [
       "<div>\n",
       "<style>\n",
       "    .dataframe thead tr:only-child th {\n",
       "        text-align: right;\n",
       "    }\n",
       "\n",
       "    .dataframe thead th {\n",
       "        text-align: left;\n",
       "    }\n",
       "\n",
       "    .dataframe tbody tr th {\n",
       "        vertical-align: top;\n",
       "    }\n",
       "</style>\n",
       "<table border=\"1\" class=\"dataframe\">\n",
       "  <thead>\n",
       "    <tr style=\"text-align: right;\">\n",
       "      <th></th>\n",
       "      <th>Class</th>\n",
       "      <th>Subgroup</th>\n",
       "      <th>Specification</th>\n",
       "      <th>Name</th>\n",
       "    </tr>\n",
       "    <tr>\n",
       "      <th>Drug</th>\n",
       "      <th></th>\n",
       "      <th></th>\n",
       "      <th></th>\n",
       "      <th></th>\n",
       "    </tr>\n",
       "  </thead>\n",
       "  <tbody>\n",
       "    <tr>\n",
       "      <th>Abiraterone acetate</th>\n",
       "      <td>ENDOCRINE THERAPY</td>\n",
       "      <td>HORMONE ANTAGONISTS AND RELATED AGENTS</td>\n",
       "      <td>Other hormone antagonists and related agents</td>\n",
       "      <td>Abiraterone</td>\n",
       "    </tr>\n",
       "    <tr>\n",
       "      <th>ADO-TRASTUZUMAB EMTANSINE</th>\n",
       "      <td>ANTINEOPLASTIC AGENTS</td>\n",
       "      <td>OTHER ANTINEOPLASTIC AGENTS</td>\n",
       "      <td>Monoclonal antibodies</td>\n",
       "      <td>Trastuzumab emtansine</td>\n",
       "    </tr>\n",
       "  </tbody>\n",
       "</table>\n",
       "</div>"
      ],
      "text/plain": [
       "                                           Class  \\\n",
       "Drug                                               \n",
       "Abiraterone acetate            ENDOCRINE THERAPY   \n",
       "ADO-TRASTUZUMAB EMTANSINE  ANTINEOPLASTIC AGENTS   \n",
       "\n",
       "                                                         Subgroup  \\\n",
       "Drug                                                                \n",
       "Abiraterone acetate        HORMONE ANTAGONISTS AND RELATED AGENTS   \n",
       "ADO-TRASTUZUMAB EMTANSINE             OTHER ANTINEOPLASTIC AGENTS   \n",
       "\n",
       "                                                          Specification  \\\n",
       "Drug                                                                      \n",
       "Abiraterone acetate        Other hormone antagonists and related agents   \n",
       "ADO-TRASTUZUMAB EMTANSINE                         Monoclonal antibodies   \n",
       "\n",
       "                                            Name  \n",
       "Drug                                              \n",
       "Abiraterone acetate                  Abiraterone  \n",
       "ADO-TRASTUZUMAB EMTANSINE  Trastuzumab emtansine  "
      ]
     },
     "execution_count": 4,
     "metadata": {},
     "output_type": "execute_result"
    }
   ],
   "source": [
    "df = pd.read_csv('tables/drug-classification.tsv', sep='\\t', index_col=0)\n",
    "df.head(2)"
   ]
  },
  {
   "cell_type": "markdown",
   "metadata": {},
   "source": [
    "## Add Tissues to Dataframe\n",
    "\n",
    "    Create empty dataframe\n",
    "   \n",
    "    For each drug:\n",
    "        Collect drug info\n",
    "        Grep for cancer terms\n",
    "        Collect tissue corresponding to cancer\n",
    "        For each tissue:\n",
    "            Copy row and add tissue\n",
    "            Add to new dataframe\n",
    "        "
   ]
  },
  {
   "cell_type": "code",
   "execution_count": 5,
   "metadata": {
    "scrolled": false
   },
   "outputs": [
    {
     "name": "stdout",
     "output_type": "stream",
     "text": [
      "Abiraterone\n",
      "\tset(['Prostate'])   DISEASE   Prostate cancer (castration-resistant) [DS:H00024]\n",
      "Afatinib\n",
      "\tNo tissue found for: Afatinib\n",
      "\tAdd tissue for drug or no to exit: Lung\n",
      "\tAdd tissue for drug or no to exit: no\n",
      "Alectinib\n",
      "\tset(['Lung'])   DISEASE   Non-small cell lung cancer (ALK positive) [DS:H00014]\n",
      "Alemtuzumab\n",
      "\tset(['Blood'])   DISEASE   B-cell chronic lymphocytic leukemia [DS:H00005]\n",
      "Atezolizumab\n",
      "\tset(['Bladder'])   DISEASE   Urothelial carcinoma\n",
      "Avelumab\n",
      "\tset(['Skin-Head'])   DISEASE   Merkel cell carcinoma [DS:H01555]\n",
      "\tset(['Bladder'])             Urothelial carcinoma [DS:H00022]\n",
      "Axitinib\n",
      "\tset(['Kidney'])   DISEASE   Renal cell carcinoma [DS:H00021]\n",
      "Bevacizumab\n",
      "\tset(['Colon-Small_intestine'])   DISEASE   Colorectal cancer [DS:H00020]\n",
      "\tset(['Lung'])             Non-squamous non-small cell lung cancer [DS:H00014]\n",
      "\tset(['Kidney'])             Renal cell carcinoma [DS:H00021]\n",
      "\tset(['Cervix'])             Carcinoma of the cervix [DS:H00030]\n",
      "\tset(['Ovary'])             Epithelial ovarian, fallopian tube or primary peritoneal cancer [DS:H00027 H01554 H01665]\n",
      "Bicalutamide\n",
      "\tset(['Prostate'])   DISEASE   Prostate cancer [DS:H00024]\n",
      "\tset(['Prostate'])             hsa05215(367)  Prostate cancer\n",
      "Blinatumomab\n",
      "\tset(['Blood'])   DISEASE   B-cell precursor acute lymphoblastic leukemia (Philadelphia chromosome-negative) [DS:H00001]\n",
      "Bosutinib\n",
      "\tNo tissue found for: Bosutinib\n",
      "\tAdd tissue for drug or no to exit: Blood\n",
      "\tAdd tissue for drug or no to exit: no\n",
      "Cabozantinib\n",
      "\tset(['Thyroid']) COMMENT     Treatment of medullary thyroid carcinoma\n",
      "Capecitabine\n",
      "\tNo tissue found for: Capecitabine\n",
      "\tAdd tissue for drug or no to exit: Breast\n",
      "\tAdd tissue for drug or no to exit: Colon\n",
      "\tAdd tissue for drug or no to exit: Stomach\n",
      "\tAdd tissue for drug or no to exit: no\n",
      "Cetuximab\n",
      "\tset(['Colon-Small_intestine'])   DISEASE   Colorectal cancer (K-Ras wild type, EGFR expressing) [DS:H00020]\n",
      "Crizotinib\n",
      "\tset(['Lung'])   DISEASE   Non-small cell lung cancer (ALK positive) [DS:H00014]\n",
      "\tset(['Lung'])   PATHWAY   hsa05223(238)  Non-small cell lung cancer\n",
      "Dabrafenib\n",
      "\tNo tissue found for: Dabrafenib\n",
      "\tAdd tissue for drug or no to exit: Skin\n",
      "\tAdd tissue for drug or no to exit: no\n",
      "Dasatinib\n",
      "\tset(['Blood']) COMMENT     Indication: Philadelphia chromosome-positive (Ph+) chronic myeloid leukemia (CML), Philadelphia chromosome-positive acute lymphoblastic leukemia (Ph+ ALL)\n",
      "\tset(['Blood'])             hsa05220(25)  Chronic myeloid leukemia\n",
      "Doxorubicin\n",
      "\tset(['Ovary'])   DISEASE   Ovarian cancer [DS:H00027]\n",
      "Durvalumab\n",
      "\tset(['Bladder'])   DISEASE   Urothelial carcinoma [DS:H00022]\n",
      "Erlotinib\n",
      "\tset(['Lung'])   DISEASE   Non-small cell lung cancer (EGFR mutation positive) [DS:H00014]\n",
      "\tset(['Pancreas'])             Pancreatic cancer [DS:H00019]\n",
      "\tset(['Lung'])             hsa05223(1956)  Non-small cell lung cancer\n",
      "Etoposide\n",
      "\tset(['Testis'])   DISEASE   Testicular tumors [DS:H00023]\n",
      "\tset(['Lung'])             Small cell lung cancer [DS:H00013]\n",
      "Everolimus\n",
      "\tset(['Breast'])   DISEASE   Breast cancer (HER2-negative) [DS:H00031]\n",
      "\tset(['Pancreas'])             Pancreatic neuroendocrine tumor [DS:H00045]\n",
      "\tset(['Kidney'])             Renal cell carcinoma [DS:H00021]\n",
      "\tset(['Brain', 'Breast', 'Kidney', 'Pancreas'])             Indication: Advanced hormone receptor-positive, HER2-negative breast cancer, advanced neuroendocrine tumors of pancreatic origin, advanced renal cell carcinoma, tuberous sclerosis complex (TSC), subependymal giant cell astrocytoma with TSC\n",
      "Gefitinib\n",
      "\tset(['Lung'])   DISEASE   Non-small cell lung cancer (EGFR mutation positive) [DS:H00014]\n",
      "\tset(['Lung'])             hsa05223(1956)  Non-small cell lung cancer\n",
      "Gemtuzumab\n",
      "\tset(['Blood'])   DISEASE   Acute myeloid leukemia [DS:H00003]\n",
      "Girentuximab\n",
      "\tNo tissue found for: Girentuximab\n",
      "\tAdd tissue for drug or no to exit: Kidney\n",
      "\tAdd tissue for drug or no to exit: no\n",
      "Goserelin\n",
      "\tset(['Breast'])             Breast cancer [DS:H00031]\n",
      "Idelalisib\n",
      "\tNo tissue found for: Idelalisib\n",
      "\tAdd tissue for drug or no to exit: Blood\n",
      "\tAdd tissue for drug or no to exit: no\n",
      "Imatinib\n",
      "\tset(['Blood'])   DISEASE   Chronic myeloid leukemia (Philadelphia chromosome positive) [DS:H00004]\n",
      "\tset(['Blood'])             Acute lymphoblastic leukemia (Philadelphia chromosome positive) [DS:H00001]\n",
      "\tset(['Blood'])             Chronic eosinophilic leukemia (FIP1L1-PDGFRA positive) [DS:H01590]\n",
      "\tset(['Stomach'])             Gastrointestinal stromal tumors (KIT positive) [DS:H01591]\n",
      "\tset(['Blood'])             hsa05220(25)  Chronic myeloid leukemia\n",
      "Ipilimumab\n",
      "\tNo tissue found for: Ipilimumab\n",
      "\tAdd tissue for drug or no to exit: Skin\n",
      "\tAdd tissue for drug or no to exit: no\n",
      "Lapatinib\n",
      "\tset(['Breast'])   DISEASE   Breast cancer (HER2 overexpressing) [DS:H00031]\n",
      "Lenalidomide\n",
      "\tset(['Brain', 'Skin-Head', 'Blood'])             Treatment of multiple myeloma, myelodysplastic syndromes, solid tumors including glioma and metastatic melanoma, Crohn's disease, and heart failure\n",
      "Necitumumab\n",
      "\tset(['Lung'])   DISEASE   Squamous non-small cell lung cancer [DS:H00014]\n",
      "Nilotinib\n",
      "\tset(['Blood'])   DISEASE   Chronic myeloid leukemia (Philadelphia chromosome positive) [DS:H00004]\n",
      "\tset(['Blood'])             hsa05220(25)  Chronic myeloid leukemia\n",
      "Nivolumab\n",
      "\tset(['Lung'])             Non-small cell lung cancer [DS:H00014]\n",
      "\tset(['Kidney'])             Renal cell carcinoma [DS:H00021]\n",
      "Obinutuzumab\n",
      "\tset(['Blood'])   DISEASE   Chronic lymphocytic leukemia [DS:H00005]\n",
      "Ofatumumab\n",
      "\tset(['Blood'])   DISEASE   Chronic lymphocytic leukemia [DS:H00005]\n",
      "Olaparib\n",
      "\tNo tissue found for: Olaparib\n",
      "\tAdd tissue for drug or no to exit: Ovary\n",
      "\tAdd tissue for drug or no to exit: Breast\n",
      "\tAdd tissue for drug or no to exit: Prostate\n",
      "\tAdd tissue for drug or no to exit: no\n",
      "Palbociclib\n",
      "\tset(['Breast'])   DISEASE   Breast cancer (HR-positive, HER2-negative) [DS:H00031]\n",
      "Panitumumab\n",
      "\tset(['Colon-Small_intestine'])   DISEASE   Colorectal cancer (K-Ras wild type) [DS:H00020]\n",
      "Pazopanib\n",
      "\tset(['Kidney'])   DISEASE   Renal cell carcinoma [DS:H00021]\n",
      "Pembrolizumab\n",
      "\tset(['Lung'])             Non-small cell lung cancer [DS:H00014]\n",
      "\tset(['Bladder'])             Urothelial carcinoma [DS:H00022]\n",
      "\tset(['Colon-Small_intestine'])             Colorectal cancer (MSI-H) [DS:H00020]\n",
      "\tset(['Stomach'])             Gastric cancer [DS:H00018]\n",
      "Pertuzumab\n",
      "\tset(['Breast'])   DISEASE   Breast cancer (HER2 positive) [DS:H00031]\n",
      "Ponatinib\n",
      "\tNo tissue found for: Ponatinib\n",
      "\tAdd tissue for drug or no to exit: Blood\n",
      "\tAdd tissue for drug or no to exit: no\n",
      "Ramucirumab\n",
      "\tset(['Stomach'])   DISEASE   Gastric cancer [DS:H00018]\n",
      "\tset(['Lung'])             Non-small cell lung cancer [DS:H00014]\n",
      "\tset(['Colon-Small_intestine'])             Colorectal cancer [DS:H00020]\n",
      "Rituximab\n",
      "\tset(['Blood'])             Chronic lymphocytic leukemia [DS:H00005]\n",
      "Rucaparib\n",
      "\tNo tissue found for: Rucaparib\n",
      "\tAdd tissue for drug or no to exit: Ovary\n",
      "\tAdd tissue for drug or no to exit: no\n",
      "Sorafenib\n",
      "\tset(['Liver'])   DISEASE   Hepatocellular carcinoma [DS:H00048]\n",
      "\tset(['Kidney'])             Renal cell carcinoma [DS:H00021]\n",
      "\tset(['Thyroid'])             Thyroid carcinoma [DS:H00032]\n",
      "\tset(['Kidney'])             hsa05211(673)  Renal cell carcinoma\n",
      "Sunitinib\n",
      "\tset(['Kidney'])             Renal cell carcinoma [DS:H00021]\n",
      "\tset(['Pancreas'])             Pancreatic neuroendocrine tumors [DS:H00045]\n",
      "Tamoxifen\n",
      "\tset(['Breast'])   DISEASE   Breast cancer [DS:H00031]\n",
      "Temsirolimus\n",
      "\tset(['Kidney'])   DISEASE   Renal cell carcinoma [DS:H00021]\n",
      "Trametinib\n",
      "\tNo tissue found for: Trametinib\n",
      "\tAdd tissue for drug or no to exit: Skin\n",
      "\tAdd tissue for drug or no to exit: no\n",
      "Trastuzumab emtansine\n",
      "\tset(['Breast'])   DISEASE   Breast cancer (HER2 positive) [DS:H00031]\n",
      "Vismodegib\n",
      "\tNo tissue found for: Vismodegib\n",
      "\tAdd tissue for drug or no to exit: Skin\n",
      "\tAdd tissue for drug or no to exit: no\n"
     ]
    }
   ],
   "source": [
    "# Store Series as rows\n",
    "rows = []\n",
    "\n",
    "for i, row in df.drop_duplicates().sort_values('Name').iterrows():\n",
    "    drug = row.Name\n",
    "    print drug\n",
    "    \n",
    "    # Get drug info\n",
    "    info = r.web.kegg.get_drug_info(drug)\n",
    "    \n",
    "    # Grep for cancer terms\n",
    "    candidates = set()\n",
    "    for sentence in r.tissues.grep_cancer_terms(info):\n",
    "        \n",
    "        # Identify tissue from string\n",
    "        new_candidates = r.tissues.identify_tissue_from_str(sentence)\n",
    "        if new_candidates:\n",
    "            print '\\t', new_candidates, sentence\n",
    "            candidates = candidates.union(new_candidates)\n",
    "        \n",
    "    # If tissue candidate, copy row and add column\n",
    "    if candidates:\n",
    "        for tissue in candidates:\n",
    "            new_row = row.copy()\n",
    "            new_row['Tissue'] = tissue\n",
    "            rows.append(new_row)\n",
    "        \n",
    "    # No tissue found, add manually\n",
    "    else:\n",
    "        print '\\tNo tissue found for: {}'.format(drug)\n",
    "        i = raw_input('\\tAdd tissue for drug or no to exit: ')\n",
    "        while i != 'no':\n",
    "            new_row = row.copy()\n",
    "            new_row['Tissue'] = i\n",
    "            rows.append(new_row)\n",
    "            i = raw_input('\\tAdd tissue for drug or no to exit: ')"
   ]
  },
  {
   "cell_type": "markdown",
   "metadata": {},
   "source": [
    "## Construct Dataframe and Process"
   ]
  },
  {
   "cell_type": "code",
   "execution_count": 6,
   "metadata": {
    "scrolled": false
   },
   "outputs": [
    {
     "data": {
      "text/html": [
       "<div>\n",
       "<style>\n",
       "    .dataframe thead tr:only-child th {\n",
       "        text-align: right;\n",
       "    }\n",
       "\n",
       "    .dataframe thead th {\n",
       "        text-align: left;\n",
       "    }\n",
       "\n",
       "    .dataframe tbody tr th {\n",
       "        vertical-align: top;\n",
       "    }\n",
       "</style>\n",
       "<table border=\"1\" class=\"dataframe\">\n",
       "  <thead>\n",
       "    <tr style=\"text-align: right;\">\n",
       "      <th></th>\n",
       "      <th>Class</th>\n",
       "      <th>Subgroup</th>\n",
       "      <th>Specification</th>\n",
       "      <th>Name</th>\n",
       "      <th>Tissue</th>\n",
       "    </tr>\n",
       "  </thead>\n",
       "  <tbody>\n",
       "    <tr>\n",
       "      <th>Abiraterone acetate</th>\n",
       "      <td>ENDOCRINE THERAPY</td>\n",
       "      <td>HORMONE ANTAGONISTS AND RELATED AGENTS</td>\n",
       "      <td>Other hormone antagonists and related agents</td>\n",
       "      <td>Abiraterone</td>\n",
       "      <td>Prostate</td>\n",
       "    </tr>\n",
       "    <tr>\n",
       "      <th>AFATINIB</th>\n",
       "      <td>ANTINEOPLASTIC AGENTS</td>\n",
       "      <td>OTHER ANTINEOPLASTIC AGENTS</td>\n",
       "      <td>Protein kinase inhibitors</td>\n",
       "      <td>Afatinib</td>\n",
       "      <td>Lung</td>\n",
       "    </tr>\n",
       "  </tbody>\n",
       "</table>\n",
       "</div>"
      ],
      "text/plain": [
       "                                     Class  \\\n",
       "Abiraterone acetate      ENDOCRINE THERAPY   \n",
       "AFATINIB             ANTINEOPLASTIC AGENTS   \n",
       "\n",
       "                                                   Subgroup  \\\n",
       "Abiraterone acetate  HORMONE ANTAGONISTS AND RELATED AGENTS   \n",
       "AFATINIB                        OTHER ANTINEOPLASTIC AGENTS   \n",
       "\n",
       "                                                    Specification  \\\n",
       "Abiraterone acetate  Other hormone antagonists and related agents   \n",
       "AFATINIB                                Protein kinase inhibitors   \n",
       "\n",
       "                            Name    Tissue  \n",
       "Abiraterone acetate  Abiraterone  Prostate  \n",
       "AFATINIB                Afatinib      Lung  "
      ]
     },
     "execution_count": 6,
     "metadata": {},
     "output_type": "execute_result"
    }
   ],
   "source": [
    "new = pd.concat(rows, axis=1).T\n",
    "new = new.drop_duplicates()\n",
    "new.head(2)"
   ]
  },
  {
   "cell_type": "markdown",
   "metadata": {},
   "source": [
    "Drop drugs for Blood"
   ]
  },
  {
   "cell_type": "code",
   "execution_count": 7,
   "metadata": {
    "collapsed": true
   },
   "outputs": [],
   "source": [
    "new = new[new.Tissue != 'Blood']"
   ]
  },
  {
   "cell_type": "markdown",
   "metadata": {},
   "source": [
    "Simplify labels for plot"
   ]
  },
  {
   "cell_type": "code",
   "execution_count": 8,
   "metadata": {
    "collapsed": true
   },
   "outputs": [],
   "source": [
    "class_rep = [('ENDOCRINE THERAPY', 'Endocrine'),\n",
    "             ('ANTINEOPLASTIC AGENTS', 'Antineoplastic')]\n",
    "\n",
    "sub_rep = [('HORMONE ANTAGONISTS AND RELATED AGENTS', 'Hormone Antagonists'),\n",
    "            ('OTHER ANTINEOPLASTIC AGENTS', 'Other'),\n",
    "            ('CYTOTOXIC ANTIBIOTICS AND RELATED SUBSTANCES', 'Cytotoxic Antibiotics'),\n",
    "            ('PLANT ALKALOIDS AND OTHER NATURAL PRODUCTS', 'Plant Alkaloids'),\n",
    "            ('HORMONES AND RELATED AGENTS', 'Hormones'),\n",
    "            ('IMMUNOSUPPRESSANTS', 'Suppressants')]\n",
    "\n",
    "spec_rep = [('Other hormone antagonists and related agents', 'Other antagonist'),\n",
    "           ('Protein kinase inhibitors', 'Kinase inhibitors'),\n",
    "           ('Anthracyclines and related substances', 'Anthracyclines'),\n",
    "           ('Gonadotropin releasing hormone analogues', 'Gonadotropin analogue'),\n",
    "           ('Other immunosuppressants', 'Other suppressant'),\n",
    "           ('Other antineoplastic agents', 'Other agent')]\n",
    "\n",
    "for entry, replacement in class_rep:\n",
    "    new['Class'] = new.Class.replace(entry, replacement)\n",
    "\n",
    "for entry, replacement in sub_rep:\n",
    "    new['Subgroup'] = new.Subgroup.replace(entry, replacement)\n",
    "\n",
    "for entry, replacement in spec_rep:\n",
    "    new['Specification'] = new.Specification.replace(entry, replacement)\n",
    "    \n",
    "# Fix old categories\n",
    "new['Tissue'] = new.Tissue.replace('Colon-Small_intestine', 'Colon')\n",
    "new['Tissue'] = new.Tissue.replace('Skin-Head', 'Skin')"
   ]
  },
  {
   "cell_type": "markdown",
   "metadata": {},
   "source": [
    "Fix formatting"
   ]
  },
  {
   "cell_type": "code",
   "execution_count": 9,
   "metadata": {
    "collapsed": true
   },
   "outputs": [],
   "source": [
    "new['Class'] = new.Class.apply(lambda x: x.lower().capitalize())\n",
    "new['Subgroup'] = new.Subgroup.apply(lambda x: x.lower().capitalize())\n",
    "new['Specification'] = new.Specification.apply(lambda x: x.lower().capitalize())"
   ]
  },
  {
   "cell_type": "markdown",
   "metadata": {},
   "source": [
    "Save dataframe\n"
   ]
  },
  {
   "cell_type": "code",
   "execution_count": 10,
   "metadata": {
    "collapsed": true
   },
   "outputs": [],
   "source": [
    "new.to_csv('tables/drug-classification-tissue.tsv', sep='\\t')"
   ]
  },
  {
   "cell_type": "markdown",
   "metadata": {},
   "source": [
    "Create links automatically"
   ]
  },
  {
   "cell_type": "code",
   "execution_count": 127,
   "metadata": {
    "collapsed": true
   },
   "outputs": [],
   "source": [
    "def add_links(iteritems):\n",
    "    links = []\n",
    "    type_count = 0\n",
    "    current_type = None\n",
    "\n",
    "    for pair, count in iteritems:\n",
    "        source, target = pair\n",
    "\n",
    "        # Track type by grouping samples by \"source\"\n",
    "        if source != current_type:\n",
    "            current_type = source\n",
    "            type_count += 1\n",
    "        links.append({'source': source, 'target': target, 'value': count, 'type': type_count})\n",
    "    return links"
   ]
  },
  {
   "cell_type": "markdown",
   "metadata": {},
   "source": [
    "Create links between Class -> Subgroup -> Specification -> Tissue"
   ]
  },
  {
   "cell_type": "code",
   "execution_count": 128,
   "metadata": {
    "collapsed": true
   },
   "outputs": [],
   "source": [
    "links = []\n",
    "links.extend(add_links(new.groupby('Class').Subgroup.value_counts().iteritems()))\n",
    "links.extend(add_links(new.groupby('Subgroup').Specification.value_counts().iteritems()))\n",
    "links.extend(add_links(new.groupby('Specification').Tissue.value_counts().iteritems()))"
   ]
  },
  {
   "cell_type": "markdown",
   "metadata": {},
   "source": [
    "Define factory functon for Sankey plot"
   ]
  },
  {
   "cell_type": "code",
   "execution_count": 157,
   "metadata": {
    "collapsed": true
   },
   "outputs": [],
   "source": [
    "layout = Layout(width=\"1200\", height=\"800\")\n",
    "def sankey(**value):\n",
    "    \"\"\"Show SankeyWidget with default values for size and margins\"\"\"\n",
    "    return SankeyWidget(layout=layout,\n",
    "                        margins=dict(top=50, bottom=0, left=170, right=100),\n",
    "                        **value)"
   ]
  },
  {
   "cell_type": "code",
   "execution_count": 1,
   "metadata": {},
   "outputs": [
    {
     "ename": "NameError",
     "evalue": "name 'sankey' is not defined",
     "output_type": "error",
     "traceback": [
      "\u001b[0;31m---------------------------------------------------------------------------\u001b[0m",
      "\u001b[0;31mNameError\u001b[0m                                 Traceback (most recent call last)",
      "\u001b[0;32m<ipython-input-1-95816d499f5f>\u001b[0m in \u001b[0;36m<module>\u001b[0;34m()\u001b[0m\n\u001b[0;32m----> 1\u001b[0;31m \u001b[0moutput\u001b[0m \u001b[0;34m=\u001b[0m \u001b[0msankey\u001b[0m\u001b[0;34m(\u001b[0m\u001b[0mlinks\u001b[0m\u001b[0;34m=\u001b[0m\u001b[0mlinks\u001b[0m\u001b[0;34m)\u001b[0m\u001b[0;34m\u001b[0m\u001b[0m\n\u001b[0m\u001b[1;32m      2\u001b[0m \u001b[0moutput\u001b[0m\u001b[0;34m\u001b[0m\u001b[0m\n",
      "\u001b[0;31mNameError\u001b[0m: name 'sankey' is not defined"
     ]
    }
   ],
   "source": [
    "output = sankey(links=links)\n",
    "output"
   ]
  },
  {
   "cell_type": "code",
   "execution_count": 160,
   "metadata": {
    "scrolled": false
   },
   "outputs": [
    {
     "data": {
      "image/svg+xml": [
       "<svg height=\"800\" style=\"font-family: &quot;Helvetica Neue&quot;, Helvetica, Arial, sans-serif;\" viewBox=\"0 0 1200 800\" width=\"1200\" xmlns=\"http://www.w3.org/2000/svg\"><g class=\"sankey\" transform=\"translate(170,50)\"><g class=\"groups\"/><g class=\"links\"><g class=\"link\" style=\"opacity: 0.8;\"><path d=\"M620.3333333333334,75 A0 0 0 0 0 620.3333333333334,75 L929,75 A0 0 0 0 0 929,75 L929,80.68181818181819 A0 0 0 0 0 929,80.68181818181819 L620.3333333333334,80.68181818181819 A0 0 0 0 0 620.3333333333334,80.68181818181819 Z\" style=\"fill: rgb(196, 156, 148);\"/><title>Anti-androgens → Prostate\n",
       "2\n",
       "1.00</title></g><g class=\"link\" style=\"opacity: 0.8;\"><path d=\"M620.3333333333334,190.90909090909088 A176.0298095630927 176.0298095630927 0.3459708103657424 0 1 680.0268238006537,201.33944077908367 L871.2332715982368,270.2634595533478 A170.3479913812745 170.3479913812745 0.3459708103657424 0 0 929,280.35714285714283 L929,286.03896103896096 A176.0298095630927 176.0298095630927 0.3459708103657424 0 1 869.3065095326797,275.60861116896825 L678.1000617350966,206.68459239470408 A170.3479913812745 170.3479913812745 0.3459708103657424 0 0 620.3333333333334,196.59090909090907 Z\" style=\"fill: rgb(174, 199, 232);\"/><title>Pyrimidine analogues → Stomach\n",
       "12\n",
       "1.00</title></g><g class=\"link\" style=\"opacity: 0.8;\"><path d=\"M620.3333333333334,185.2272727272727 A997.1590909090909 997.1590909090909 0.036348603624062115 0 0 656.5706930553991,184.56861149346207 L892.5561595957572,175.98708961394925 A1002.8409090909091 1002.8409090909091 0.036348603624062115 0 1 929,175.3246753246753 L929,181.00649350649348 A997.1590909090909 997.1590909090909 0.036348603624062115 0 0 892.7626402779342,181.6651547403041 L656.7771737375762,190.24667661981692 A1002.8409090909091 1002.8409090909091 0.036348603624062115 0 1 620.3333333333334,190.90909090909088 Z\" style=\"fill: rgb(174, 199, 232);\"/><title>Pyrimidine analogues → Colon\n",
       "12\n",
       "1.00</title></g><g class=\"link\" style=\"opacity: 0.8;\"><path d=\"M1,92.04545454545455 A389.5663535353534 389.5663535353534 0.1481492310995236 0 1 58.503067779418515,96.31278004831012 L253.00228008508364,125.3403679074543 A383.8845353535353 383.8845353535353 0.1481492310995236 0 0 309.6666666666667,129.54545454545456 L309.6666666666667,135.22727272727275 A389.5663535353534 389.5663535353534 0.1481492310995236 0 1 252.16359888724818,130.95994722441716 L57.66438658158306,101.93235936527299 A383.8845353535353 383.8845353535353 0.1481492310995236 0 0 1,97.72727272727273 Z\" style=\"fill: rgb(196, 156, 148);\"/><title>Endocrine → Hormones\n",
       "2\n",
       "1.00</title></g><g class=\"link\" style=\"opacity: 0.8;\"><path d=\"M620.3333333333334,179.5454545454545 A244.0991086463088 244.0991086463088 0.2355916851164821 0 0 677.3105486553228,172.80255874404708 L870.6965439565217,126.38036754682871 A249.78092682812698 249.78092682812698 0.2355916851164821 0 1 929,119.48051948051949 L929,125.16233766233768 A244.0991086463088 244.0991086463088 0.2355916851164821 0 0 872.0227846780106,131.9052334637451 L678.6367893768116,178.32742466096346 A249.78092682812698 249.78092682812698 0.2355916851164821 0 1 620.3333333333334,185.2272727272727 Z\" style=\"fill: rgb(174, 199, 232);\"/><title>Pyrimidine analogues → Breast\n",
       "12\n",
       "1.00</title></g><g class=\"link\" style=\"opacity: 0.8;\"><path d=\"M310.6666666666667,571.5909090909091 A1002.8409090909091 1002.8409090909091 0.02837178048828437 0 1 339.1152317959329,571.9945043869022 L591.0459498761876,579.1441459083622 A997.1590909090909 997.1590909090909 0.02837178048828437 0 0 619.3333333333334,579.5454545454545 L619.3333333333334,585.2272727272727 A1002.8409090909091 1002.8409090909091 0.02837178048828437 0 1 590.8847682040672,584.8236774312796 L338.9540501238124,577.6740359098196 A997.1590909090909 997.1590909090909 0.02837178048828437 0 0 310.6666666666667,577.2727272727274 Z\" style=\"fill: rgb(196, 156, 148);\"/><title>Cytotoxic antibiotics → Anthracyclines\n",
       "2\n",
       "1.00</title></g><g class=\"link\" style=\"opacity: 0.8;\"><path d=\"M310.6666666666667,75 A0 0 0 0 0 310.6666666666667,75 L619.3333333333334,75 A0 0 0 0 0 619.3333333333334,75 L619.3333333333334,80.68181818181819 A0 0 0 0 0 619.3333333333334,80.68181818181819 L310.6666666666667,80.68181818181819 A0 0 0 0 0 310.6666666666667,80.68181818181819 Z\" style=\"fill: rgb(227, 119, 194);\"/><title>Hormone antagonists → Anti-androgens\n",
       "3\n",
       "1.00</title></g><g class=\"link\" style=\"opacity: 0.8;\"><path d=\"M310.6666666666667,86.36363636363637 A358.31934680134714 358.31934680134714 0.16147481772605254 0 1 368.27510602978356,91.02492513959345 L562.638382681115,122.68535188033252 A352.637528619529 352.637528619529 0.16147481772605254 0 0 619.3333333333334,127.27272727272725 L619.3333333333334,132.95454545454544 A358.31934680134714 358.31934680134714 0.16147481772605254 0 1 561.7248939702165,128.29325667858836 L367.3616173188852,96.6328299378493 A352.637528619529 352.637528619529 0.16147481772605254 0 0 310.6666666666667,92.04545454545456 Z\" style=\"fill: rgb(227, 119, 194);\"/><title>Hormone antagonists → Anti-estrogens\n",
       "3\n",
       "1.00</title></g><g class=\"link\" style=\"opacity: 0.8;\"><path d=\"M310.6666666666667,80.68181818181819 A704.5932390572397 704.5932390572397 0.08107405264449463 0 1 367.72833697410846,82.99619645304698 L562.7318065780374,98.84064844024279 A698.9114208754214 698.9114208754214 0.08107405264449463 0 0 619.3333333333334,101.13636363636363 L619.3333333333334,106.81818181818181 A704.5932390572397 704.5932390572397 0.08107405264449463 0 1 562.2716630258916,104.50380354695302 L367.2681934219626,88.65935155975721 A698.9114208754214 698.9114208754214 0.08107405264449463 0 0 310.6666666666667,86.36363636363637 Z\" style=\"fill: rgb(227, 119, 194);\"/><title>Hormone antagonists → Other antagonist\n",
       "3\n",
       "1.00</title></g><g class=\"link\" style=\"opacity: 0.8;\"><path d=\"M310.6666666666667,129.54545454545456 A605.2925815295828 605.2925815295828 0.09453880029681683 0 1 367.8050990564008,132.24836739593493 L562.7312534348393,150.73155001895887 A599.6107633477645 599.6107633477645 0.09453880029681683 0 0 619.3333333333334,153.40909090909088 L619.3333333333334,159.09090909090907 A605.2925815295828 605.2925815295828 0.09453880029681683 0 1 562.1949009435991,156.3879962404287 L367.2687465651607,137.90481361740476 A599.6107633477645 599.6107633477645 0.09453880029681683 0 0 310.6666666666667,135.22727272727275 Z\" style=\"fill: rgb(247, 182, 210);\"/><title>Hormones → Gonadotropin analogue\n",
       "4\n",
       "1.00</title></g><g class=\"link\" style=\"opacity: 0.8;\"><path d=\"M620.3333333333334,669.3181818181818 A0 0 0 0 0 620.3333333333334,669.3181818181818 L929,669.3181818181818 A0 0 0 0 0 929,669.3181818181818 L929,675 A0 0 0 0 0 929,675 L620.3333333333334,675 A0 0 0 0 0 620.3333333333334,675 Z\" style=\"fill: rgb(31, 119, 180);\"/><title>Podophyllotoxin derivatives → Testis\n",
       "11\n",
       "1.00</title></g><g class=\"link\" style=\"opacity: 0.8;\"><path d=\"M620.3333333333334,663.6363636363636 A124.91427306680237 124.91427306680237 0.4978669171724044 0 0 679.9864558512124,648.4721729826263 L866.6335110444596,547.0227762601809 A130.59609124862055 130.59609124862055 0.4978669171724044 0 1 929,531.168831168831 L929,536.8506493506493 A124.91427306680237 124.91427306680237 0.4978669171724044 0 0 869.3468774821209,552.0148400043867 L682.6998222888737,653.464236726832 A130.59609124862055 130.59609124862055 0.4978669171724044 0 1 620.3333333333334,669.3181818181819 Z\" style=\"fill: rgb(31, 119, 180);\"/><title>Podophyllotoxin derivatives → Lung\n",
       "11\n",
       "1.00</title></g><g class=\"link\" style=\"opacity: 0.8;\"><path d=\"M620.3333333333334,637.5 A822.5141680219988 822.5141680219988 0.06887539580204538 0 0 676.9395424809125,635.5498414756524 L872.0027627086603,622.0935000892297 A828.195986203817 828.195986203817 0.06887539580204538 0 1 929,620.1298701298699 L929,625.8116883116882 A822.5141680219988 822.5141680219988 0.06887539580204538 0 0 872.3937908524209,627.7618468360357 L677.3305706246731,641.2181882224585 A828.195986203817 828.195986203817 0.06887539580204538 0 1 620.3333333333334,643.1818181818182 Z\" style=\"fill: rgb(158, 218, 229);\"/><title>Parp inhibitor → Ovary\n",
       "10\n",
       "1.00</title></g><g class=\"link\" style=\"opacity: 0.8;\"><path d=\"M310.6666666666667,528.409090909091 A150.20782323232334 150.20782323232334 0.4169180212259307 0 1 371.4924835520181,541.2756961461505 L560.8083369037088,625.1200918603422 A144.52600505050515 144.52600505050515 0.4169180212259307 0 0 619.3333333333334,637.5 L619.3333333333334,643.1818181818182 A150.20782323232334 150.20782323232334 0.4169180212259307 0 1 558.507516447982,630.3152129447587 L369.1916630962913,546.470817230567 A144.52600505050515 144.52600505050515 0.4169180212259307 0 0 310.6666666666667,534.0909090909092 Z\" style=\"fill: rgb(127, 127, 127);\"/><title>Other → Parp inhibitor\n",
       "5\n",
       "1.00</title></g><g class=\"link\" style=\"opacity: 0.8;\"><path d=\"M620.3333333333334,579.5454545454545 A417.537706453238 417.537706453238 0.13797359872057458 0 1 677.7599056135087,583.5134267260064 L872.3548837116023,610.5340756010065 A411.8558882714199 411.8558882714199 0.13797359872057458 0 0 929,614.4480519480518 L929,620.12987012987 A417.537706453238 417.537706453238 0.13797359872057458 0 1 871.5734277198246,616.1618979493181 L676.9784496217311,589.141249074318 A411.8558882714199 411.8558882714199 0.13797359872057458 0 0 620.3333333333334,585.2272727272727 Z\" style=\"fill: rgb(140, 86, 75);\"/><title>Anthracyclines → Ovary\n",
       "1\n",
       "1.00</title></g><g class=\"link\" style=\"opacity: 0.8;\"><path d=\"M1,534.090909090909 A389.56635353535245 389.56635353535245 0.1481492310995245 0 1 58.50306777941872,538.3582345937646 L253.0022800850834,567.3858224529089 A383.8845353535343 383.8845353535343 0.1481492310995245 0 0 309.6666666666667,571.5909090909091 L309.6666666666667,577.2727272727274 A389.56635353535245 389.56635353535245 0.1481492310995245 0 1 252.16359888724796,573.0054017698718 L57.66438658158325,543.9778139107275 A383.8845353535343 383.8845353535343 0.1481492310995245 0 0 1,539.7727272727273 Z\" style=\"fill: rgb(140, 86, 75);\"/><title>Antineoplastic → Cytotoxic antibiotics\n",
       "1\n",
       "1.00</title></g><g class=\"link\" style=\"opacity: 0.8;\"><path d=\"M620.3333333333334,127.27272727272725 A746.0850325042196 746.0850325042196 0.07593951813703903 0 0 676.9362315361509,125.12249543444229 L871.96604184806,110.28349006768427 A751.7668506860379 751.7668506860379 0.07593951813703903 0 1 929,108.11688311688312 L929,113.7987012987013 A746.0850325042196 746.0850325042196 0.07593951813703903 0 0 872.3971017971825,115.94893313698627 L677.3672914852734,130.7879385037443 A751.7668506860379 751.7668506860379 0.07593951813703903 0 1 620.3333333333334,132.95454545454544 Z\" style=\"fill: rgb(227, 119, 194);\"/><title>Anti-estrogens → Breast\n",
       "3\n",
       "1.00</title></g><g class=\"link\" style=\"opacity: 0.8;\"><path d=\"M620.3333333333334,153.40909090909088 A363.8965619189557 363.8965619189557 0.15640256648159512 0 0 677.0159356081567,148.96738064161946 L871.432365345372,118.30976366453554 A369.5783801007738 369.5783801007738 0.15640256648159512 0 1 929,113.7987012987013 L929,119.48051948051949 A363.8965619189557 363.8965619189557 0.15640256648159512 0 0 872.3173977251766,123.92222974799093 L677.9009679879614,154.57984672507484 A369.5783801007738 369.5783801007738 0.15640256648159512 0 1 620.3333333333334,159.09090909090907 Z\" style=\"fill: rgb(247, 182, 210);\"/><title>Gonadotropin analogue → Breast\n",
       "4\n",
       "1.00</title></g><g class=\"link\" style=\"opacity: 0.8;\"><path d=\"M620.3333333333334,605.6818181818181 A587.7063727561313 587.7063727561313 0.09646062372838227 0 0 676.9359832455727,602.9497359727853 L871.8501279028075,584.0896642204716 A593.3881909379495 593.3881909379495 0.09646062372838227 0 1 929,581.3311688311687 L929,587.012987012987 A587.7063727561313 587.7063727561313 0.09646062372838227 0 0 872.3973500877606,589.7450692220198 L677.4832054305259,608.6051409743335 A593.3881909379495 593.3881909379495 0.09646062372838227 0 1 620.3333333333334,611.3636363636364 Z\" style=\"fill: rgb(23, 190, 207);\"/><title>Other suppressant → Skin\n",
       "9\n",
       "1.00</title></g><g class=\"link\" style=\"opacity: 0.8;\"><path d=\"M620.3333333333334,611.3636363636363 A403.04331316366734 403.04331316366734 0.14306378355169924 0 1 677.7977425299821,615.4811995917722 L872.3456832036396,643.5054183167933 A397.3614949818492 397.3614949818492 0.14306378355169924 0 0 929,647.564935064935 L929,653.2467532467532 A403.04331316366734 403.04331316366734 0.14306378355169924 0 1 871.5355908033513,649.1291900186172 L676.9876501296937,621.1049712935961 A397.3614949818492 397.3614949818492 0.14306378355169924 0 0 620.3333333333334,617.0454545454545 Z\" style=\"fill: rgb(23, 190, 207);\"/><title>Other suppressant → Brain\n",
       "9\n",
       "1.00</title></g><g class=\"link\" style=\"opacity: 0.8;\"><path d=\"M620.3333333333334,101.13636363636363 A698.9114208754213 698.9114208754213 0.08107405264449463 0 0 676.9348600886293,98.84064844024279 L871.9383296925582,82.99619645304698 A704.5932390572395 704.5932390572395 0.08107405264449463 0 1 929,80.68181818181819 L929,86.36363636363637 A698.9114208754213 698.9114208754213 0.08107405264449463 0 0 872.3984732447041,88.65935155975721 L677.3950036407751,104.50380354695302 A704.5932390572395 704.5932390572395 0.08107405264449463 0 1 620.3333333333334,106.81818181818181 Z\" style=\"fill: rgb(219, 219, 141);\"/><title>Other antagonist → Prostate\n",
       "8\n",
       "1.00</title></g><g class=\"link\" style=\"opacity: 0.8;\"><path d=\"M620.3333333333334,385.2272727272727 A109.51309569336674 109.51309569336674 0.6469600588648492 0 1 686.3438373341863,407.35769571089753 L866.2172078553472,543.237401334851 A104.15824008774835 104.15824008774835 0.6469600588648492 0 0 929,564.2857142857142 L929,569.9675324675325 A109.84005826956654 109.84005826956654 0.6469600588648492 0 1 862.792414871016,547.7710368369305 L682.9190443498552,411.89133121297704 A103.83127751154855 103.83127751154855 0.6469600588648492 0 0 620.3333333333334,390.9090909090908 Z\" style=\"fill: rgb(188, 189, 34);\"/><title>Other agent → Skin\n",
       "7\n",
       "1.00</title></g><g class=\"link\" style=\"opacity: 0.8;\"><path d=\"M620.3333333333334,373.8636363636363 A89.9928445322793 89.9928445322793 0.9266716127601462 0 0 692.2939229569199,337.9113840564312 L852.4960826416067,124.58578203734264 A95.6746627140975 95.6746627140975 0.9266716127601462 0 1 929,86.36363636363637 L929,92.04545454545456 A89.9928445322793 89.9928445322793 0.9266716127601462 0 0 857.0394103764135,127.99770685265965 L696.8372506917267,341.32330887174817 A95.6746627140975 95.6746627140975 0.9266716127601462 0 1 620.3333333333334,379.54545454545445 Z\" style=\"fill: rgb(188, 189, 34);\"/><title>Other agent → Prostate\n",
       "7\n",
       "1.00</title></g><g class=\"link\" style=\"opacity: 0.8;\"><path d=\"M620.3333333333334,347.72727272727275 A95.54828277094502 95.54828277094502 0.941047861829694 0 1 697.553131094007,387.0032072774696 L856.3721094739622,604.9427420370141 A89.86646458912683 89.86646458912683 0.941047861829694 0 0 929,641.8831168831168 L929,647.5649350649351 A95.54828277094502 95.54828277094502 0.941047861829694 0 1 851.7802022393264,608.2890005147381 L692.9612238593712,390.34946575519365 A89.86646458912683 89.86646458912683 0.941047861829694 0 0 620.3333333333334,353.4090909090909 Z\" style=\"fill: rgb(127, 127, 127);\"/><title>Kinase inhibitors → Brain\n",
       "5\n",
       "1.00</title></g><g class=\"link\" style=\"opacity: 0.8;\"><path d=\"M620.3333333333334,234.09090909090907 A997.1590909090909 997.1590909090909 0.030973872356950816 0 0 651.214273418656,233.61261970359496 L897.9431001421115,225.9680276699813 A1002.8409090909091 1002.8409090909091 0.030973872356950816 0 1 929,225.48701298701297 L929,231.16883116883116 A997.1590909090909 997.1590909090909 0.030973872356950816 0 0 898.1190599146773,231.64712055614527 L651.3902331912219,239.29171258975893 A1002.8409090909091 1002.8409090909091 0.030973872356950816 0 1 620.3333333333334,239.77272727272725 Z\" style=\"fill: rgb(127, 127, 127);\"/><title>Kinase inhibitors → Liver\n",
       "5\n",
       "1.00</title></g><g class=\"link\" style=\"opacity: 0.8;\"><path d=\"M620.3333333333334,256.8181818181818 A496.30292967772976 496.30292967772976 0.11565239175938347 0 1 677.6040840906214,260.133627765955 L872.3849012114609,282.7614712666211 A490.62111149591163 490.62111149591163 0.11565239175938347 0 0 929,286.038961038961 L929,291.72077922077915 A496.30292967772976 496.30292967772976 0.11565239175938347 0 1 871.729249242712,288.40533327300597 L676.9484321218724,265.7774897723399 A490.62111149591163 490.62111149591163 0.11565239175938347 0 0 620.3333333333334,262.49999999999994 Z\" style=\"fill: rgb(127, 127, 127);\"/><title>Kinase inhibitors → Stomach\n",
       "5\n",
       "1.00</title></g><g class=\"link\" style=\"opacity: 0.8;\"><path d=\"M620.3333333333334,390.9090909090909 A102.02313944229705 102.02313944229705 0.7418270699802818 0 1 689.2638411287438,417.7171648609607 L863.9083332225671,577.7693225663996 A96.34132126047886 96.34132126047886 0.7418270699802818 0 0 929,603.0844155844155 L929,608.7662337662338 A102.02313944229705 102.02313944229705 0.7418270699802818 0 1 860.0694922045896,581.958159814364 L685.4250001107663,421.906002108925 A96.34132126047886 96.34132126047886 0.7418270699802818 0 0 620.3333333333334,396.590909090909 Z\" style=\"fill: rgb(188, 189, 34);\"/><title>Other agent → Ovary\n",
       "7\n",
       "1.00</title></g><g class=\"link\" style=\"opacity: 0.8;\"><path d=\"M620.3333333333334,379.5454545454545 A95.6746627140975 95.6746627140975 0.8198051828867065 0 0 690.272746696771,349.1557023684367 L852.3652581908023,175.50676770289908 A104.83363703204718 104.83363703204718 0.8198051828867065 0 1 929,142.20779220779224 L929,147.88961038961043 A99.15181885022899 99.15181885022899 0.8198051828867065 0 0 856.5187406197037,179.3838338055141 L694.4262291256725,353.0327684710517 A101.35648089591568 101.35648089591568 0.8198051828867065 0 1 620.3333333333334,385.22727272727263 Z\" style=\"fill: rgb(188, 189, 34);\"/><title>Other agent → Breast\n",
       "7\n",
       "1.00</title></g><g class=\"link\" style=\"opacity: 0.8;\"><path d=\"M620.3333333333334,553.4090909090909 A269.30929772378187 269.30929772378187 0.2175100778558745 0 1 678.4500213642575,559.7546108748081 L872.1094428806786,602.5545899459709 A263.62747954196374 263.62747954196374 0.2175100778558745 0 0 929,608.7662337662337 L929,614.4480519480519 A269.30929772378187 269.30929772378187 0.2175100778558745 0 1 870.8833119690759,608.1025319823347 L677.2238904526548,565.3025529111719 A263.62747954196374 263.62747954196374 0.2175100778558745 0 0 620.3333333333334,559.0909090909091 Z\" style=\"fill: rgb(199, 199, 199);\"/><title>Monoclonal antibodies → Ovary\n",
       "6\n",
       "1.00</title></g><g class=\"link\" style=\"opacity: 0.8;\"><path d=\"M620.3333333333334,507.95454545454544 A263.6274795419632 263.6274795419632 0.2175100778558745 0 0 677.2238904526547,501.74290163428265 L870.883311969076,458.9429225631197 A269.30929772378136 269.30929772378136 0.2175100778558745 0 1 929,452.59740259740255 L929,458.2792207792207 A263.6274795419632 263.6274795419632 0.2175100778558745 0 0 872.1094428806787,464.4908645994835 L678.4500213642574,507.29084367064644 A269.30929772378136 269.30929772378136 0.2175100778558745 0 1 620.3333333333334,513.6363636363636 Z\" style=\"fill: rgb(199, 199, 199);\"/><title>Monoclonal antibodies → Cervix\n",
       "6\n",
       "1.00</title></g><g class=\"link\" style=\"opacity: 0.8;\"><path d=\"M620.3333333333334,336.3636363636364 A106.9119191345814 106.9119191345814 0.7569205015615544 0 1 693.7482568512597,365.55549722561807 L865.2792400470679,527.5848921098291 A92.79460372411198 92.79460372411198 0.7569205015615544 0 0 929,552.9220779220778 L929,564.2857142857141 A104.15824008774835 104.15824008774835 0.7569205015615544 0 1 857.4759894715008,535.8457341891738 L685.9450062756927,373.81633930496275 A95.54828277094502 95.54828277094502 0.7569205015615544 0 0 620.3333333333334,347.72727272727275 Z\" style=\"fill: rgb(127, 127, 127);\"/><title>Kinase inhibitors → Skin\n",
       "5\n",
       "2.00</title></g><g class=\"link\" style=\"opacity: 0.8;\"><path d=\"M1,663.6363636363636 A294.1201613812544 294.1201613812544 0.19242059465387662 0 0 57.246178935820765,658.2081430606238 L251.24735848574744,620.4106727596551 A305.48379774489075 305.48379774489075 0.19242059465387662 0 1 309.6666666666667,614.7727272727273 L309.6666666666667,626.1363636363635 A294.1201613812544 294.1201613812544 0.19242059465387662 0 0 253.42048773084593,631.5645842121033 L59.419308180919245,669.362054513072 A305.48379774489075 305.48379774489075 0.19242059465387662 0 1 1,674.9999999999999 Z\" style=\"fill: rgb(227, 119, 194);\"/><title>Immunosuppressants → Suppressants\n",
       "3\n",
       "2.00</title></g><g class=\"link\" style=\"opacity: 0.8;\"><path d=\"M1,539.7727272727271 A139.64039727550727 139.64039727550727 0.46853776573031514 0 1 64.05910663572712,554.8218342364092 L251.73917503064752,649.8119207560652 A128.2767609118709 128.2767609118709 0.46853776573031514 0 0 309.6666666666667,663.6363636363636 L309.6666666666667,674.9999999999999 A139.64039727550727 139.64039727550727 0.46853776573031514 0 1 246.60756003093957,659.9508930363178 L58.92749163601916,564.9608065166618 A128.2767609118709 128.2767609118709 0.46853776573031514 0 0 1,551.1363636363634 Z\" style=\"fill: rgb(140, 86, 75);\"/><title>Antineoplastic → Plant alkaloids\n",
       "1\n",
       "2.00</title></g><g class=\"link\" style=\"opacity: 0.8;\"><path d=\"M310.6666666666667,663.6363636363636 A0 0 0 0 0 310.6666666666667,663.6363636363636 L619.3333333333334,663.6363636363636 A0 0 0 0 0 619.3333333333334,663.6363636363636 L619.3333333333334,674.9999999999999 A0 0 0 0 0 619.3333333333334,674.9999999999999 L310.6666666666667,674.9999999999999 A0 0 0 0 0 310.6666666666667,674.9999999999999 Z\" style=\"fill: rgb(199, 199, 199);\"/><title>Plant alkaloids → Podophyllotoxin derivatives\n",
       "6\n",
       "2.00</title></g><g class=\"link\" style=\"opacity: 0.8;\"><path d=\"M620.3333333333334,262.5 A266.427193850085 266.427193850085 0.22250757596781057 0 1 679.1274397864452,269.0681884852316 L872.71357617644,312.8678016438348 A255.06355748644864 255.06355748644864 0.22250757596781057 0 0 929,319.15584415584414 L929,330.5194805194805 A266.427193850085 266.427193850085 0.22250757596781057 0 1 870.2058935468883,323.9512920342489 L676.6197571568935,280.1516788756457 A255.06355748644864 255.06355748644864 0.22250757596781057 0 0 620.3333333333334,273.8636363636364 Z\" style=\"fill: rgb(127, 127, 127);\"/><title>Kinase inhibitors → Thyroid\n",
       "5\n",
       "2.00</title></g><g class=\"link\" style=\"opacity: 0.8;\"><path d=\"M310.6666666666667,614.7727272727273 A994.3181818181819 994.3181818181819 0.03296174317123146 0 0 343.4351927483686,614.2326245006913 L586.1903098106977,606.2280935569629 A1005.6818181818181 1005.6818181818181 0.03296174317123146 0 1 619.3333333333334,605.6818181818181 L619.3333333333334,617.0454545454544 A994.3181818181819 994.3181818181819 0.03296174317123146 0 0 586.5648072516315,617.5855573174904 L343.80969018930233,625.5900882612187 A1005.6818181818181 1005.6818181818181 0.03296174317123146 0 1 310.6666666666667,626.1363636363635 Z\" style=\"fill: rgb(188, 189, 34);\"/><title>Suppressants → Other suppressant\n",
       "7\n",
       "2.00</title></g><g class=\"link\" style=\"opacity: 0.8;\"><path d=\"M620.3333333333334,417.0454545454545 A87.7881824865926 87.7881824865926 0.8854812507746497 0 0 688.3006708816968,384.8199034840035 L852.2347116725317,184.2865593944698 A99.15181885022899 99.15181885022899 0.8854812507746497 0 1 929,147.88961038961043 L929,159.2532467532468 A87.78818248659262 87.78818248659262 0.8854812507746497 0 0 861.0326624516366,191.47879781469788 L697.0986216608017,392.0121419042315 A99.15181885022898 99.15181885022898 0.8854812507746497 0 1 620.3333333333334,428.4090909090909 Z\" style=\"fill: rgb(199, 199, 199);\"/><title>Monoclonal antibodies → Breast\n",
       "6\n",
       "2.00</title></g><g class=\"link\" style=\"opacity: 0.8;\"><path d=\"M620.3333333333334,542.0454545454545 A521.6968895600536 521.6968895600536 0.1105395315766422 0 1 677.884093828559,545.2295144252233 L872.7028139994775,566.8528279919412 A510.3332531964173 510.3332531964173 0.1105395315766422 0 0 929,569.9675324675324 L929,581.3311688311686 A521.6968895600536 521.6968895600536 0.1105395315766422 0 1 871.4492395047744,578.1471089513998 L676.6305193338559,556.5237953846819 A510.3332531964173 510.3332531964173 0.1105395315766422 0 0 620.3333333333334,553.4090909090908 Z\" style=\"fill: rgb(199, 199, 199);\"/><title>Monoclonal antibodies → Skin\n",
       "6\n",
       "2.00</title></g><g class=\"link\" style=\"opacity: 0.8;\"><path d=\"M620.3333333333334,456.81818181818176 A127.56090975931988 127.56090975931988 0.6226513395850245 0 0 694.725705810327,432.87947342454214 L860.7613674371504,313.6792767348619 A117.00906639509296 117.00906639509296 0.6226513395850245 0 1 929,291.7207792207792 L929,303.0844155844156 A105.64543003145658 105.64543003145658 0.6226513395850245 0 0 867.3885377093897,322.91035714766883 L701.3528760825662,442.1105538373491 A138.92454612295626 138.92454612295626 0.6226513395850245 0 1 620.3333333333334,468.18181818181813 Z\" style=\"fill: rgb(199, 199, 199);\"/><title>Monoclonal antibodies → Stomach\n",
       "6\n",
       "2.00</title></g><g class=\"link\" style=\"opacity: 0.8;\"><path d=\"M620.3333333333334,468.18181818181813 A167.9310346320346 167.9310346320346 0.33880114297959274 0 0 676.1463251874878,458.63557553712576 L867.5218384064915,391.19703029327115 A184.97648917748916 184.97648917748916 0.33880114297959274 0 1 929,380.68181818181813 L929,397.72727272727263 A167.9310346320346 167.9310346320346 0.33880114297959274 0 0 873.1870081458455,407.273515371965 L681.8114949268419,474.7120606158196 A184.97648917748916 184.97648917748916 0.33880114297959274 0 1 620.3333333333334,485.22727272727263 Z\" style=\"fill: rgb(199, 199, 199);\"/><title>Monoclonal antibodies → Kidney\n",
       "6\n",
       "3.00</title></g><g class=\"link\" style=\"opacity: 0.8;\"><path d=\"M1,210.22727272727272 A378.2027171717175 378.2027171717175 0.14814923109952405 0 0 56.82570538374782,206.08442495412774 L251.3249176894125,177.05683709498368 A395.248171717172 395.248171717172 0.14814923109952405 0 1 309.6666666666667,172.72727272727275 L309.6666666666667,189.7727272727273 A378.2027171717175 378.2027171717175 0.14814923109952405 0 0 253.84096128291887,193.9155750458723 L59.34174897725421,222.94316290501635 A395.248171717172 395.248171717172 0.14814923109952405 0 1 1,227.27272727272728 Z\" style=\"fill: rgb(140, 86, 75);\"/><title>Antineoplastic → Antimetabolites\n",
       "1\n",
       "3.00</title></g><g class=\"link\" style=\"opacity: 0.8;\"><path d=\"M620.3333333333334,239.77272727272725 A1008.5227272727273 1008.5227272727273 0.026454693109207783 0 1 647.0103806641474,240.1256144037603 L902.7738323423828,246.89333689876528 A991.4772727272727 991.4772727272727 0.026454693109207783 0 0 929,247.24025974025972 L929,264.2857142857143 A1008.5227272727273 1008.5227272727273 0.026454693109207783 0 1 902.322952669186,263.93282715468126 L646.5595009909506,257.1651046596763 A991.4772727272727 991.4772727272727 0.026454693109207783 0 0 620.3333333333334,256.8181818181818 Z\" style=\"fill: rgb(127, 127, 127);\"/><title>Kinase inhibitors → Pancreas\n",
       "5\n",
       "3.00</title></g><g class=\"link\" style=\"opacity: 0.8;\"><path d=\"M620.3333333333334,217.0454545454545 A160.7972008015542 160.7972008015542 0.35490035972138645 0 0 676.2098679538652,207.02475278939428 L867.2002221495861,136.24529308603033 A177.84265534700876 177.84265534700876 0.35490035972138645 0 1 929,125.16233766233768 L929,142.20779220779224 A160.7972008015542 160.7972008015542 0.35490035972138645 0 0 873.1234653794681,152.22849396385246 L682.1331111837472,223.0079536672164 A177.84265534700876 177.84265534700876 0.35490035972138645 0 1 620.3333333333334,234.09090909090907 Z\" style=\"fill: rgb(127, 127, 127);\"/><title>Kinase inhibitors → Breast\n",
       "5\n",
       "3.00</title></g><g class=\"link\" style=\"opacity: 0.8;\"><path d=\"M1,75 A0 0 0 0 0 1,75 L309.6666666666667,75 A0 0 0 0 0 309.6666666666667,75 L309.6666666666667,92.04545454545456 A0 0 0 0 0 309.6666666666667,92.04545454545456 L1,92.04545454545456 A0 0 0 0 0 1,92.04545454545456 Z\" style=\"fill: rgb(196, 156, 148);\"/><title>Endocrine → Hormone antagonists\n",
       "2\n",
       "3.00</title></g><g class=\"link\" style=\"opacity: 0.8;\"><path d=\"M310.6666666666667,172.72727272727275 A1008.5227272727273 1008.5227272727273 0.023942108901830128 0 1 334.81052083695994,173.0163139274589 L595.5975443039465,179.26129854865178 A991.4772727272727 991.4772727272727 0.023942108901830128 0 0 619.3333333333334,179.5454545454545 L619.3333333333334,196.59090909090907 A1008.5227272727273 1008.5227272727273 0.023942108901830128 0 1 595.1894791630402,196.30186789072292 L334.40245569605355,190.05688326953003 A991.4772727272727 991.4772727272727 0.023942108901830128 0 0 310.6666666666667,189.7727272727273 Z\" style=\"fill: rgb(140, 86, 75);\"/><title>Antimetabolites → Pyrimidine analogues\n",
       "1\n",
       "3.00</title></g><g class=\"link\" style=\"opacity: 0.8;\"><path d=\"M620.3333333333334,485.2272727272727 A199.42838268398262 199.42838268398262 0.27881798279221637 0 0 675.2199074587551,477.5256325721392 L867.8584378812654,422.37803636314163 A222.15565541125537 222.15565541125537 0.27881798279221637 0 1 929,413.79870129870125 L929,436.525974025974 A199.42838268398262 199.42838268398262 0.27881798279221637 0 0 874.1134258745783,444.22761418110747 L681.4748954520679,499.37521039010505 A222.15565541125537 222.15565541125537 0.27881798279221637 0 1 620.3333333333334,507.95454545454544 Z\" style=\"fill: rgb(199, 199, 199);\"/><title>Monoclonal antibodies → Bladder\n",
       "6\n",
       "4.00</title></g><g class=\"link\" style=\"opacity: 0.8;\"><path d=\"M310.6666666666667,363.6363636363637 A1011.3636363636364 1011.3636363636364 0.037730632744627846 0 1 348.81700329064466,364.3561672012466 L582.0403076447258,373.16000815976207 A988.6363636363636 988.6363636363636 0.037730632744627846 0 0 619.3333333333334,373.8636363636363 L619.3333333333334,396.59090909090907 A1011.3636363636364 1011.3636363636364 0.037730632744627846 0 1 581.1829967093554,395.87110552602616 L347.9596923552744,387.0672645675107 A988.6363636363636 988.6363636363636 0.037730632744627846 0 0 310.6666666666667,386.36363636363643 Z\" style=\"fill: rgb(127, 127, 127);\"/><title>Other → Other agent\n",
       "5\n",
       "4.00</title></g><g class=\"link\" style=\"opacity: 0.8;\"><path d=\"M620.3333333333334,513.6363636363636 A985.7954545454545 985.7954545454545 0.04054453903185662 0 0 660.2910060500528,512.8262199425699 L887.8908093375538,503.59323103404677 A1014.2045454545455 1014.2045454545455 0.04054453903185662 0 1 929,502.7597402597402 L929,531.1688311688312 A985.7954545454545 985.7954545454545 0.04054453903185662 0 0 889.0423272832805,531.9789748626249 L661.4425239957795,541.211963771148 A1014.2045454545455 1014.2045454545455 0.04054453903185662 0 1 620.3333333333334,542.0454545454546 Z\" style=\"fill: rgb(199, 199, 199);\"/><title>Monoclonal antibodies → Lung\n",
       "6\n",
       "5.00</title></g><g class=\"link\" style=\"opacity: 0.8;\"><path d=\"M620.3333333333334,428.4090909090909 A99.15181885022898 99.15181885022898 0.8594272511748842 0 0 695.4377381951618,393.9906602882692 L846.3751869868789,218.87133511574805 A109.08015991182918 109.08015991182918 0.8594272511748842 0 1 929,181.00649350649348 L929,209.41558441558436 A80.67106900273828 80.67106900273828 0.8594272511748842 0 0 867.8941857317812,237.4188184840621 L716.9567369400642,412.53814365658326 A127.56090975931988 127.56090975931988 0.8594272511748842 0 1 620.3333333333334,456.81818181818176 Z\" style=\"fill: rgb(199, 199, 199);\"/><title>Monoclonal antibodies → Colon\n",
       "6\n",
       "5.00</title></g><g class=\"link\" style=\"opacity: 0.8;\"><path d=\"M620.3333333333334,307.9545454545455 A135.3210100436723 135.3210100436723 0.6165030756204516 0 1 698.5739849148754,332.8664245382496 L873.1230523002968,456.55938948095445 A96.64189712174007 96.64189712174007 0.6165030756204516 0 0 929,474.3506493506493 L929,502.75974025974017 A125.05098803083098 125.05098803083098 0.6165030756204516 0 1 856.6973266657543,479.73851767119754 L682.1482592803329,356.0455527284927 A106.9119191345814 106.9119191345814 0.6165030756204516 0 0 620.3333333333334,336.3636363636364 Z\" style=\"fill: rgb(127, 127, 127);\"/><title>Kinase inhibitors → Lung\n",
       "5\n",
       "5.00</title></g><g class=\"link\" style=\"opacity: 0.8;\"><path d=\"M620.3333333333334,273.8636363636364 A224.4594621212122 224.4594621212122 0.283717497789985 0 1 683.1654742314064,282.8372005566812 L875.7108063365893,338.98025006673316 A190.36855303030308 190.36855303030308 0.283717497789985 0 0 929,346.59090909090907 L929,380.6818181818182 A224.4594621212122 224.4594621212122 0.283717497789985 0 1 866.167859101927,371.7082539887734 L673.6225269967441,315.5652044787214 A190.36855303030308 190.36855303030308 0.283717497789985 0 0 620.3333333333334,307.9545454545455 Z\" style=\"fill: rgb(127, 127, 127);\"/><title>Kinase inhibitors → Kidney\n",
       "5\n",
       "6.00</title></g><g class=\"link\" style=\"opacity: 0.8;\"><path d=\"M310.6666666666667,227.2727272727273 A931.8181818181818 931.8181818181818 0.037730632744628734 0 0 345.81641501684953,226.60953747137455 L579.0397193709288,217.8056965128589 A1068.1818181818182 1068.1818181818182 0.037730632744628734 0 1 619.3333333333334,217.0454545454545 L619.3333333333334,353.4090909090909 A931.8181818181818 931.8181818181818 0.037730632744628734 0 0 584.1835849831506,354.07228071044364 L350.96028062907135,362.8761216689593 A1068.1818181818182 1068.1818181818182 0.037730632744628734 0 1 310.6666666666667,363.6363636363637 Z\" style=\"fill: rgb(127, 127, 127);\"/><title>Other → Kinase inhibitors\n",
       "5\n",
       "24.0</title></g><g class=\"link\" style=\"opacity: 0.8;\"><path d=\"M310.6666666666667,386.36363636363643 A541.4144320987672 541.4144320987672 0.12139973806755955 0 1 376.2329081508376,390.3483937490789 L570.969046622243,414.1061378437308 A399.3689775533126 399.3689775533126 0.12139973806755955 0 0 619.3333333333334,417.0454545454545 L619.3333333333334,559.090909090909 A541.4144320987672 541.4144320987672 0.12139973806755955 0 1 553.7670918491624,555.1061517054666 L359.030953377757,531.3484076108147 A399.3689775533126 399.3689775533126 0.12139973806755955 0 0 310.6666666666667,528.409090909091 Z\" style=\"fill: rgb(127, 127, 127);\"/><title>Other → Monoclonal antibodies\n",
       "5\n",
       "25.0</title></g><g class=\"link\" style=\"opacity: 0.8;\"><path d=\"M1,227.27272727272722 A0 0 0 0 1 1,227.27272727272722 L309.6666666666667,227.27272727272734 A0 0 0 0 0 309.6666666666667,227.27272727272734 L309.6666666666667,534.0909090909091 A0 0 0 0 1 309.6666666666667,534.0909090909091 L1,534.090909090909 A0 0 0 0 0 1,534.090909090909 Z\" style=\"fill: rgb(140, 86, 75);\"/><title>Antineoplastic → Other\n",
       "1\n",
       "54.0</title></g></g><g class=\"nodes\"><g class=\"node\" transform=\"translate(929,319.15584415584414)\"><title>Thyroid</title><text dy=\".35em\" style=\"display: inline;\" text-anchor=\"start\" transform=\"translate(4,5.681818181818187)\">Thyroid</text><line style=\"display: inline; stroke: rgb(0, 0, 0);\" x1=\"0\" x2=\"0\" y1=\"0\" y2=\"11.363636363636374\"/><rect height=\"16.363636363636374\" style=\"fill: none; visibility: hidden; pointer-events: all;\" width=\"10\" x=\"-5\" y=\"-5\"/></g><g class=\"node\" transform=\"translate(929,452.59740259740255)\"><title>Cervix</title><text dy=\".35em\" style=\"display: inline;\" text-anchor=\"start\" transform=\"translate(4,2.8409090909090935)\">Cervix</text><line style=\"display: inline; stroke: rgb(0, 0, 0);\" x1=\"0\" x2=\"0\" y1=\"0\" y2=\"5.681818181818187\"/><rect height=\"10.681818181818187\" style=\"fill: none; visibility: hidden; pointer-events: all;\" width=\"10\" x=\"-5\" y=\"-5\"/></g><g class=\"node\" transform=\"translate(929,669.3181818181818)\"><title>Testis</title><text dy=\".35em\" style=\"display: inline;\" text-anchor=\"start\" transform=\"translate(4,2.840909090909065)\">Testis</text><line style=\"display: inline; stroke: rgb(0, 0, 0);\" x1=\"0\" x2=\"0\" y1=\"0\" y2=\"5.68181818181813\"/><rect height=\"10.68181818181813\" style=\"fill: none; visibility: hidden; pointer-events: all;\" width=\"10\" x=\"-5\" y=\"-5\"/></g><g class=\"node\" transform=\"translate(619.3333333333334,637.5)\"><title>Parp inhibitor</title><text dy=\".35em\" style=\"display: inline;\" text-anchor=\"start\" transform=\"translate(-4,-10)\">Parp inhibitor</text><line style=\"display: inline; stroke: rgb(0, 0, 0);\" x1=\"0\" x2=\"0\" y1=\"-5\" y2=\"5.68181818181813\"/><rect height=\"10.68181818181813\" style=\"fill: none; visibility: hidden; pointer-events: all;\" width=\"10\" x=\"-5\" y=\"-5\"/></g><g class=\"node\" transform=\"translate(309.6666666666667,663.6363636363636)\"><title>Plant alkaloids</title><text dy=\".35em\" style=\"display: inline;\" text-anchor=\"start\" transform=\"translate(-4,-10)\">Plant alkaloids</text><line style=\"display: inline; stroke: rgb(0, 0, 0);\" x1=\"0\" x2=\"0\" y1=\"-5\" y2=\"11.363636363636374\"/><rect height=\"16.363636363636374\" style=\"fill: none; visibility: hidden; pointer-events: all;\" width=\"10\" x=\"-5\" y=\"-5\"/></g><g class=\"node\" transform=\"translate(309.6666666666667,129.54545454545456)\"><title>Hormones</title><text dy=\".35em\" style=\"display: inline;\" text-anchor=\"start\" transform=\"translate(-4,-10)\">Hormones</text><line style=\"display: inline; stroke: rgb(0, 0, 0);\" x1=\"0\" x2=\"0\" y1=\"-5\" y2=\"5.681818181818187\"/><rect height=\"10.681818181818187\" style=\"fill: none; visibility: hidden; pointer-events: all;\" width=\"10\" x=\"-5\" y=\"-5\"/></g><g class=\"node\" transform=\"translate(309.6666666666667,227.2727272727273)\"><title>Other</title><text dy=\".35em\" style=\"display: inline;\" text-anchor=\"start\" transform=\"translate(-4,-10)\">Other</text><line style=\"display: inline; stroke: rgb(0, 0, 0);\" x1=\"0\" x2=\"0\" y1=\"-5\" y2=\"306.8181818181818\"/><rect height=\"311.8181818181818\" style=\"fill: none; visibility: hidden; pointer-events: all;\" width=\"10\" x=\"-5\" y=\"-5\"/></g><g class=\"node\" transform=\"translate(619.3333333333334,605.6818181818181)\"><title>Other suppressant</title><text dy=\".35em\" style=\"display: inline;\" text-anchor=\"start\" transform=\"translate(-4,-10)\">Other suppressant</text><line style=\"display: inline; stroke: rgb(0, 0, 0);\" x1=\"0\" x2=\"0\" y1=\"-5\" y2=\"11.363636363636374\"/><rect height=\"16.363636363636374\" style=\"fill: none; visibility: hidden; pointer-events: all;\" width=\"10\" x=\"-5\" y=\"-5\"/></g><g class=\"node\" transform=\"translate(619.3333333333334,75)\"><title>Anti-androgens</title><text dy=\".35em\" style=\"display: inline;\" text-anchor=\"start\" transform=\"translate(-4,-10)\">Anti-androgens</text><line style=\"display: inline; stroke: rgb(0, 0, 0);\" x1=\"0\" x2=\"0\" y1=\"-5\" y2=\"5.681818181818187\"/><rect height=\"10.681818181818187\" style=\"fill: none; visibility: hidden; pointer-events: all;\" width=\"10\" x=\"-5\" y=\"-5\"/></g><g class=\"node\" transform=\"translate(619.3333333333334,127.27272727272725)\"><title>Anti-estrogens</title><text dy=\".35em\" style=\"display: inline;\" text-anchor=\"start\" transform=\"translate(-4,-10)\">Anti-estrogens</text><line style=\"display: inline; stroke: rgb(0, 0, 0);\" x1=\"0\" x2=\"0\" y1=\"-5\" y2=\"5.681818181818187\"/><rect height=\"10.681818181818187\" style=\"fill: none; visibility: hidden; pointer-events: all;\" width=\"10\" x=\"-5\" y=\"-5\"/></g><g class=\"node\" transform=\"translate(619.3333333333334,373.8636363636363)\"><title>Other agent</title><text dy=\".35em\" style=\"display: inline;\" text-anchor=\"start\" transform=\"translate(-4,-10)\">Other agent</text><line style=\"display: inline; stroke: rgb(0, 0, 0);\" x1=\"0\" x2=\"0\" y1=\"-5\" y2=\"22.727272727272748\"/><rect height=\"27.727272727272748\" style=\"fill: none; visibility: hidden; pointer-events: all;\" width=\"10\" x=\"-5\" y=\"-5\"/></g><g class=\"node\" transform=\"translate(929,280.35714285714283)\"><title>Stomach</title><text dy=\".35em\" style=\"display: inline;\" text-anchor=\"start\" transform=\"translate(4,11.363636363636374)\">Stomach</text><line style=\"display: inline; stroke: rgb(0, 0, 0);\" x1=\"0\" x2=\"0\" y1=\"0\" y2=\"22.727272727272748\"/><rect height=\"27.727272727272748\" style=\"fill: none; visibility: hidden; pointer-events: all;\" width=\"10\" x=\"-5\" y=\"-5\"/></g><g class=\"node\" transform=\"translate(0,75)\"><title>Endocrine</title><text dy=\".35em\" style=\"display: inline;\" text-anchor=\"end\" transform=\"translate(-4,11.36363636363636)\">Endocrine</text><line style=\"display: inline; stroke: rgb(0, 0, 0);\" x1=\"0\" x2=\"0\" y1=\"0\" y2=\"22.72727272727272\"/><rect height=\"27.72727272727272\" style=\"fill: none; visibility: hidden; pointer-events: all;\" width=\"10\" x=\"-5\" y=\"-5\"/></g><g class=\"node\" transform=\"translate(619.3333333333334,417.0454545454545)\"><title>Monoclonal antibodies</title><text dy=\".35em\" style=\"display: inline;\" text-anchor=\"start\" transform=\"translate(-4,-10)\">Monoclonal antibodies</text><line style=\"display: inline; stroke: rgb(0, 0, 0);\" x1=\"0\" x2=\"0\" y1=\"-5\" y2=\"142.0454545454545\"/><rect height=\"147.0454545454545\" style=\"fill: none; visibility: hidden; pointer-events: all;\" width=\"10\" x=\"-5\" y=\"-5\"/></g><g class=\"node\" transform=\"translate(929,413.79870129870125)\"><title>Bladder</title><text dy=\".35em\" style=\"display: inline;\" text-anchor=\"start\" transform=\"translate(4,11.363636363636374)\">Bladder</text><line style=\"display: inline; stroke: rgb(0, 0, 0);\" x1=\"0\" x2=\"0\" y1=\"0\" y2=\"22.727272727272748\"/><rect height=\"27.727272727272748\" style=\"fill: none; visibility: hidden; pointer-events: all;\" width=\"10\" x=\"-5\" y=\"-5\"/></g><g class=\"node\" transform=\"translate(619.3333333333334,579.5454545454545)\"><title>Anthracyclines</title><text dy=\".35em\" style=\"display: inline;\" text-anchor=\"start\" transform=\"translate(-4,-10)\">Anthracyclines</text><line style=\"display: inline; stroke: rgb(0, 0, 0);\" x1=\"0\" x2=\"0\" y1=\"-5\" y2=\"5.68181818181813\"/><rect height=\"10.68181818181813\" style=\"fill: none; visibility: hidden; pointer-events: all;\" width=\"10\" x=\"-5\" y=\"-5\"/></g><g class=\"node\" transform=\"translate(929,108.11688311688312)\"><title>Breast</title><text dy=\".35em\" style=\"display: inline;\" text-anchor=\"start\" transform=\"translate(4,25.568181818181813)\">Breast</text><line style=\"display: inline; stroke: rgb(0, 0, 0);\" x1=\"0\" x2=\"0\" y1=\"0\" y2=\"51.136363636363626\"/><rect height=\"56.136363636363626\" style=\"fill: none; visibility: hidden; pointer-events: all;\" width=\"10\" x=\"-5\" y=\"-5\"/></g><g class=\"node\" transform=\"translate(929,175.3246753246753)\"><title>Colon</title><text dy=\".35em\" style=\"display: inline;\" text-anchor=\"start\" transform=\"translate(4,17.045454545454547)\">Colon</text><line style=\"display: inline; stroke: rgb(0, 0, 0);\" x1=\"0\" x2=\"0\" y1=\"0\" y2=\"34.09090909090909\"/><rect height=\"39.09090909090909\" style=\"fill: none; visibility: hidden; pointer-events: all;\" width=\"10\" x=\"-5\" y=\"-5\"/></g><g class=\"node\" transform=\"translate(929,75)\"><title>Prostate</title><text dy=\".35em\" style=\"display: inline;\" text-anchor=\"start\" transform=\"translate(4,8.522727272727273)\">Prostate</text><line style=\"display: inline; stroke: rgb(0, 0, 0);\" x1=\"0\" x2=\"0\" y1=\"0\" y2=\"17.045454545454547\"/><rect height=\"22.045454545454547\" style=\"fill: none; visibility: hidden; pointer-events: all;\" width=\"10\" x=\"-5\" y=\"-5\"/></g><g class=\"node\" transform=\"translate(619.3333333333334,179.5454545454545)\"><title>Pyrimidine analogues</title><text dy=\".35em\" style=\"display: inline;\" text-anchor=\"start\" transform=\"translate(-4,-10)\">Pyrimidine analogues</text><line style=\"display: inline; stroke: rgb(0, 0, 0);\" x1=\"0\" x2=\"0\" y1=\"-5\" y2=\"17.04545454545456\"/><rect height=\"22.04545454545456\" style=\"fill: none; visibility: hidden; pointer-events: all;\" width=\"10\" x=\"-5\" y=\"-5\"/></g><g class=\"node\" transform=\"translate(309.6666666666667,75)\"><title>Hormone antagonists</title><text dy=\".35em\" style=\"display: inline;\" text-anchor=\"start\" transform=\"translate(-4,-10)\">Hormone antagonists</text><line style=\"display: inline; stroke: rgb(0, 0, 0);\" x1=\"0\" x2=\"0\" y1=\"-5\" y2=\"17.045454545454547\"/><rect height=\"22.045454545454547\" style=\"fill: none; visibility: hidden; pointer-events: all;\" width=\"10\" x=\"-5\" y=\"-5\"/></g><g class=\"node\" transform=\"translate(619.3333333333334,217.0454545454545)\"><title>Kinase inhibitors</title><text dy=\".35em\" style=\"display: inline;\" text-anchor=\"start\" transform=\"translate(-4,-10)\">Kinase inhibitors</text><line style=\"display: inline; stroke: rgb(0, 0, 0);\" x1=\"0\" x2=\"0\" y1=\"-5\" y2=\"136.36363636363637\"/><rect height=\"141.36363636363637\" style=\"fill: none; visibility: hidden; pointer-events: all;\" width=\"10\" x=\"-5\" y=\"-5\"/></g><g class=\"node\" transform=\"translate(309.6666666666667,571.5909090909091)\"><title>Cytotoxic antibiotics</title><text dy=\".35em\" style=\"display: inline;\" text-anchor=\"start\" transform=\"translate(-4,-10)\">Cytotoxic antibiotics</text><line style=\"display: inline; stroke: rgb(0, 0, 0);\" x1=\"0\" x2=\"0\" y1=\"-5\" y2=\"5.68181818181813\"/><rect height=\"10.68181818181813\" style=\"fill: none; visibility: hidden; pointer-events: all;\" width=\"10\" x=\"-5\" y=\"-5\"/></g><g class=\"node\" transform=\"translate(929,225.48701298701297)\"><title>Liver</title><text dy=\".35em\" style=\"display: inline;\" text-anchor=\"start\" transform=\"translate(4,2.8409090909090935)\">Liver</text><line style=\"display: inline; stroke: rgb(0, 0, 0);\" x1=\"0\" x2=\"0\" y1=\"0\" y2=\"5.681818181818187\"/><rect height=\"10.681818181818187\" style=\"fill: none; visibility: hidden; pointer-events: all;\" width=\"10\" x=\"-5\" y=\"-5\"/></g><g class=\"node\" transform=\"translate(619.3333333333334,663.6363636363636)\"><title>Podophyllotoxin derivatives</title><text dy=\".35em\" style=\"display: inline;\" text-anchor=\"start\" transform=\"translate(-4,-10)\">Podophyllotoxin derivatives</text><line style=\"display: inline; stroke: rgb(0, 0, 0);\" x1=\"0\" x2=\"0\" y1=\"-5\" y2=\"11.363636363636374\"/><rect height=\"16.363636363636374\" style=\"fill: none; visibility: hidden; pointer-events: all;\" width=\"10\" x=\"-5\" y=\"-5\"/></g><g class=\"node\" transform=\"translate(929,552.9220779220778)\"><title>Skin</title><text dy=\".35em\" style=\"display: inline;\" text-anchor=\"start\" transform=\"translate(4,17.04545454545456)\">Skin</text><line style=\"display: inline; stroke: rgb(0, 0, 0);\" x1=\"0\" x2=\"0\" y1=\"0\" y2=\"34.09090909090912\"/><rect height=\"39.09090909090912\" style=\"fill: none; visibility: hidden; pointer-events: all;\" width=\"10\" x=\"-5\" y=\"-5\"/></g><g class=\"node\" transform=\"translate(0,210.22727272727272)\"><title>Antineoplastic</title><text dy=\".35em\" style=\"display: inline;\" text-anchor=\"end\" transform=\"translate(-4,170.45454545454544)\">Antineoplastic</text><line style=\"display: inline; stroke: rgb(0, 0, 0);\" x1=\"0\" x2=\"0\" y1=\"0\" y2=\"340.9090909090909\"/><rect height=\"345.9090909090909\" style=\"fill: none; visibility: hidden; pointer-events: all;\" width=\"10\" x=\"-5\" y=\"-5\"/></g><g class=\"node\" transform=\"translate(0,663.6363636363636)\"><title>Immunosuppressants</title><text dy=\".35em\" style=\"display: inline;\" text-anchor=\"end\" transform=\"translate(-4,5.681818181818187)\">Immunosuppressants</text><line style=\"display: inline; stroke: rgb(0, 0, 0);\" x1=\"0\" x2=\"0\" y1=\"0\" y2=\"11.363636363636374\"/><rect height=\"16.363636363636374\" style=\"fill: none; visibility: hidden; pointer-events: all;\" width=\"10\" x=\"-5\" y=\"-5\"/></g><g class=\"node\" transform=\"translate(929,603.0844155844155)\"><title>Ovary</title><text dy=\".35em\" style=\"display: inline;\" text-anchor=\"start\" transform=\"translate(4,11.363636363636374)\">Ovary</text><line style=\"display: inline; stroke: rgb(0, 0, 0);\" x1=\"0\" x2=\"0\" y1=\"0\" y2=\"22.727272727272748\"/><rect height=\"27.727272727272748\" style=\"fill: none; visibility: hidden; pointer-events: all;\" width=\"10\" x=\"-5\" y=\"-5\"/></g><g class=\"node\" transform=\"translate(309.6666666666667,614.7727272727273)\"><title>Suppressants</title><text dy=\".35em\" style=\"display: inline;\" text-anchor=\"start\" transform=\"translate(-4,-10)\">Suppressants</text><line style=\"display: inline; stroke: rgb(0, 0, 0);\" x1=\"0\" x2=\"0\" y1=\"-5\" y2=\"11.363636363636374\"/><rect height=\"16.363636363636374\" style=\"fill: none; visibility: hidden; pointer-events: all;\" width=\"10\" x=\"-5\" y=\"-5\"/></g><g class=\"node\" transform=\"translate(309.6666666666667,172.72727272727275)\"><title>Antimetabolites</title><text dy=\".35em\" style=\"display: inline;\" text-anchor=\"start\" transform=\"translate(-4,-10)\">Antimetabolites</text><line style=\"display: inline; stroke: rgb(0, 0, 0);\" x1=\"0\" x2=\"0\" y1=\"-5\" y2=\"17.04545454545456\"/><rect height=\"22.04545454545456\" style=\"fill: none; visibility: hidden; pointer-events: all;\" width=\"10\" x=\"-5\" y=\"-5\"/></g><g class=\"node\" transform=\"translate(929,641.8831168831168)\"><title>Brain</title><text dy=\".35em\" style=\"display: inline;\" text-anchor=\"start\" transform=\"translate(4,5.681818181818187)\">Brain</text><line style=\"display: inline; stroke: rgb(0, 0, 0);\" x1=\"0\" x2=\"0\" y1=\"0\" y2=\"11.363636363636374\"/><rect height=\"16.363636363636374\" style=\"fill: none; visibility: hidden; pointer-events: all;\" width=\"10\" x=\"-5\" y=\"-5\"/></g><g class=\"node\" transform=\"translate(619.3333333333334,101.13636363636363)\"><title>Other antagonist</title><text dy=\".35em\" style=\"display: inline;\" text-anchor=\"start\" transform=\"translate(-4,-10)\">Other antagonist</text><line style=\"display: inline; stroke: rgb(0, 0, 0);\" x1=\"0\" x2=\"0\" y1=\"-5\" y2=\"5.681818181818187\"/><rect height=\"10.681818181818187\" style=\"fill: none; visibility: hidden; pointer-events: all;\" width=\"10\" x=\"-5\" y=\"-5\"/></g><g class=\"node\" transform=\"translate(929,474.3506493506493)\"><title>Lung</title><text dy=\".35em\" style=\"display: inline;\" text-anchor=\"start\" transform=\"translate(4,31.25)\">Lung</text><line style=\"display: inline; stroke: rgb(0, 0, 0);\" x1=\"0\" x2=\"0\" y1=\"0\" y2=\"62.5\"/><rect height=\"67.5\" style=\"fill: none; visibility: hidden; pointer-events: all;\" width=\"10\" x=\"-5\" y=\"-5\"/></g><g class=\"node\" transform=\"translate(619.3333333333334,153.40909090909088)\"><title>Gonadotropin analogue</title><text dy=\".35em\" style=\"display: inline;\" text-anchor=\"start\" transform=\"translate(-4,-10)\">Gonadotropin analogue</text><line style=\"display: inline; stroke: rgb(0, 0, 0);\" x1=\"0\" x2=\"0\" y1=\"-5\" y2=\"5.681818181818187\"/><rect height=\"10.681818181818187\" style=\"fill: none; visibility: hidden; pointer-events: all;\" width=\"10\" x=\"-5\" y=\"-5\"/></g><g class=\"node\" transform=\"translate(929,247.24025974025972)\"><title>Pancreas</title><text dy=\".35em\" style=\"display: inline;\" text-anchor=\"start\" transform=\"translate(4,8.52272727272728)\">Pancreas</text><line style=\"display: inline; stroke: rgb(0, 0, 0);\" x1=\"0\" x2=\"0\" y1=\"0\" y2=\"17.04545454545456\"/><rect height=\"22.04545454545456\" style=\"fill: none; visibility: hidden; pointer-events: all;\" width=\"10\" x=\"-5\" y=\"-5\"/></g><g class=\"node\" transform=\"translate(929,346.59090909090907)\"><title>Kidney</title><text dy=\".35em\" style=\"display: inline;\" text-anchor=\"start\" transform=\"translate(4,25.568181818181813)\">Kidney</text><line style=\"display: inline; stroke: rgb(0, 0, 0);\" x1=\"0\" x2=\"0\" y1=\"0\" y2=\"51.136363636363626\"/><rect height=\"56.136363636363626\" style=\"fill: none; visibility: hidden; pointer-events: all;\" width=\"10\" x=\"-5\" y=\"-5\"/></g></g><g class=\"slice-titles\"/></g></svg>"
      ],
      "text/plain": [
       "<IPython.core.display.SVG object>"
      ]
     },
     "execution_count": 160,
     "metadata": {},
     "output_type": "execute_result"
    }
   ],
   "source": [
    "mkdir"
   ]
  }
 ],
 "metadata": {
  "kernelspec": {
   "display_name": "Python 2",
   "language": "python",
   "name": "python2"
  },
  "language_info": {
   "codemirror_mode": {
    "name": "ipython",
    "version": 2
   },
   "file_extension": ".py",
   "mimetype": "text/x-python",
   "name": "python",
   "nbconvert_exporter": "python",
   "pygments_lexer": "ipython2",
   "version": "2.7.13"
  }
 },
 "nbformat": 4,
 "nbformat_minor": 2
}
