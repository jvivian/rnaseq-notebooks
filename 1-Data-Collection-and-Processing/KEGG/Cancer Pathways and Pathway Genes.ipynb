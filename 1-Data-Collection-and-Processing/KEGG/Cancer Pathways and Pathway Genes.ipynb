{
 "cells": [
  {
   "cell_type": "markdown",
   "metadata": {},
   "source": [
    "Look for pathways (KEGG) associated with cancer and generate gene lists"
   ]
  },
  {
   "cell_type": "code",
   "execution_count": 4,
   "metadata": {},
   "outputs": [],
   "source": [
    "import rnaseq_lib as r\n",
    "from rnaseq_lib.jupyter import log_progress as prog\n",
    "import pandas as pd\n",
    "from Bio.KEGG.KGML import KGML_parser"
   ]
  },
  {
   "cell_type": "markdown",
   "metadata": {},
   "source": [
    "## Pathway Table"
   ]
  },
  {
   "cell_type": "code",
   "execution_count": 5,
   "metadata": {
    "collapsed": true
   },
   "outputs": [],
   "source": [
    "operation='find'\n",
    "queries= ['cancer', 'carcinoma', 'melanoma']\n",
    "database='pathway'"
   ]
  },
  {
   "cell_type": "code",
   "execution_count": 6,
   "metadata": {
    "collapsed": true
   },
   "outputs": [],
   "source": [
    "text = ''\n",
    "for query in queries:\n",
    "    s = r.web.kegg._kegg_search(operation=operation,\n",
    "                               database=database,\n",
    "                               query=query)\n",
    "    text += s.text"
   ]
  },
  {
   "cell_type": "code",
   "execution_count": 7,
   "metadata": {
    "scrolled": false
   },
   "outputs": [
    {
     "name": "stdout",
     "output_type": "stream",
     "text": [
      "path:map05200\tPathways in cancer\n",
      "path:map05202\tTranscriptional misregulation in cancer\n",
      "path:map05205\tProteoglycans in cancer\n",
      "path:map05206\tMicroRNAs in cancer\n",
      "path:map05210\tColorectal cancer\n",
      "path:map05212\tPancreatic cancer\n",
      "path:map05213\tEndometrial cancer\n",
      "path:map05215\tProstate cancer\n",
      "path:map05216\tThyroid cancer\n",
      "path:map05219\tBladder cancer\n",
      "path:map05222\tSmall cell lung cancer\n",
      "path:map05223\tNon-small cell lung cancer\n",
      "path:map05224\tBreast cancer\n",
      "path:map05226\tGastric cancer\n",
      "path:map05230\tCentral carbon metabolism in cancer\n",
      "path:map05231\tCholine metabolism in cancer\n",
      "path:map05211\tRenal cell carcinoma\n",
      "path:map05217\tBasal cell carcinoma\n",
      "path:map05225\tHepatocellular carcinoma\n",
      "path:map05218\tMelanoma\n",
      "\n"
     ]
    }
   ],
   "source": [
    "print text"
   ]
  },
  {
   "cell_type": "markdown",
   "metadata": {},
   "source": [
    "Convert to dataframe"
   ]
  },
  {
   "cell_type": "code",
   "execution_count": 230,
   "metadata": {
    "collapsed": true
   },
   "outputs": [],
   "source": [
    "records = [x.split('\\t') for x in text.split('\\n') if x]\n",
    "path_df = pd.DataFrame.from_records(records, columns=['kegg', 'description'])"
   ]
  },
  {
   "cell_type": "markdown",
   "metadata": {},
   "source": [
    "The `path:map` prefix _must be replaced with_ **hsa** (human sapiens) in order for downstream queries to work. "
   ]
  },
  {
   "cell_type": "code",
   "execution_count": 231,
   "metadata": {
    "collapsed": true
   },
   "outputs": [],
   "source": [
    "path_df['kegg'] = path_df.kegg.str.replace('path:map', 'hsa')"
   ]
  },
  {
   "cell_type": "markdown",
   "metadata": {},
   "source": [
    "Save"
   ]
  },
  {
   "cell_type": "code",
   "execution_count": 232,
   "metadata": {
    "collapsed": true
   },
   "outputs": [],
   "source": [
    "path_df.to_csv('tables/pathway-ids.tsv', sep='\\t', index=None)"
   ]
  },
  {
   "cell_type": "markdown",
   "metadata": {},
   "source": [
    "## Pathway Genes\n",
    "\n",
    "Use Biopython's KGML parser"
   ]
  },
  {
   "cell_type": "code",
   "execution_count": 290,
   "metadata": {},
   "outputs": [
    {
     "data": {
      "application/vnd.jupyter.widget-view+json": {
       "model_id": "368e9358748f4c6d89237e722dbb9d70",
       "version_major": 2,
       "version_minor": 0
      },
      "text/html": [
       "<p>Failed to display Jupyter Widget of type <code>VBox</code>.</p>\n",
       "<p>\n",
       "  If you're reading this message in the Jupyter Notebook or JupyterLab Notebook, it may mean\n",
       "  that the widgets JavaScript is still loading. If this message persists, it\n",
       "  likely means that the widgets JavaScript library is either not installed or\n",
       "  not enabled. See the <a href=\"https://ipywidgets.readthedocs.io/en/stable/user_install.html\">Jupyter\n",
       "  Widgets Documentation</a> for setup instructions.\n",
       "</p>\n",
       "<p>\n",
       "  If you're reading this message in another frontend (for example, a static\n",
       "  rendering on GitHub or <a href=\"https://nbviewer.jupyter.org/\">NBViewer</a>),\n",
       "  it may mean that your frontend doesn't currently support widgets.\n",
       "</p>\n"
      ],
      "text/plain": [
       "VBox(children=(HTML(value=u''), IntProgress(value=1, bar_style=u'info', max=1)))"
      ]
     },
     "metadata": {},
     "output_type": "display_data"
    },
    {
     "name": "stdout",
     "output_type": "stream",
     "text": [
      "Finding genes for: Pathways in cancer - hsa05200\n",
      "\tFound 462 genes\n",
      "Finding genes for: Transcriptional misregulation in cancer - hsa05202\n",
      "\tFound 179 genes\n",
      "Finding genes for: Proteoglycans in cancer - hsa05205\n",
      "\tFound 194 genes\n",
      "Finding genes for: MicroRNAs in cancer - hsa05206\n",
      "\tFound 299 genes\n",
      "Finding genes for: Colorectal cancer - hsa05210\n",
      "\tFound 72 genes\n",
      "Finding genes for: Pancreatic cancer - hsa05212\n",
      "\tFound 75 genes\n",
      "Finding genes for: Endometrial cancer - hsa05213\n",
      "\tFound 58 genes\n",
      "Finding genes for: Prostate cancer - hsa05215\n",
      "\tFound 97 genes\n",
      "Finding genes for: Thyroid cancer - hsa05216\n",
      "\tFound 37 genes\n",
      "Finding genes for: Bladder cancer - hsa05219\n",
      "\tFound 41 genes\n",
      "Finding genes for: Small cell lung cancer - hsa05222\n",
      "\tFound 84 genes\n",
      "Finding genes for: Non-small cell lung cancer - hsa05223\n",
      "\tFound 66 genes\n",
      "Finding genes for: Breast cancer - hsa05224\n",
      "\tFound 130 genes\n",
      "Finding genes for: Gastric cancer - hsa05226\n",
      "\tFound 132 genes\n",
      "Finding genes for: Central carbon metabolism in cancer - hsa05230\n",
      "\tFound 62 genes\n",
      "Finding genes for: Choline metabolism in cancer - hsa05231\n",
      "\tFound 98 genes\n",
      "Finding genes for: Renal cell carcinoma - hsa05211\n",
      "\tFound 69 genes\n",
      "Finding genes for: Basal cell carcinoma - hsa05217\n",
      "\tFound 54 genes\n",
      "Finding genes for: Hepatocellular carcinoma - hsa05225\n",
      "\tFound 150 genes\n",
      "Finding genes for: Melanoma - hsa05218\n",
      "\tFound 57 genes\n"
     ]
    }
   ],
   "source": [
    "# For each pathway entry\n",
    "for i, row in prog(path_df.iterrows(), every=1):\n",
    "    \n",
    "    # Separate kegg ID and description of pathway\n",
    "    kegg, description = row\n",
    "    print 'Finding genes for: {} - {}'.format(description, kegg)\n",
    "    \n",
    "    # Get pathway in KGML format\n",
    "    kgml = _get(kegg, form='kgml').text\n",
    "    \n",
    "    # Wrap text in a file handle for KGML parser\n",
    "    f = io.BytesIO(kgml.encode('utf-8'))\n",
    "    k = KGML_parser.read(f)\n",
    "    \n",
    "    # Collect genes\n",
    "    genes = set()\n",
    "    for gene in k.genes:\n",
    "        text = _get(gene.name).text\n",
    "        for line in text.split('\\n'):\n",
    "            if line.startswith('NAME'):\n",
    "                line = line.split()[1:]\n",
    "                genes.add(line[0].rstrip(','))\n",
    "                \n",
    "    print '\\tFound {} genes'.format(len(genes))\n",
    "    \n",
    "    # Output to file based on pathway description\n",
    "    with open(os.path.join('gene-lists', '-'.join(description.split()) + '.txt'), 'w') as f:\n",
    "        f.write('\\n'.join(sorted(genes)))"
   ]
  }
 ],
 "metadata": {
  "kernelspec": {
   "display_name": "Python 2",
   "language": "python",
   "name": "python2"
  },
  "language_info": {
   "codemirror_mode": {
    "name": "ipython",
    "version": 2
   },
   "file_extension": ".py",
   "mimetype": "text/x-python",
   "name": "python",
   "nbconvert_exporter": "python",
   "pygments_lexer": "ipython2",
   "version": "2.7.13"
  }
 },
 "nbformat": 4,
 "nbformat_minor": 2
}
