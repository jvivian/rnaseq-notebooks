{
 "cells": [
  {
   "cell_type": "markdown",
   "metadata": {},
   "source": [
    "Collect drug information on drugs KEGG has listed in the Pathways for Cancer"
   ]
  },
  {
   "cell_type": "code",
   "execution_count": 2,
   "metadata": {
    "collapsed": true
   },
   "outputs": [],
   "source": [
    "import rnaseq_lib as r\n",
    "import pandas as pd"
   ]
  },
  {
   "cell_type": "code",
   "execution_count": 1,
   "metadata": {
    "collapsed": true
   },
   "outputs": [],
   "source": [
    "drugs = ['Testosterone', 'Danazol', 'Flutamide', 'Sirolimus', 'Bicalutamide', \n",
    "         'Nilutamide', 'Methenolone', 'Imatinib', 'Gefitinib', 'Everolimus', \n",
    "         'Alitretinoin', 'Bexarotene', 'Axitinib', 'Bosutinib', 'Trastuzumab', \n",
    "         'Cetuximab', 'Dasatinib', 'Enzastaurin', 'Erlotinib', 'Lapatinib', \n",
    "         'Fenretinide', 'Lestaurtinib', 'Midostaurin', 'Panitumumab', \n",
    "         'Pazopanib', 'Pegaptanib', 'Semaxanib', 'Tandutinib', 'Temsirolimus', \n",
    "         'Sorafenib', 'Vatalanib', 'Vorinostat', 'Sunitinib', 'Vandetanib',\n",
    "         'Bevacizumab', 'Nilotinib', 'Dasatinib', 'Romidepsin', 'Erlotinib', \n",
    "         'Imatinib', 'Lapatinib', 'Tozasertib', 'Tozasertib', 'Sorafenib', \n",
    "         'Sunitinib', 'Belinostat', 'Cediranib', 'Cediranib', 'Ridaforolimus', \n",
    "         'Neratinib', 'Nilotinib', 'Cixutumumab', 'Entinostat', 'Mocetinostat', \n",
    "         'Aflibercept', 'Mocetinostat', 'Rilotumumab', 'Afatinib', 'Afatinib',\n",
    "         'Dalotuzumab', 'Amuvatinib', 'Amuvatinib', 'Ganitumab', 'Gataparsen', \n",
    "         'Gataparsen', 'Lenvatinib', 'Lenvatinib', 'Ponatinib', 'Ponatinib',\n",
    "         'Quizartinib', 'Quizartinib', 'Trastuzumab', 'Vismodegib', 'Vemurafenib',\n",
    "         'Panobinostat', 'Zalutumumab', 'Abexinostat', 'Cabozantinib', 'Olcorolimus',\n",
    "         'Abexinostat', 'Crenolanib', 'Crenolanib', 'Ficlatuzumab', 'Ganetespib',\n",
    "         'Regorafenib', 'Regorafenib', 'Sepantronium', 'Tivantinib', 'Pictilisib',\n",
    "         'Enzalutamide', 'Panobinostat', 'Rebastinib', 'Palbociclib', 'Afuresertib',\n",
    "         'Afuresertib', 'Nintedanib', 'Rebastinib', 'Vantictumab', 'Ilorasertib',\n",
    "         'Pimasertib', 'Galunisertib', 'Nintedanib', 'Pimasertib', 'Glasdegib',\n",
    "         'Abemaciclib', 'Gilteritinib', 'Napabucasin', 'Omipalisib', 'Onalespib']"
   ]
  },
  {
   "cell_type": "code",
   "execution_count": 8,
   "metadata": {},
   "outputs": [
    {
     "data": {
      "text/plain": [
       "u'dr:D04023'"
      ]
     },
     "execution_count": 8,
     "metadata": {},
     "output_type": "execute_result"
    }
   ],
   "source": [
    "r.web.kegg.find_drug_label('Erlotinib')"
   ]
  },
  {
   "cell_type": "code",
   "execution_count": 10,
   "metadata": {
    "scrolled": false
   },
   "outputs": [
    {
     "name": "stdout",
     "output_type": "stream",
     "text": [
      "ENTRY       D04023                      Drug\n",
      "NAME        Erlotinib hydrochloride (JAN/USAN);\n",
      "            Tarceva (TN)\n",
      "PRODUCT     TARCEVA (Avera McKennan Hospital) 8bbf73c5-5512-4f51-9484-0b5d32682e72\n",
      "            TARCEVA (Genentech) 57bccb29-1c47-4c64-ab6a-77960a91cc20\n",
      "            TARCEVA (Physicians Total Care) 5783976b-0862-44e5-9b19-0f41d236d5c3\n",
      "FORMULA     C22H23N3O4. HCl\n",
      "EXACT_MASS  429.1455\n",
      "MOL_WEIGHT  429.8967\n",
      "CLASS       Antineoplastic\n",
      "             DG01918  Tyrosine kinase inhibitor\n",
      "              DG01917  Receptor tyrosine kinase inhibitor\n",
      "            Cyp substrate\n",
      "             DG01892  CYP1A2 substrate\n",
      "             DG01633  CYP3A substrate\n",
      "REMARK      Therapeutic category: 4291\n",
      "            ATC code: L01XE03\n",
      "            Chemical group: DG00711\n",
      "EFFICACY    Antineoplastic, Receptor tyrosine kinase inhibitor\n",
      "  DISEASE   Non-small cell lung cancer (EGFR mutation positive) [DS:H00014]\n",
      "            Pancreatic cancer [DS:H00019]\n",
      "TARGET      EGFR [HSA:1956] [KO:K04361]\n",
      "  PATHWAY   hsa04010(1956)  MAPK signaling pathway\n",
      "            hsa04012(1956)  ErbB signaling pathway\n",
      "            hsa04020(1956)  Calcium signaling pathway\n",
      "            hsa04060(1956)  Cytokine-cytokine receptor interaction\n",
      "            hsa05200(1956)  Pathways in cancer\n",
      "            hsa05223(1956)  Non-small cell lung cancer\n",
      "METABOLISM  Enzyme: CYP3A4 [HSA:1576], CYP1A2 [HSA:1544], UGT1A1 [HSA:54658]\n",
      "INTERACTION Genomic biomarker: EGFR [HSA:1956]\n",
      "STR_MAP     map07045  Antineoplastics - protein kinases inhibitors\n",
      "BRITE       Anatomical Therapeutic Chemical (ATC) classification [BR:br08303]\n",
      "             L ANTINEOPLASTIC AND IMMUNOMODULATING AGENTS\n",
      "              L01 ANTINEOPLASTIC AGENTS\n",
      "               L01X OTHER ANTINEOPLASTIC AGENTS\n",
      "                L01XE Protein kinase inhibitors\n",
      "                 L01XE03 Erlotinib\n",
      "                  D04023  Erlotinib hydrochloride (JAN/USAN)\n",
      "            USP drug classification [BR:br08302]\n",
      "             Antineoplastics\n",
      "              Molecular Target Inhibitors\n",
      "               Erlotinib\n",
      "                D04023  Erlotinib hydrochloride (JAN/USAN)\n",
      "            Therapeutic category of drugs in Japan [BR:br08301]\n",
      "             4  Agents affecting cellular function\n",
      "              42  Antineoplastics\n",
      "               429  Miscellaneous\n",
      "                4291  Other Antitumors\n",
      "                 D04023  Erlotinib hydrochloride (JAN/USAN)\n",
      "            Target-based classification of drugs [BR:br08310]\n",
      "             Cytokine receptors\n",
      "              Receptor tyrosine kinase\n",
      "               RTK class I (EGF receptor family)\n",
      "                EGFR tyrosine kinase\n",
      "                 Erlotinib\n",
      "                  D04023  Erlotinib hydrochloride (JAN/USAN)\n",
      "            Cytochrome P450 interactions [BR:br08309]\n",
      "             CYP substrates\n",
      "              CYP1A2\n",
      "               Erlotinib\n",
      "                D04023  Erlotinib hydrochloride (JAN/USAN)\n",
      "              CYP3A4\n",
      "               Erlotinib\n",
      "                D04023  Erlotinib hydrochloride (JAN/USAN)\n",
      "            Antineoplastics [br08340.html]\n",
      "             D04023\n",
      "            New drug approvals in the USA [br08319.html]\n",
      "             New Molecular Entity and New Therapeutic Biological Product Approvals\n",
      "              D04023\n",
      "            New drug approvals in Europe [br08329.html]\n",
      "             European public assessment reports (EPAR) authorised medicine\n",
      "              D04023\n",
      "            New drug approvals in Japan [br08318.html]\n",
      "             Drugs with new active ingredients\n",
      "              D04023\n",
      "            New drug approvals in the USA, Europe and Japan [br08328.html]\n",
      "             Approval dates by FDA, EMA and PMDA\n",
      "              D04023\n",
      "            Pharmacogenomic biomarkers in FDA drug labels [br08341.html]\n",
      "             Companion diagnostics\n",
      "              D04023\n",
      "DBLINKS     CAS: 183319-69-9\n",
      "            PubChem: 17398007\n",
      "            ChEBI: 53509\n",
      "            DrugBank: DB00530\n",
      "            LigandBox: D04023\n",
      "ATOM        30\n",
      "            1   C8x C    22.3300  -16.9400\n",
      "            2   N5x N    22.3300  -18.3400\n",
      "            3   C8y C    23.5900  -19.0400\n",
      "            4   C8y C    24.7800  -18.3400\n",
      "            5   C8y C    24.7800  -16.9400\n",
      "            6   N5x N    23.5900  -16.2400\n",
      "            7   C8x C    25.9700  -19.0400\n",
      "            8   C8y C    27.1600  -18.3400\n",
      "            9   C8y C    27.1600  -16.9400\n",
      "            10  C8x C    25.9700  -16.2400\n",
      "            11  N1b N    23.5900  -20.3700\n",
      "            12  C8y C    24.7800  -21.0700\n",
      "            13  C8x C    24.7800  -22.4700\n",
      "            14  C8x C    25.9700  -23.1700\n",
      "            15  C8y C    27.1600  -22.4700\n",
      "            16  C8x C    27.1600  -21.0700\n",
      "            17  C8x C    25.9700  -20.3700\n",
      "            18  C3b C    28.3753  -23.1651\n",
      "            19  C3a C    29.5877  -23.8651\n",
      "            20  O2a O    28.3724  -16.2400\n",
      "            21  C1b C    29.5849  -16.9400\n",
      "            22  C1b C    30.7973  -16.2400\n",
      "            23  O2a O    32.0097  -16.9400\n",
      "            24  C1a C    33.2222  -16.2400\n",
      "            25  O2a O    28.3724  -19.0400\n",
      "            26  C1b C    29.5849  -18.3400\n",
      "            27  C1b C    30.7973  -19.0400\n",
      "            28  O2a O    32.0097  -18.3400\n",
      "            29  C1a C    33.2222  -19.0400\n",
      "            30  X   Cl   38.7100  -19.5300\n",
      "BOND        31\n",
      "            1     1   2 1\n",
      "            2     2   3 2\n",
      "            3     3   4 1\n",
      "            4     4   5 1\n",
      "            5     5   6 1\n",
      "            6     1   6 2\n",
      "            7     4   7 2\n",
      "            8     7   8 1\n",
      "            9     8   9 2\n",
      "            10    9  10 1\n",
      "            11    5  10 2\n",
      "            12    3  11 1\n",
      "            13   11  12 1\n",
      "            14   12  13 2\n",
      "            15   13  14 1\n",
      "            16   14  15 2\n",
      "            17   15  16 1\n",
      "            18   16  17 2\n",
      "            19   12  17 1\n",
      "            20   15  18 1\n",
      "            21   18  19 3\n",
      "            22    9  20 1\n",
      "            23   20  21 1\n",
      "            24   21  22 1\n",
      "            25   22  23 1\n",
      "            26   23  24 1\n",
      "            27    8  25 1\n",
      "            28   25  26 1\n",
      "            29   26  27 1\n",
      "            30   27  28 1\n",
      "            31   28  29 1\n",
      "///\n",
      "\n"
     ]
    }
   ],
   "source": [
    "print r.web.kegg._get('dr:D04023').text"
   ]
  },
  {
   "cell_type": "code",
   "execution_count": null,
   "metadata": {
    "collapsed": true
   },
   "outputs": [],
   "source": [
    "with open('drug-classification-init.tsv', 'w') as f:\n",
    "    f.write('Drug\\tClass\\tSubgroup\\tSpecification\\tName\\n')\n",
    "    for drug in drugs:\n",
    "        row = [drug]\n",
    "        drug_class = r.web.kegg.get_drug_class(drug)\n",
    "        if drug_class:\n",
    "            row.append(' '.join(drug_class[1].split()[1:]))\n",
    "            row.append(' '.join(drug_class[2].split()[1:]))\n",
    "            row.append(' '.join(drug_class[3].split()[1:]))\n",
    "            row.append(' '.join(drug_class[4].split()[1:]))\n",
    "            f.write('\\t'.join(row) + '\\n')\n",
    "        else:\n",
    "            print 'Nothing found for: {}'.format(drug)"
   ]
  },
  {
   "cell_type": "code",
   "execution_count": null,
   "metadata": {
    "collapsed": true
   },
   "outputs": [],
   "source": []
  }
 ],
 "metadata": {
  "kernelspec": {
   "display_name": "Python 2",
   "language": "python",
   "name": "python2"
  },
  "language_info": {
   "codemirror_mode": {
    "name": "ipython",
    "version": 2
   },
   "file_extension": ".py",
   "mimetype": "text/x-python",
   "name": "python",
   "nbconvert_exporter": "python",
   "pygments_lexer": "ipython2",
   "version": "2.7.13"
  }
 },
 "nbformat": 4,
 "nbformat_minor": 2
}
