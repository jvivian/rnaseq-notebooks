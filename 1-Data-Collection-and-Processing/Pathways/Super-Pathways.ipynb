{
 "cells": [
  {
   "cell_type": "markdown",
   "metadata": {},
   "source": [
    "# Super Pathway Database"
   ]
  },
  {
   "cell_type": "markdown",
   "metadata": {},
   "source": [
    "**Legend**\n",
    "\n",
    "    -a>          the parent promotes the activity of the child\n",
    "    -a|          the parent inhibits the activity of the child\n",
    "    -t>          the parent transcriptionally activates the child\n",
    "    -t|          the parent transcriptionally inhibits the child\n",
    "    -ap>         the parent activates the child, and either the parent\n",
    "                or child is an abstract process is an abstract process\n",
    "    -ap|         the parent inhibits the child, and either the parent\n",
    "                or child is an abstract process is an abstract process\n",
    "    component>   the child is a complex, and the parent is a component\n",
    "                of that complex\n",
    "    member>      the child is a gene family, and the parent is a\n",
    "                component of that family"
   ]
  },
  {
   "cell_type": "code",
   "execution_count": 2,
   "metadata": {
    "collapsed": true
   },
   "outputs": [],
   "source": [
    "import pandas as pd\n",
    "from collections import defaultdict"
   ]
  },
  {
   "cell_type": "code",
   "execution_count": 3,
   "metadata": {},
   "outputs": [
    {
     "name": "stdout",
     "output_type": "stream",
     "text": [
      "CPU times: user 256 ms, sys: 32 ms, total: 288 ms\n",
      "Wall time: 289 ms\n"
     ]
    }
   ],
   "source": [
    "%%time \n",
    "pathway_path = '/mnt/rnaseq-cancer/Metadata/pathway.tab'\n",
    "types = {}\n",
    "interactions = defaultdict(list)\n",
    "with open(pathway_path, 'r') as f:\n",
    "    for line in f:\n",
    "        line = line.strip().split()\n",
    "        if len(line) == 2:\n",
    "            t, name = line\n",
    "            types[name] = t\n",
    "        elif len(line) == 3:\n",
    "            a, b, mode = line\n",
    "            interactions[a].append((a, b, mode))\n",
    "            interactions[b].append((a, b, mode))"
   ]
  },
  {
   "cell_type": "code",
   "execution_count": 5,
   "metadata": {},
   "outputs": [
    {
     "data": {
      "text/plain": [
       "[('HIF1A/ARNT_(complex)', 'CA9', '-t>'), ('SP1/3', 'CA9', '-t>')]"
      ]
     },
     "execution_count": 5,
     "metadata": {},
     "output_type": "execute_result"
    }
   ],
   "source": [
    "interactions['CA9']"
   ]
  },
  {
   "cell_type": "code",
   "execution_count": 6,
   "metadata": {},
   "outputs": [
    {
     "data": {
      "text/plain": [
       "'protein'"
      ]
     },
     "execution_count": 6,
     "metadata": {},
     "output_type": "execute_result"
    }
   ],
   "source": [
    "types['SP1/3']"
   ]
  },
  {
   "cell_type": "code",
   "execution_count": null,
   "metadata": {
    "collapsed": true
   },
   "outputs": [],
   "source": []
  }
 ],
 "metadata": {
  "kernelspec": {
   "display_name": "Python 2",
   "language": "python",
   "name": "python2"
  },
  "language_info": {
   "codemirror_mode": {
    "name": "ipython",
    "version": 2
   },
   "file_extension": ".py",
   "mimetype": "text/x-python",
   "name": "python",
   "nbconvert_exporter": "python",
   "pygments_lexer": "ipython2",
   "version": "2.7.13"
  }
 },
 "nbformat": 4,
 "nbformat_minor": 2
}
