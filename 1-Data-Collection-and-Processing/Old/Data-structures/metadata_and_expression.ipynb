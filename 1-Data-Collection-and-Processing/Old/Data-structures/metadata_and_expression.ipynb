{
 "cells": [
  {
   "cell_type": "markdown",
   "metadata": {},
   "source": [
    "Combine metadata and gene expression data into a single object for convenience"
   ]
  },
  {
   "cell_type": "code",
   "execution_count": 21,
   "metadata": {
    "collapsed": true
   },
   "outputs": [],
   "source": [
    "import pandas as pd\n",
    "import os\n",
    "\n",
    "import rnaseq_lib as r"
   ]
  },
  {
   "cell_type": "markdown",
   "metadata": {},
   "source": [
    "## Inputs"
   ]
  },
  {
   "cell_type": "code",
   "execution_count": 4,
   "metadata": {},
   "outputs": [
    {
     "name": "stdout",
     "output_type": "stream",
     "text": [
      "CPU times: user 2min 16s, sys: 3.67 s, total: 2min 19s\n",
      "Wall time: 2min 19s\n"
     ]
    }
   ],
   "source": [
    "# Expression dataframe\n",
    "df_path = '/mnt/rnaseq-cancer/Expression/tcga-gtex-processed-counts.tsv'\n",
    "%time df = pd.read_csv(df_path, index_col=0, sep='\\t')\n",
    "\n",
    "# Sample Metadata\n",
    "met_path = '/mnt/rnaseq-cancer/Metadata/tcga_gtex_metadata_intersect.tsv'\n",
    "met = pd.read_csv(met_path, index_col=0, sep='\\t')\n",
    "# Subset by samples in dataframe\n",
    "met = met[met.id.isin(df.columns)]"
   ]
  },
  {
   "cell_type": "markdown",
   "metadata": {},
   "source": [
    "Drop duplicate samples"
   ]
  },
  {
   "cell_type": "code",
   "execution_count": 13,
   "metadata": {},
   "outputs": [
    {
     "data": {
      "text/plain": [
       "(10957, 16)"
      ]
     },
     "execution_count": 13,
     "metadata": {},
     "output_type": "execute_result"
    }
   ],
   "source": [
    "met = met[~met.id.duplicated()]\n",
    "met.shape"
   ]
  },
  {
   "cell_type": "markdown",
   "metadata": {},
   "source": [
    "Map genes"
   ]
  },
  {
   "cell_type": "code",
   "execution_count": 6,
   "metadata": {},
   "outputs": [],
   "source": [
    "df.index = r.tissues.map_genes(df.index)"
   ]
  },
  {
   "cell_type": "markdown",
   "metadata": {},
   "source": [
    "## Create combined object"
   ]
  },
  {
   "cell_type": "code",
   "execution_count": 17,
   "metadata": {},
   "outputs": [
    {
     "data": {
      "text/plain": [
       "(10957, 19813)"
      ]
     },
     "execution_count": 17,
     "metadata": {},
     "output_type": "execute_result"
    }
   ],
   "source": [
    "combined = pd.concat([met, df.T], axis=1)\n",
    "combined.shape"
   ]
  },
  {
   "cell_type": "code",
   "execution_count": 20,
   "metadata": {},
   "outputs": [
    {
     "data": {
      "text/html": [
       "<div>\n",
       "<style>\n",
       "    .dataframe thead tr:only-child th {\n",
       "        text-align: right;\n",
       "    }\n",
       "\n",
       "    .dataframe thead th {\n",
       "        text-align: left;\n",
       "    }\n",
       "\n",
       "    .dataframe tbody tr th {\n",
       "        vertical-align: top;\n",
       "    }\n",
       "</style>\n",
       "<table border=\"1\" class=\"dataframe\">\n",
       "  <thead>\n",
       "    <tr style=\"text-align: right;\">\n",
       "      <th></th>\n",
       "      <th>id</th>\n",
       "      <th>reads</th>\n",
       "      <th>size_MB</th>\n",
       "      <th>platform</th>\n",
       "      <th>sex</th>\n",
       "      <th>tissue</th>\n",
       "      <th>seq_site</th>\n",
       "      <th>weight</th>\n",
       "      <th>height</th>\n",
       "      <th>mapped_reads</th>\n",
       "      <th>...</th>\n",
       "      <th>COX2</th>\n",
       "      <th>ATP8</th>\n",
       "      <th>ATP6</th>\n",
       "      <th>COX3</th>\n",
       "      <th>ND3</th>\n",
       "      <th>ND4L</th>\n",
       "      <th>ND4</th>\n",
       "      <th>ND5</th>\n",
       "      <th>ND6</th>\n",
       "      <th>CYTB</th>\n",
       "    </tr>\n",
       "  </thead>\n",
       "  <tbody>\n",
       "    <tr>\n",
       "      <th>GTEX-1117F-2426-SM-5EGGH</th>\n",
       "      <td>GTEX-1117F-2426-SM-5EGGH</td>\n",
       "      <td>33263462</td>\n",
       "      <td>2329.0</td>\n",
       "      <td>Illumina HiSeq</td>\n",
       "      <td>female</td>\n",
       "      <td>Uterus</td>\n",
       "      <td>BI</td>\n",
       "      <td>199.0</td>\n",
       "      <td>66.0</td>\n",
       "      <td>53976291.0</td>\n",
       "      <td>...</td>\n",
       "      <td>32248.487527</td>\n",
       "      <td>6679.429698</td>\n",
       "      <td>59892.670463</td>\n",
       "      <td>59552.612717</td>\n",
       "      <td>6200.257420</td>\n",
       "      <td>5393.586347</td>\n",
       "      <td>92219.409914</td>\n",
       "      <td>13941.401501</td>\n",
       "      <td>2619.024286</td>\n",
       "      <td>67593.239471</td>\n",
       "    </tr>\n",
       "    <tr>\n",
       "      <th>GTEX-1117F-2826-SM-5GZXL</th>\n",
       "      <td>GTEX-1117F-2826-SM-5GZXL</td>\n",
       "      <td>38328619</td>\n",
       "      <td>2695.0</td>\n",
       "      <td>Illumina HiSeq</td>\n",
       "      <td>female</td>\n",
       "      <td>Breast</td>\n",
       "      <td>BI</td>\n",
       "      <td>199.0</td>\n",
       "      <td>66.0</td>\n",
       "      <td>64086947.0</td>\n",
       "      <td>...</td>\n",
       "      <td>138250.268953</td>\n",
       "      <td>31721.599785</td>\n",
       "      <td>290067.651987</td>\n",
       "      <td>389815.411184</td>\n",
       "      <td>46011.363867</td>\n",
       "      <td>22887.446158</td>\n",
       "      <td>446571.230577</td>\n",
       "      <td>47535.193603</td>\n",
       "      <td>6440.320348</td>\n",
       "      <td>222327.376092</td>\n",
       "    </tr>\n",
       "  </tbody>\n",
       "</table>\n",
       "<p>2 rows × 19813 columns</p>\n",
       "</div>"
      ],
      "text/plain": [
       "                                                id     reads  size_MB  \\\n",
       "GTEX-1117F-2426-SM-5EGGH  GTEX-1117F-2426-SM-5EGGH  33263462   2329.0   \n",
       "GTEX-1117F-2826-SM-5GZXL  GTEX-1117F-2826-SM-5GZXL  38328619   2695.0   \n",
       "\n",
       "                                platform     sex  tissue seq_site  weight  \\\n",
       "GTEX-1117F-2426-SM-5EGGH  Illumina HiSeq  female  Uterus       BI   199.0   \n",
       "GTEX-1117F-2826-SM-5GZXL  Illumina HiSeq  female  Breast       BI   199.0   \n",
       "\n",
       "                          height  mapped_reads      ...                 COX2  \\\n",
       "GTEX-1117F-2426-SM-5EGGH    66.0    53976291.0      ...         32248.487527   \n",
       "GTEX-1117F-2826-SM-5GZXL    66.0    64086947.0      ...        138250.268953   \n",
       "\n",
       "                                  ATP8           ATP6           COX3  \\\n",
       "GTEX-1117F-2426-SM-5EGGH   6679.429698   59892.670463   59552.612717   \n",
       "GTEX-1117F-2826-SM-5GZXL  31721.599785  290067.651987  389815.411184   \n",
       "\n",
       "                                   ND3          ND4L            ND4  \\\n",
       "GTEX-1117F-2426-SM-5EGGH   6200.257420   5393.586347   92219.409914   \n",
       "GTEX-1117F-2826-SM-5GZXL  46011.363867  22887.446158  446571.230577   \n",
       "\n",
       "                                   ND5          ND6           CYTB  \n",
       "GTEX-1117F-2426-SM-5EGGH  13941.401501  2619.024286   67593.239471  \n",
       "GTEX-1117F-2826-SM-5GZXL  47535.193603  6440.320348  222327.376092  \n",
       "\n",
       "[2 rows x 19813 columns]"
      ]
     },
     "execution_count": 20,
     "metadata": {},
     "output_type": "execute_result"
    }
   ],
   "source": [
    "combined.head(2)"
   ]
  },
  {
   "cell_type": "markdown",
   "metadata": {},
   "source": [
    "Save"
   ]
  },
  {
   "cell_type": "code",
   "execution_count": 22,
   "metadata": {
    "collapsed": true
   },
   "outputs": [],
   "source": [
    "output_dir = '/mnt/rnaseq-cancer/Objects'\n",
    "r.utils.mkdir_p(output_dir)\n",
    "\n",
    "combined.to_csv(os.path.join(output_dir, 'tcga-gtex-metadata-expression.tsv'), sep='\\t')"
   ]
  }
 ],
 "metadata": {
  "kernelspec": {
   "display_name": "Python 2",
   "language": "python",
   "name": "python2"
  },
  "language_info": {
   "codemirror_mode": {
    "name": "ipython",
    "version": 2
   },
   "file_extension": ".py",
   "mimetype": "text/x-python",
   "name": "python",
   "nbconvert_exporter": "python",
   "pygments_lexer": "ipython2",
   "version": "2.7.13"
  }
 },
 "nbformat": 4,
 "nbformat_minor": 2
}
