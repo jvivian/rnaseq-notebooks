{
 "cells": [
  {
   "cell_type": "markdown",
   "metadata": {},
   "source": [
    "Data structure for holding TCGA and GTEx samples\n",
    "\n",
    "`dict(str, dict(str, set))`\n",
    "\n",
    "`samples.DATASET.TISSUE` = list of samples"
   ]
  },
  {
   "cell_type": "code",
   "execution_count": 16,
   "metadata": {
    "collapsed": true
   },
   "outputs": [],
   "source": [
    "import pandas as pd\n",
    "import pickle\n",
    "from collections import defaultdict\n",
    "\n",
    "import rnaseq_lib as r"
   ]
  },
  {
   "cell_type": "markdown",
   "metadata": {},
   "source": [
    "Inputs"
   ]
  },
  {
   "cell_type": "code",
   "execution_count": 10,
   "metadata": {},
   "outputs": [],
   "source": [
    "# Read in metadata\n",
    "met_path = '/mnt/rna-seq-analysis/metadata/tcga_gtex_metadata_intersect.tsv'\n",
    "met = pd.read_csv(met_path, index_col=0, sep='\\t')\n",
    "\n",
    "# Read in samples from dataframe\n",
    "df_path = '/mnt/rna-seq-analysis/data/xena/tcga-gtex-processed-counts.tsv'\n",
    "samples = [x.strip() for x in open(df_path).readline().split()]\n",
    "\n",
    "# Subset metadata by samples\n",
    "met = met[met.id.isin(samples)]"
   ]
  },
  {
   "cell_type": "markdown",
   "metadata": {},
   "source": [
    "Sort sample by dataset then tissue"
   ]
  },
  {
   "cell_type": "code",
   "execution_count": 30,
   "metadata": {},
   "outputs": [],
   "source": [
    "samples = defaultdict(dict)\n",
    "for tissue in met.tissue.unique():\n",
    "    sub = met[met.tissue == tissue]\n",
    "    for dataset in ['tcga-t', 'tcga-n', 'gtex']:\n",
    "        if dataset == 'tcga-t':\n",
    "            samples[tissue]['tcga-t'] = set(sub[(sub.dataset == 'tcga') & (sub.tumor == 'yes')].id)\n",
    "        elif dataset == 'tcga-n':\n",
    "            samples[tissue]['tcga-n'] = set(sub[(sub.dataset == 'tcga') & (sub.tumor == 'no')].id)\n",
    "        else:\n",
    "            samples[tissue]['gtex'] = set(sub[(sub.dataset == 'gtex')].id)"
   ]
  },
  {
   "cell_type": "markdown",
   "metadata": {},
   "source": [
    "Convert to Expando object"
   ]
  },
  {
   "cell_type": "code",
   "execution_count": 31,
   "metadata": {},
   "outputs": [],
   "source": [
    "samples = r.utils.rexpando(samples)"
   ]
  },
  {
   "cell_type": "markdown",
   "metadata": {},
   "source": [
    "Serialize"
   ]
  },
  {
   "cell_type": "code",
   "execution_count": 33,
   "metadata": {},
   "outputs": [],
   "source": [
    "r.utils.mkdir_p('pickles')\n",
    "with open('pickles/samples.pickle', 'w') as f:\n",
    "    pickle.dump(samples, f)"
   ]
  }
 ],
 "metadata": {
  "kernelspec": {
   "display_name": "Python 2",
   "language": "python",
   "name": "python2"
  },
  "language_info": {
   "codemirror_mode": {
    "name": "ipython",
    "version": 2
   },
   "file_extension": ".py",
   "mimetype": "text/x-python",
   "name": "python",
   "nbconvert_exporter": "python",
   "pygments_lexer": "ipython2",
   "version": "2.7.13"
  }
 },
 "nbformat": 4,
 "nbformat_minor": 2
}
