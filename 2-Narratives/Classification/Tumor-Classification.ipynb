{
 "cells": [
  {
   "cell_type": "markdown",
   "metadata": {},
   "source": [
    "# Tumor Classification\n",
    "\n",
    "Use only gene expression data from protein-coding genes to build different classifiers.\n",
    "\n",
    "- [Tissue](#Tissue)\n",
    "- [Tumor](#Tumor)"
   ]
  },
  {
   "cell_type": "code",
   "execution_count": 102,
   "metadata": {
    "collapsed": true
   },
   "outputs": [],
   "source": [
    "# Data\n",
    "import pandas as pd\n",
    "import numpy as np\n",
    "import rnaseq_lib as r\n",
    "from multiprocessing import Pool\n",
    "\n",
    "# Plotting\n",
    "import matplotlib.pyplot as plt\n",
    "import seaborn as sns\n",
    "\n",
    "# Classifiers\n",
    "from sklearn.ensemble import AdaBoostClassifier\n",
    "from sklearn.ensemble import ExtraTreesClassifier\n",
    "from sklearn.ensemble import GradientBoostingClassifier\n",
    "from sklearn.ensemble import RandomForestClassifier\n",
    "from sklearn.naive_bayes import GaussianNB\n",
    "from sklearn.neighbors import KNeighborsClassifier\n",
    "from sklearn.svm import SVC, LinearSVC\n",
    "from sklearn.tree import DecisionTreeClassifier\n",
    "from sklearn.gaussian_process import GaussianProcessClassifier\n",
    "# Feature Selection\n",
    "from sklearn.feature_selection import RFECV\n",
    "from sklearn.feature_selection import SelectKBest\n",
    "# Model Selection\n",
    "from sklearn.model_selection import KFold, train_test_split\n",
    "from sklearn.model_selection import StratifiedKFold\n",
    "# Processing\n",
    "from sklearn.preprocessing import MinMaxScaler"
   ]
  },
  {
   "cell_type": "markdown",
   "metadata": {},
   "source": [
    "Define multicore and standard classifiers"
   ]
  },
  {
   "cell_type": "code",
   "execution_count": 101,
   "metadata": {},
   "outputs": [],
   "source": [
    "multicore_classifiers = {\n",
    "            'RandomForest': RandomForestClassifier(n_jobs=-1),\n",
    "            'ExtraTrees': ExtraTreesClassifier(n_jobs=-1),\n",
    "            'GaussianProcessClassifier': GaussianProcessClassifier(n_jobs=-1),\n",
    "            'KNeighborsClassifier': KNeighborsClassifier(n_jobs=-1)}\n",
    "\n",
    "classifiers = {'GradientBoostingClassifier': GradientBoostingClassifier(),\n",
    "                            'AdaBoost': AdaBoostClassifier(),\n",
    "                            'LinearSVC': LinearSVC(),\n",
    "                            'DecisionTreeClassifier': DecisionTreeClassifier(),\n",
    "                            'GaussianNB': GaussianNB()}"
   ]
  },
  {
   "cell_type": "code",
   "execution_count": 5,
   "metadata": {
    "collapsed": true
   },
   "outputs": [],
   "source": [
    "# Inputs\n",
    "## Synapse ID: syn11515015\n",
    "df_path = '/mnt/rnaseq-cancer/Objects/tcga-gtex-metadata-expression.tsv'\n",
    "df = pd.read_csv(df_path, sep='\\t', index_col=0, dtype=r.tissues.dtype)"
   ]
  },
  {
   "cell_type": "code",
   "execution_count": 48,
   "metadata": {
    "collapsed": true
   },
   "outputs": [],
   "source": [
    "def get_training_data(df, y='tissue'):\n",
    "    return np.array(df[df.columns[17:]]), np.array(df[y])"
   ]
  },
  {
   "cell_type": "code",
   "execution_count": 92,
   "metadata": {
    "collapsed": true
   },
   "outputs": [],
   "source": [
    "def run_rfecv(clf, X, y, step=1000, kfolds=2):\n",
    "    rfecv = RFECV(estimator=clf, step=step, cv=StratifiedKFold(kfolds),\n",
    "                  scoring='accuracy')\n",
    "    rfecv.fit(X, y)\n",
    "    return rfecv"
   ]
  },
  {
   "cell_type": "markdown",
   "metadata": {},
   "source": [
    "# Classifying Tissue"
   ]
  },
  {
   "cell_type": "markdown",
   "metadata": {},
   "source": [
    "Get training samples and scale between 0 and 1"
   ]
  },
  {
   "cell_type": "code",
   "execution_count": null,
   "metadata": {
    "collapsed": true
   },
   "outputs": [],
   "source": [
    "scaler = MinMaxScaler()\n",
    "\n",
    "X, y = get_training_data(df)\n",
    "X = scaler.fit_transform(X)"
   ]
  },
  {
   "cell_type": "markdown",
   "metadata": {},
   "source": [
    "Use a random classifier to estimate good starting number for feature selection"
   ]
  },
  {
   "cell_type": "code",
   "execution_count": null,
   "metadata": {
    "collapsed": true
   },
   "outputs": [],
   "source": [
    "%%time\n",
    "clf = RandomForestClassifier(n_jobs=-1)\n",
    "rfecv = run_rfecv(clf, X, y, step=1000, kfolds=3)"
   ]
  },
  {
   "cell_type": "code",
   "execution_count": 74,
   "metadata": {},
   "outputs": [
    {
     "data": {
      "image/png": "[encoded data removed]",
      "text/plain": [
       "<matplotlib.figure.Figure at 0x7f7450f19150>"
      ]
     },
     "metadata": {},
     "output_type": "display_data"
    }
   ],
   "source": [
    "plt.plot([x*1000 for x in xrange(1, len(rfecv.grid_scores_) + 1)], rfecv.grid_scores_)\n",
    "plt.xlabel(\"Number of features selected\")\n",
    "plt.ylabel(\"Cross validation score\")\n",
    "plt.show()"
   ]
  },
  {
   "cell_type": "markdown",
   "metadata": {},
   "source": [
    "Cross validation score appears to level off around ~2500 features. "
   ]
  },
  {
   "cell_type": "code",
   "execution_count": 93,
   "metadata": {
    "collapsed": true
   },
   "outputs": [],
   "source": [
    "X_new = SelectKBest(chi2, k=2500).fit_transform(X, y)"
   ]
  },
  {
   "cell_type": "markdown",
   "metadata": {},
   "source": [
    "### Train Classifiers"
   ]
  },
  {
   "cell_type": "code",
   "execution_count": null,
   "metadata": {
    "collapsed": true
   },
   "outputs": [],
   "source": [
    "scores = {}\n",
    "for k, v in multicore_classifiers.iteritems():\n",
    "    scores[k] = cross_val_score(v, X_new, y)"
   ]
  },
  {
   "cell_type": "markdown",
   "metadata": {
    "collapsed": true
   },
   "source": [
    "# Classifying Tumor"
   ]
  },
  {
   "cell_type": "code",
   "execution_count": 106,
   "metadata": {},
   "outputs": [
    {
     "data": {
      "text/plain": [
       "{'ExtraTrees': array([0.83210282, 0.94575342, 0.91780822]),\n",
       " 'GaussianProcessClassifier': array([0.02570413, 0.02575342, 0.02575342]),\n",
       " 'KNeighborsClassifier': array([0.71178562, 0.87205479, 0.80136986]),\n",
       " 'RandomForest': array([0.89691004, 0.95917808, 0.94356164])}"
      ]
     },
     "execution_count": 106,
     "metadata": {},
     "output_type": "execute_result"
    }
   ],
   "source": [
    "scores"
   ]
  },
  {
   "cell_type": "markdown",
   "metadata": {},
   "source": [
    "# Classifying Type"
   ]
  },
  {
   "cell_type": "code",
   "execution_count": null,
   "metadata": {
    "collapsed": true
   },
   "outputs": [],
   "source": []
  },
  {
   "cell_type": "markdown",
   "metadata": {},
   "source": [
    "# Classifying Type by Tissue"
   ]
  },
  {
   "cell_type": "code",
   "execution_count": null,
   "metadata": {
    "collapsed": true
   },
   "outputs": [],
   "source": []
  }
 ],
 "metadata": {
  "hide_input": false,
  "kernelspec": {
   "display_name": "Python 2",
   "language": "python",
   "name": "python2"
  },
  "language_info": {
   "codemirror_mode": {
    "name": "ipython",
    "version": 2
   },
   "file_extension": ".py",
   "mimetype": "text/x-python",
   "name": "python",
   "nbconvert_exporter": "python",
   "pygments_lexer": "ipython2",
   "version": "2.7.13"
  }
 },
 "nbformat": 4,
 "nbformat_minor": 2
}
