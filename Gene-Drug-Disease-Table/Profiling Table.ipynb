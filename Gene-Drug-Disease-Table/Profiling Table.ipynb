{
 "cells": [
  {
   "cell_type": "markdown",
   "metadata": {},
   "source": [
    "# Gene, Drug, and Disease Table\n",
    "\n",
    "Create a large table for profiling expression of genes in tissues that correspond to known drug treatments\n",
    "\n",
    "    I. Create MAB dataframe: Drugs - Gene - Disease\n",
    "    II. Create mapping between CIViC disease and tissue \n",
    "    III. Create combined table: Drug - Disease - Gene - Tissue - p-val - l2fc"
   ]
  },
  {
   "cell_type": "code",
   "execution_count": 110,
   "metadata": {
    "collapsed": true
   },
   "outputs": [],
   "source": [
    "import pandas as pd\n",
    "\n",
    "import mygene\n",
    "import urllib2\n",
    "from bs4 import BeautifulSoup\n",
    "\n",
    "from rnaseq_lib.utils import mkdir_p\n",
    "from rnaseq_lib.civic import create_civic_drug_disease_dataframe\n",
    "from rnaseq_lib.tissues import get_gene_map\n",
    "\n",
    "from progressbar import ProgressBar\n",
    "bar = ProgressBar()"
   ]
  },
  {
   "cell_type": "markdown",
   "metadata": {},
   "source": [
    "## I. Create MAB Dataframe"
   ]
  },
  {
   "cell_type": "code",
   "execution_count": 26,
   "metadata": {
    "collapsed": true
   },
   "outputs": [],
   "source": [
    "mab = pd.read_html('https://en.wikipedia.org/wiki/List_of_therapeutic_monoclonal_antibodies')[0]"
   ]
  },
  {
   "cell_type": "code",
   "execution_count": 27,
   "metadata": {
    "collapsed": true
   },
   "outputs": [],
   "source": [
    "mab.columns = mab.iloc[0]\n",
    "mab = mab.drop(0, axis=0)"
   ]
  },
  {
   "cell_type": "code",
   "execution_count": 29,
   "metadata": {},
   "outputs": [
    {
     "data": {
      "text/html": [
       "<div>\n",
       "<style>\n",
       "    .dataframe thead tr:only-child th {\n",
       "        text-align: right;\n",
       "    }\n",
       "\n",
       "    .dataframe thead th {\n",
       "        text-align: left;\n",
       "    }\n",
       "\n",
       "    .dataframe tbody tr th {\n",
       "        vertical-align: top;\n",
       "    }\n",
       "</style>\n",
       "<table border=\"1\" class=\"dataframe\">\n",
       "  <thead>\n",
       "    <tr style=\"text-align: right;\">\n",
       "      <th></th>\n",
       "      <th>Name</th>\n",
       "      <th>Trade name</th>\n",
       "      <th>Type</th>\n",
       "      <th>Source</th>\n",
       "      <th>Target</th>\n",
       "      <th>Use</th>\n",
       "    </tr>\n",
       "  </thead>\n",
       "  <tbody>\n",
       "    <tr>\n",
       "      <th>1</th>\n",
       "      <td>3F8</td>\n",
       "      <td>NaN</td>\n",
       "      <td>mab</td>\n",
       "      <td>mouse</td>\n",
       "      <td>GD2 ganglioside</td>\n",
       "      <td>neuroblastoma</td>\n",
       "    </tr>\n",
       "    <tr>\n",
       "      <th>2</th>\n",
       "      <td>8H9[1]</td>\n",
       "      <td>NaN</td>\n",
       "      <td>mab</td>\n",
       "      <td>mouse</td>\n",
       "      <td>B7-H3</td>\n",
       "      <td>neuroblastoma, sarcoma, metastatic brain cancers</td>\n",
       "    </tr>\n",
       "    <tr>\n",
       "      <th>3</th>\n",
       "      <td>Abagovomab[2]</td>\n",
       "      <td>NaN</td>\n",
       "      <td>mab</td>\n",
       "      <td>mouse</td>\n",
       "      <td>CA-125 (imitation)</td>\n",
       "      <td>ovarian cancer</td>\n",
       "    </tr>\n",
       "    <tr>\n",
       "      <th>4</th>\n",
       "      <td>Abciximab</td>\n",
       "      <td>ReoPro</td>\n",
       "      <td>Fab</td>\n",
       "      <td>chimeric</td>\n",
       "      <td>CD41 (integrin alpha-IIb)</td>\n",
       "      <td>platelet aggregation inhibitor</td>\n",
       "    </tr>\n",
       "    <tr>\n",
       "      <th>5</th>\n",
       "      <td>Abituzumab[3]</td>\n",
       "      <td>NaN</td>\n",
       "      <td>mab</td>\n",
       "      <td>humanized</td>\n",
       "      <td>CD51</td>\n",
       "      <td>cancer</td>\n",
       "    </tr>\n",
       "  </tbody>\n",
       "</table>\n",
       "</div>"
      ],
      "text/plain": [
       "0           Name Trade name Type     Source                     Target  \\\n",
       "1            3F8        NaN  mab      mouse            GD2 ganglioside   \n",
       "2         8H9[1]        NaN  mab      mouse                      B7-H3   \n",
       "3  Abagovomab[2]        NaN  mab      mouse         CA-125 (imitation)   \n",
       "4      Abciximab     ReoPro  Fab   chimeric  CD41 (integrin alpha-IIb)   \n",
       "5  Abituzumab[3]        NaN  mab  humanized                       CD51   \n",
       "\n",
       "0                                               Use  \n",
       "1                                     neuroblastoma  \n",
       "2  neuroblastoma, sarcoma, metastatic brain cancers  \n",
       "3                                    ovarian cancer  \n",
       "4                    platelet aggregation inhibitor  \n",
       "5                                            cancer  "
      ]
     },
     "execution_count": 29,
     "metadata": {},
     "output_type": "execute_result"
    }
   ],
   "source": [
    "mab.head()"
   ]
  },
  {
   "cell_type": "markdown",
   "metadata": {},
   "source": [
    "Filter out mouse source"
   ]
  },
  {
   "cell_type": "code",
   "execution_count": 32,
   "metadata": {},
   "outputs": [
    {
     "data": {
      "text/html": [
       "<div>\n",
       "<style>\n",
       "    .dataframe thead tr:only-child th {\n",
       "        text-align: right;\n",
       "    }\n",
       "\n",
       "    .dataframe thead th {\n",
       "        text-align: left;\n",
       "    }\n",
       "\n",
       "    .dataframe tbody tr th {\n",
       "        vertical-align: top;\n",
       "    }\n",
       "</style>\n",
       "<table border=\"1\" class=\"dataframe\">\n",
       "  <thead>\n",
       "    <tr style=\"text-align: right;\">\n",
       "      <th></th>\n",
       "      <th>Name</th>\n",
       "      <th>Trade name</th>\n",
       "      <th>Type</th>\n",
       "      <th>Source</th>\n",
       "      <th>Target</th>\n",
       "      <th>Use</th>\n",
       "    </tr>\n",
       "  </thead>\n",
       "  <tbody>\n",
       "    <tr>\n",
       "      <th>4</th>\n",
       "      <td>Abciximab</td>\n",
       "      <td>ReoPro</td>\n",
       "      <td>Fab</td>\n",
       "      <td>chimeric</td>\n",
       "      <td>CD41 (integrin alpha-IIb)</td>\n",
       "      <td>platelet aggregation inhibitor</td>\n",
       "    </tr>\n",
       "    <tr>\n",
       "      <th>5</th>\n",
       "      <td>Abituzumab[3]</td>\n",
       "      <td>NaN</td>\n",
       "      <td>mab</td>\n",
       "      <td>humanized</td>\n",
       "      <td>CD51</td>\n",
       "      <td>cancer</td>\n",
       "    </tr>\n",
       "    <tr>\n",
       "      <th>6</th>\n",
       "      <td>Abrilumab[4]</td>\n",
       "      <td>NaN</td>\n",
       "      <td>mab</td>\n",
       "      <td>human</td>\n",
       "      <td>integrin α4β7</td>\n",
       "      <td>inflammatory bowel disease, ulcerative colitis...</td>\n",
       "    </tr>\n",
       "    <tr>\n",
       "      <th>7</th>\n",
       "      <td>Actoxumab[5]</td>\n",
       "      <td>NaN</td>\n",
       "      <td>mab</td>\n",
       "      <td>human</td>\n",
       "      <td>Clostridium difficile</td>\n",
       "      <td>Clostridium difficile colitis</td>\n",
       "    </tr>\n",
       "    <tr>\n",
       "      <th>8</th>\n",
       "      <td>Adalimumab</td>\n",
       "      <td>Humira</td>\n",
       "      <td>mab</td>\n",
       "      <td>human</td>\n",
       "      <td>TNF-α</td>\n",
       "      <td>Rheumatoid arthritis, Crohn's Disease, Plaque ...</td>\n",
       "    </tr>\n",
       "  </tbody>\n",
       "</table>\n",
       "</div>"
      ],
      "text/plain": [
       "0           Name Trade name Type     Source                     Target  \\\n",
       "4      Abciximab     ReoPro  Fab   chimeric  CD41 (integrin alpha-IIb)   \n",
       "5  Abituzumab[3]        NaN  mab  humanized                       CD51   \n",
       "6   Abrilumab[4]        NaN  mab      human              integrin α4β7   \n",
       "7   Actoxumab[5]        NaN  mab      human      Clostridium difficile   \n",
       "8     Adalimumab     Humira  mab      human                      TNF-α   \n",
       "\n",
       "0                                                Use  \n",
       "4                     platelet aggregation inhibitor  \n",
       "5                                             cancer  \n",
       "6  inflammatory bowel disease, ulcerative colitis...  \n",
       "7                      Clostridium difficile colitis  \n",
       "8  Rheumatoid arthritis, Crohn's Disease, Plaque ...  "
      ]
     },
     "execution_count": 32,
     "metadata": {},
     "output_type": "execute_result"
    }
   ],
   "source": [
    "mab = mab[mab.Source != 'mouse']\n",
    "mab.head()"
   ]
  },
  {
   "cell_type": "markdown",
   "metadata": {},
   "source": [
    "## I.a Process MAB Dataframe"
   ]
  },
  {
   "cell_type": "markdown",
   "metadata": {},
   "source": [
    "There isn't an easy way to programmatically filter **Use** by cancer as well as convert the **Target** to a gene name, but some of it can be."
   ]
  },
  {
   "cell_type": "code",
   "execution_count": 36,
   "metadata": {
    "collapsed": true
   },
   "outputs": [],
   "source": [
    "mkdir_p('MAB-processing')\n",
    "mab.to_csv('MAB-processing/mab-raw.tsv', sep='\\t', encoding='utf-8')"
   ]
  },
  {
   "cell_type": "markdown",
   "metadata": {},
   "source": [
    "Manually filter **Use** for cancer types"
   ]
  },
  {
   "cell_type": "code",
   "execution_count": 59,
   "metadata": {},
   "outputs": [
    {
     "name": "stdout",
     "output_type": "stream",
     "text": [
      "Number of candidate cancer drugs: 156\n"
     ]
    }
   ],
   "source": [
    "mab_cancer = pd.read_csv('MAB-processing/mab-cancer.tsv', index_col=0, sep='\\t')\n",
    "print 'Number of candidate cancer drugs: {}'.format(mab_cancer.shape[0])"
   ]
  },
  {
   "cell_type": "markdown",
   "metadata": {},
   "source": [
    "The genes in the **Target** column aren't standardizd, let's first separate out valid and invalid genes and then use the mygene API to manually fill in the rest.\n",
    "\n",
    "Collect all genes in the gene_map, which includes both ENS names and \"real\" gene names"
   ]
  },
  {
   "cell_type": "code",
   "execution_count": 55,
   "metadata": {
    "collapsed": true
   },
   "outputs": [],
   "source": [
    "gene_map = get_gene_map()\n",
    "valid_genes = set(gene_map.keys() + gene_map.values())"
   ]
  },
  {
   "cell_type": "markdown",
   "metadata": {},
   "source": [
    "Separate out all samples with invalid genes"
   ]
  },
  {
   "cell_type": "code",
   "execution_count": 85,
   "metadata": {},
   "outputs": [
    {
     "name": "stdout",
     "output_type": "stream",
     "text": [
      "Number of drugs with invalid genes: 102\n"
     ]
    }
   ],
   "source": [
    "invalid_df = mab_cancer[~mab_cancer.Target.isin(valid_genes)]\n",
    "print 'Number of drugs with invalid genes: {}'.format(invalid_df.shape[0])"
   ]
  },
  {
   "cell_type": "markdown",
   "metadata": {
    "collapsed": true
   },
   "source": [
    "### Standardize Gene Names\n",
    "Use MyGene API to find valid gene names"
   ]
  },
  {
   "cell_type": "code",
   "execution_count": null,
   "metadata": {
    "collapsed": true
   },
   "outputs": [],
   "source": [
    "mg = mygene.MyGeneInfo()\n",
    "\n",
    "# Iterate through invalid genes\n",
    "genes = []\n",
    "for invalid_gene in invalid_df.Target:\n",
    "    \n",
    "    # Process / clean input\n",
    "    if '(' in invalid_gene or ')' in invalid_gene and not invalid_gene.startswith('CD'):\n",
    "        invalid_gene = invalid_gene.split('(')[1].split(')')[0]\n",
    "    if '?' in invalid_gene:\n",
    "        invalid_gene = invalid_gene.split()[0]\n",
    "    if '/' in invalid_gene:\n",
    "        invalid_gene = invalid_gene.split('/')[0]\n",
    "    \n",
    "    try:\n",
    "        hits = mg.query(invalid_gene, fields='symbol,ensembl.gene')['hits']\n",
    "    except KeyError:\n",
    "        hits = []\n",
    "    \n",
    "    # Iterate through hits for gene\n",
    "    gene = None\n",
    "    for hit in hits:\n",
    "        if hit['symbol'] in valid_genes:\n",
    "            gene = hit['symbol']\n",
    "        elif hit['symbol'].upper() in valid_genes:\n",
    "            gene = hit['symbol'].upper()\n",
    "        \n",
    "        # If no matching symbol is found, look for ensemble name\n",
    "        else: \n",
    "            try:\n",
    "                if hit['ensembl']['gene'] in valid_genes:\n",
    "                    gene = hit['ensembl']['gene']\n",
    "            except KeyError:\n",
    "                pass\n",
    "        \n",
    "        # If we've found a match, break loop\n",
    "        if gene:\n",
    "            genes.append(gene)\n",
    "            break\n",
    "    \n",
    "    # No gene found\n",
    "    if not gene:\n",
    "        genes.append(None)\n",
    "\n",
    "print '\\nMapped {} genes'.format(len([x for x in genes if x is not None]))\n",
    "\n",
    "# Add mapped genes to dataframe, save original names\n",
    "invalid_df['Original target'] = invalid_df['Target']\n",
    "invalid_df['Target'] = genes"
   ]
  },
  {
   "cell_type": "markdown",
   "metadata": {
    "collapsed": true
   },
   "source": [
    "Recombine DataFrame, sort by invalid genes, and output"
   ]
  },
  {
   "cell_type": "code",
   "execution_count": 106,
   "metadata": {
    "collapsed": true
   },
   "outputs": [],
   "source": [
    "valid_df = mab_cancer[mab_cancer.Target.isin(valid_genes)]\n",
    "concat = pd.concat([valid_df, invalid_df], axis=0).sort_values(['Target', 'Name']).reset_index(drop=True)\n",
    "concat.to_csv('MAB-processing/mab-cancer-mapped-1st-pass.tsv', '\\t')"
   ]
  },
  {
   "cell_type": "markdown",
   "metadata": {},
   "source": [
    "The last few unmapped genes will be mapped manually or removed"
   ]
  },
  {
   "cell_type": "code",
   "execution_count": 109,
   "metadata": {},
   "outputs": [
    {
     "data": {
      "text/plain": [
       "19"
      ]
     },
     "execution_count": 109,
     "metadata": {},
     "output_type": "execute_result"
    }
   ],
   "source": [
    "len(concat[concat.Target.isnull()])"
   ]
  },
  {
   "cell_type": "markdown",
   "metadata": {},
   "source": [
    "### Scrape to Confirm Drug Target\n",
    "\n",
    "We'll scrape wiki for drug targets to confirm that our automated gene selections match."
   ]
  },
  {
   "cell_type": "code",
   "execution_count": null,
   "metadata": {
    "collapsed": true
   },
   "outputs": [],
   "source": [
    "base = 'https://en.wikipedia.org/wiki/'\n",
    "\n",
    "for drug in invalid_df.Name:\n",
    "    \n",
    "    drug = drug.split('[')[0] if '[' in drug else drug\n",
    "    \n",
    "    # Look for wiki page\n",
    "    try:\n",
    "        page = urllib2.urlopen(base + drug)\n",
    "    except urllib2.HTTPError:\n",
    "        print 'Page not found for: {}'.format(drug)\n",
    "        continue\n",
    "    \n",
    "    # Parse page\n",
    "    soup = BeautifulSoup(page, 'html.parser')\n",
    "    \n",
    "    # Look for table\n",
    "    name_box = soup.find('table', {'class': 'infobox'})\n",
    "    \n",
    "    if not name_box:\n",
    "        print 'No table found for {}'.format(drug)\n",
    "        continue\n",
    "    \n",
    "    # Look for Target, next item should be the Drug\n",
    "    name = name_box.text.strip()\n",
    "    if 'Target' in name:\n",
    "        print drug, name.split('\\n')[name.split('\\n').index('Target') + 1]\n",
    "    else:\n",
    "        print '{} has no listed Target'.format(drug)\n",
    "    \n",
    "    # Pause\n",
    "    while True:\n",
    "        raw_input('Hit any key to continue')\n",
    "        break"
   ]
  },
  {
   "cell_type": "markdown",
   "metadata": {},
   "source": [
    "This process corrected for several mis-identified genes. Now we'll see if we can't use a similar mechanism to find cancer type / tissue information"
   ]
  },
  {
   "cell_type": "markdown",
   "metadata": {},
   "source": [
    "### Scrape to Find Drug Use and Tissue Match"
   ]
  },
  {
   "cell_type": "code",
   "execution_count": null,
   "metadata": {
    "collapsed": true
   },
   "outputs": [],
   "source": []
  },
  {
   "cell_type": "code",
   "execution_count": null,
   "metadata": {
    "collapsed": true
   },
   "outputs": [],
   "source": []
  },
  {
   "cell_type": "code",
   "execution_count": null,
   "metadata": {
    "collapsed": true
   },
   "outputs": [],
   "source": []
  },
  {
   "cell_type": "code",
   "execution_count": null,
   "metadata": {
    "collapsed": true
   },
   "outputs": [],
   "source": []
  },
  {
   "cell_type": "markdown",
   "metadata": {},
   "source": [
    "## II.  Create CIViC Disease and Tissue Mapping"
   ]
  },
  {
   "cell_type": "code",
   "execution_count": null,
   "metadata": {
    "collapsed": true
   },
   "outputs": [],
   "source": []
  },
  {
   "cell_type": "code",
   "execution_count": null,
   "metadata": {
    "collapsed": true
   },
   "outputs": [],
   "source": []
  },
  {
   "cell_type": "code",
   "execution_count": null,
   "metadata": {
    "collapsed": true
   },
   "outputs": [],
   "source": []
  },
  {
   "cell_type": "code",
   "execution_count": null,
   "metadata": {
    "collapsed": true
   },
   "outputs": [],
   "source": []
  },
  {
   "cell_type": "code",
   "execution_count": null,
   "metadata": {
    "collapsed": true
   },
   "outputs": [],
   "source": []
  },
  {
   "cell_type": "code",
   "execution_count": null,
   "metadata": {
    "collapsed": true
   },
   "outputs": [],
   "source": []
  },
  {
   "cell_type": "code",
   "execution_count": null,
   "metadata": {
    "collapsed": true
   },
   "outputs": [],
   "source": []
  },
  {
   "cell_type": "code",
   "execution_count": null,
   "metadata": {
    "collapsed": true
   },
   "outputs": [],
   "source": []
  },
  {
   "cell_type": "code",
   "execution_count": null,
   "metadata": {
    "collapsed": true
   },
   "outputs": [],
   "source": []
  },
  {
   "cell_type": "code",
   "execution_count": null,
   "metadata": {
    "collapsed": true
   },
   "outputs": [],
   "source": []
  },
  {
   "cell_type": "code",
   "execution_count": null,
   "metadata": {
    "collapsed": true
   },
   "outputs": [],
   "source": []
  },
  {
   "cell_type": "code",
   "execution_count": null,
   "metadata": {
    "collapsed": true
   },
   "outputs": [],
   "source": []
  },
  {
   "cell_type": "code",
   "execution_count": null,
   "metadata": {
    "collapsed": true
   },
   "outputs": [],
   "source": []
  },
  {
   "cell_type": "code",
   "execution_count": null,
   "metadata": {
    "collapsed": true
   },
   "outputs": [],
   "source": []
  },
  {
   "cell_type": "code",
   "execution_count": null,
   "metadata": {
    "collapsed": true
   },
   "outputs": [],
   "source": []
  },
  {
   "cell_type": "code",
   "execution_count": null,
   "metadata": {
    "collapsed": true
   },
   "outputs": [],
   "source": []
  },
  {
   "cell_type": "code",
   "execution_count": null,
   "metadata": {
    "collapsed": true
   },
   "outputs": [],
   "source": []
  },
  {
   "cell_type": "code",
   "execution_count": null,
   "metadata": {
    "collapsed": true
   },
   "outputs": [],
   "source": []
  },
  {
   "cell_type": "code",
   "execution_count": null,
   "metadata": {
    "collapsed": true
   },
   "outputs": [],
   "source": []
  },
  {
   "cell_type": "code",
   "execution_count": null,
   "metadata": {
    "collapsed": true
   },
   "outputs": [],
   "source": []
  },
  {
   "cell_type": "code",
   "execution_count": null,
   "metadata": {
    "collapsed": true
   },
   "outputs": [],
   "source": []
  },
  {
   "cell_type": "code",
   "execution_count": null,
   "metadata": {
    "collapsed": true
   },
   "outputs": [],
   "source": []
  },
  {
   "cell_type": "code",
   "execution_count": null,
   "metadata": {
    "collapsed": true
   },
   "outputs": [],
   "source": []
  },
  {
   "cell_type": "code",
   "execution_count": null,
   "metadata": {
    "collapsed": true
   },
   "outputs": [],
   "source": []
  },
  {
   "cell_type": "code",
   "execution_count": null,
   "metadata": {
    "collapsed": true
   },
   "outputs": [],
   "source": []
  },
  {
   "cell_type": "code",
   "execution_count": null,
   "metadata": {
    "collapsed": true
   },
   "outputs": [],
   "source": []
  },
  {
   "cell_type": "code",
   "execution_count": null,
   "metadata": {
    "collapsed": true
   },
   "outputs": [],
   "source": []
  }
 ],
 "metadata": {
  "kernelspec": {
   "display_name": "Python 2",
   "language": "python",
   "name": "python2"
  },
  "language_info": {
   "codemirror_mode": {
    "name": "ipython",
    "version": 2
   },
   "file_extension": ".py",
   "mimetype": "text/x-python",
   "name": "python",
   "nbconvert_exporter": "python",
   "pygments_lexer": "ipython2",
   "version": "2.7.13"
  }
 },
 "nbformat": 4,
 "nbformat_minor": 2
}
