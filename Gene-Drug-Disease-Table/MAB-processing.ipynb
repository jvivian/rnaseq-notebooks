{
 "cells": [
  {
   "cell_type": "markdown",
   "metadata": {},
   "source": [
    "# Create and Process Dataframe for MABs\n",
    "\n",
    "Create a dataframe of Monoclonal Antibodies and their gene targets"
   ]
  },
  {
   "cell_type": "code",
   "execution_count": 119,
   "metadata": {
    "collapsed": true
   },
   "outputs": [],
   "source": [
    "from collections import defaultdict\n",
    "\n",
    "import pandas as pd\n",
    "import numpy as np\n",
    "\n",
    "from progressbar import ProgressBar\n",
    "\n",
    "from rnaseq_lib.web import openfda_drug_label\n",
    "from rnaseq_lib.utils.expando import Expando\n",
    "\n",
    "from rnaseq_lib.tissues import grep_cancer_terms\n",
    "from rnaseq_lib.tissues import identify_tissue_from_str\n",
    "from rnaseq_lib.tissues import validate_genes"
   ]
  },
  {
   "cell_type": "markdown",
   "metadata": {},
   "source": [
    "## Download Table"
   ]
  },
  {
   "cell_type": "code",
   "execution_count": 112,
   "metadata": {},
   "outputs": [],
   "source": [
    "raw_path = 'MAB-processing/raw.tsv'\n",
    "try:\n",
    "    df = pd.read_csv(raw_path, index_col=0, sep='\\t')\n",
    "except IOError:\n",
    "    # Read in table\n",
    "    url = 'https://en.wikipedia.org/wiki/List_of_therapeutic_monoclonal_antibodies'\n",
    "    df = pd.read_html(url, encoding='utf-8')[0]\n",
    "\n",
    "    # Set columns\n",
    "    df.columns = df.iloc[0]\n",
    "    df = df.drop(0, axis=0)\n",
    "    \n",
    "    # Fix encoding\n",
    "    df.Target = df.Target.str.encode('utf-8')\n",
    "\n",
    "    # Save\n",
    "    df.to_csv(raw_path, sep='\\t')"
   ]
  },
  {
   "cell_type": "code",
   "execution_count": 113,
   "metadata": {
    "scrolled": false
   },
   "outputs": [
    {
     "data": {
      "text/html": [
       "<div>\n",
       "<style>\n",
       "    .dataframe thead tr:only-child th {\n",
       "        text-align: right;\n",
       "    }\n",
       "\n",
       "    .dataframe thead th {\n",
       "        text-align: left;\n",
       "    }\n",
       "\n",
       "    .dataframe tbody tr th {\n",
       "        vertical-align: top;\n",
       "    }\n",
       "</style>\n",
       "<table border=\"1\" class=\"dataframe\">\n",
       "  <thead>\n",
       "    <tr style=\"text-align: right;\">\n",
       "      <th></th>\n",
       "      <th>Name</th>\n",
       "      <th>Trade name</th>\n",
       "      <th>Type</th>\n",
       "      <th>Source</th>\n",
       "      <th>Target</th>\n",
       "      <th>Use</th>\n",
       "    </tr>\n",
       "  </thead>\n",
       "  <tbody>\n",
       "    <tr>\n",
       "      <th>1</th>\n",
       "      <td>3F8</td>\n",
       "      <td>NaN</td>\n",
       "      <td>mab</td>\n",
       "      <td>mouse</td>\n",
       "      <td>GD2 ganglioside</td>\n",
       "      <td>neuroblastoma</td>\n",
       "    </tr>\n",
       "    <tr>\n",
       "      <th>2</th>\n",
       "      <td>8H9[1]</td>\n",
       "      <td>NaN</td>\n",
       "      <td>mab</td>\n",
       "      <td>mouse</td>\n",
       "      <td>B7-H3</td>\n",
       "      <td>neuroblastoma, sarcoma, metastatic brain cancers</td>\n",
       "    </tr>\n",
       "    <tr>\n",
       "      <th>3</th>\n",
       "      <td>Abagovomab[2]</td>\n",
       "      <td>NaN</td>\n",
       "      <td>mab</td>\n",
       "      <td>mouse</td>\n",
       "      <td>CA-125 (imitation)</td>\n",
       "      <td>ovarian cancer</td>\n",
       "    </tr>\n",
       "    <tr>\n",
       "      <th>4</th>\n",
       "      <td>Abciximab</td>\n",
       "      <td>ReoPro</td>\n",
       "      <td>Fab</td>\n",
       "      <td>chimeric</td>\n",
       "      <td>CD41 (integrin alpha-IIb)</td>\n",
       "      <td>platelet aggregation inhibitor</td>\n",
       "    </tr>\n",
       "    <tr>\n",
       "      <th>5</th>\n",
       "      <td>Abituzumab[3]</td>\n",
       "      <td>NaN</td>\n",
       "      <td>mab</td>\n",
       "      <td>humanized</td>\n",
       "      <td>CD51</td>\n",
       "      <td>cancer</td>\n",
       "    </tr>\n",
       "  </tbody>\n",
       "</table>\n",
       "</div>"
      ],
      "text/plain": [
       "            Name Trade name Type     Source                     Target  \\\n",
       "1            3F8        NaN  mab      mouse            GD2 ganglioside   \n",
       "2         8H9[1]        NaN  mab      mouse                      B7-H3   \n",
       "3  Abagovomab[2]        NaN  mab      mouse         CA-125 (imitation)   \n",
       "4      Abciximab     ReoPro  Fab   chimeric  CD41 (integrin alpha-IIb)   \n",
       "5  Abituzumab[3]        NaN  mab  humanized                       CD51   \n",
       "\n",
       "                                                Use  \n",
       "1                                     neuroblastoma  \n",
       "2  neuroblastoma, sarcoma, metastatic brain cancers  \n",
       "3                                    ovarian cancer  \n",
       "4                    platelet aggregation inhibitor  \n",
       "5                                            cancer  "
      ]
     },
     "execution_count": 113,
     "metadata": {},
     "output_type": "execute_result"
    }
   ],
   "source": [
    "df.head()"
   ]
  },
  {
   "cell_type": "markdown",
   "metadata": {},
   "source": [
    "## Query OpenFDA for Drug"
   ]
  },
  {
   "cell_type": "code",
   "execution_count": 114,
   "metadata": {
    "scrolled": false
   },
   "outputs": [],
   "source": [
    "df_path = 'MAB-processing/openfda.pandas'\n",
    "try:\n",
    "    df = pd.read_pickle(df_path)\n",
    "except IOError:\n",
    "    info = defaultdict(list)\n",
    "    bar = ProgressBar()\n",
    "    for i in bar(xrange(len(df))):\n",
    "        row = df.iloc[i]\n",
    "        \n",
    "        # Process drug name\n",
    "        name = row.Name.split(' (')[0].split('[')[0]\n",
    "        aliases = [name] + row['Trade name'].split(', ') if type(row['Trade name']) is unicode else [name]\n",
    "\n",
    "        # Check if any aliases return OpenFDA results\n",
    "        r = None\n",
    "        for name in aliases:\n",
    "            if not '-' in name:\n",
    "                r = openfda_drug_label(str(name))\n",
    "                if r: break\n",
    "\n",
    "        # If no results record None\n",
    "        features  = ['usage', 'mech_action', 'brand_name', 'generic_name']\n",
    "        if not r:\n",
    "            for f in features:\n",
    "                info[f].append(None)\n",
    "\n",
    "        else:\n",
    "            # Pull out result\n",
    "            e = r.json(object_hook=Expando)['results'][0]\n",
    "\n",
    "            for f, a in zip(features, ['indications_and_usage', 'mechanism_of_action', \n",
    "                             'openfda.brand_name', 'openfda.generic_name']):    \n",
    "                try:\n",
    "                    attribute = e[a] if not a.startswith('openfda') else e['openfda'][a.split('.')[1]]\n",
    "                    info[f].append('. '.join(attribute).encode('utf-8'))\n",
    "                except KeyError:\n",
    "                    info[f].append(None)\n",
    "    \n",
    "    # Add values to DataFrame\n",
    "    df['usage'] = info['usage']\n",
    "    df['mech_action'] = info['mech_action']\n",
    "    df['brand_name'] = info['brand_name']\n",
    "    df['generic_name'] = info['generic_name']\n",
    "\n",
    "    # Save\n",
    "    df.to_pickle(df_path)    "
   ]
  },
  {
   "cell_type": "markdown",
   "metadata": {},
   "source": [
    "## Validate Match and Drop NA\n",
    "Drop rows whose generic or brand name does not match the drug or trade name"
   ]
  },
  {
   "cell_type": "code",
   "execution_count": 115,
   "metadata": {},
   "outputs": [],
   "source": [
    "# Reset index\n",
    "df = df.reset_index(drop=True)\n",
    "rows_to_drop = []\n",
    "for row in df.iterrows():\n",
    "    i, row = row\n",
    "    name = row.Name.split(' (')[0].split('[')[0]\n",
    "    aliases = [name] + row['Trade name'].split(', ') if type(row['Trade name']) is unicode else [name]\n",
    "    \n",
    "    # If missing brand and generic name, drop\n",
    "    if not row.generic_name and not row.brand_name:\n",
    "        rows_to_drop.append(i)\n",
    "        continue\n",
    "    \n",
    "    # If drug name or synonyms don't match, drop\n",
    "    if not any([x for x in aliases if x.lower() in row.generic_name.lower()]):\n",
    "        if not any([x for x in aliases if x.lower() in row.brand_name.lower()]):\n",
    "            rows_to_drop.append(i)\n",
    "\n",
    "# Drop rows\n",
    "df = df.drop(rows_to_drop)\n",
    "df = df.reset_index(drop=True)"
   ]
  },
  {
   "cell_type": "markdown",
   "metadata": {},
   "source": [
    "## Match Drug to Tissue\n",
    "Replace rows that target multiple tissues with one row per tissue"
   ]
  },
  {
   "cell_type": "code",
   "execution_count": 116,
   "metadata": {
    "scrolled": false
   },
   "outputs": [
    {
     "name": "stdout",
     "output_type": "stream",
     "text": [
      "No evidence found for any tissue found for: Abciximab\n",
      "No evidence found for any tissue found for: Adalimumab\n",
      "No evidence found for any tissue found for: Alirocumab[13]\n",
      "No evidence found for any tissue found for: Atlizumab (= tocilizumab)\n",
      "No evidence found for any tissue found for: Basiliximab\n",
      "No evidence found for any tissue found for: Belimumab\n",
      "No evidence found for any tissue found for: Bezlotoxumab[25]\n",
      "No evidence found for any tissue found for: Brentuximab vedotin[33]\n",
      "No evidence found for any tissue found for: Brodalumab[35]\n",
      "No evidence found for any tissue found for: Canakinumab[36]\n",
      "No evidence found for any tissue found for: Daclizumab\n",
      "No evidence found for any tissue found for: Daratumumab[43]\n",
      "No evidence found for any tissue found for: Dinutuximab[47]\n",
      "No evidence found for any tissue found for: Dupilumab[52]\n",
      "No evidence found for any tissue found for: Eculizumab[17]\n",
      "No evidence found for any tissue found for: Elotuzumab\n",
      "No evidence found for any tissue found for: Evolocumab[26]\n",
      "No evidence found for any tissue found for: Golimumab[68]\n",
      "No evidence found for any tissue found for: Guselkumab[87]\n",
      "No evidence found for any tissue found for: Idarucizumab[3]\n",
      "No evidence found for any tissue found for: Infliximab\n",
      "No evidence found for any tissue found for: Ixekizumab[93]\n",
      "No evidence found for any tissue found for: Mepolizumab\n",
      "No evidence found for any tissue found for: Natalizumab\n",
      "No evidence found for any tissue found for: Obiltoxaximab[110]\n",
      "No evidence found for any tissue found for: Ocrelizumab[45]\n",
      "No evidence found for any tissue found for: Olaratumab\n",
      "No evidence found for any tissue found for: Omalizumab[65]\n",
      "No evidence found for any tissue found for: Palivizumab\n",
      "No evidence found for any tissue found for: Ranibizumab[6]\n",
      "No evidence found for any tissue found for: Reslizumab[55]\n",
      "No evidence found for any tissue found for: Sarilumab[132]\n",
      "No evidence found for any tissue found for: Secukinumab[133]\n",
      "No evidence found for any tissue found for: Siltuximab\n",
      "No evidence found for any tissue found for: Tocilizumab[6] (= atlizumab)\n",
      "No evidence found for any tissue found for: Ustekinumab[9]\n",
      "No evidence found for any tissue found for: Vedolizumab\n"
     ]
    }
   ],
   "source": [
    "records = []\n",
    "for row in df.iterrows():\n",
    "    entries = defaultdict(str)\n",
    "    index, row = row\n",
    "    for sentence in grep_cancer_terms(str(row['usage'])):\n",
    "        for tissue in identify_tissue_from_str(sentence):\n",
    "            entries[tissue] += sentence\n",
    "    \n",
    "    if entries:\n",
    "        # Store new rows\n",
    "        for entry in entries:\n",
    "            new_row = row.copy()\n",
    "            new_row['tissue'] = entry\n",
    "            new_row['evidence'] = entries[entry]\n",
    "            records.append(new_row)\n",
    "    \n",
    "    else:\n",
    "        print 'No evidence found for any tissue found for: {}'.format(row['Name'])\n",
    "\n",
    "df = pd.DataFrame.from_records(records, columns=list(df.columns) + ['tissue', 'evidence'])"
   ]
  },
  {
   "cell_type": "markdown",
   "metadata": {},
   "source": [
    "### Fix Targets (genes)"
   ]
  },
  {
   "cell_type": "markdown",
   "metadata": {},
   "source": [
    "Look for genes in **Target** and make one row per gene"
   ]
  },
  {
   "cell_type": "code",
   "execution_count": 128,
   "metadata": {
    "scrolled": false
   },
   "outputs": [],
   "source": [
    "records = []\n",
    "for row in df.iterrows():\n",
    "    index, row = row\n",
    "    for gene in set(validate_genes([row.Target.split('/')[0]])):\n",
    "        new_row = row.copy()\n",
    "        new_row['gene'] = gene.upper() if gene else gene\n",
    "        records.append(new_row)\n",
    "\n",
    "df = pd.DataFrame.from_records(records)"
   ]
  },
  {
   "cell_type": "markdown",
   "metadata": {},
   "source": [
    "### Drop NA and Save\n",
    "\n",
    "Drop all rows missing a valid \"gene\" target"
   ]
  },
  {
   "cell_type": "code",
   "execution_count": 131,
   "metadata": {},
   "outputs": [
    {
     "name": "stdout",
     "output_type": "stream",
     "text": [
      "Number of drugs: 21\n",
      "Number of unique gene targets: 12\n"
     ]
    },
    {
     "data": {
      "text/plain": [
       "(40, 13)"
      ]
     },
     "execution_count": 131,
     "metadata": {},
     "output_type": "execute_result"
    }
   ],
   "source": [
    "df = df[~df.gene.isnull()]\n",
    "print 'Number of drugs: {}'.format(len(df.Name.unique()))\n",
    "print 'Number of unique gene targets: {}'.format(len(df.gene.unique()))\n",
    "df.shape"
   ]
  },
  {
   "cell_type": "code",
   "execution_count": 132,
   "metadata": {
    "collapsed": true
   },
   "outputs": [],
   "source": [
    "df.to_csv('MAB-processing/mab.processed.tsv', sep='\\t')"
   ]
  }
 ],
 "metadata": {
  "kernelspec": {
   "display_name": "Python 2",
   "language": "python",
   "name": "python2"
  },
  "language_info": {
   "codemirror_mode": {
    "name": "ipython",
    "version": 2
   },
   "file_extension": ".py",
   "mimetype": "text/x-python",
   "name": "python",
   "nbconvert_exporter": "python",
   "pygments_lexer": "ipython2",
   "version": "2.7.13"
  }
 },
 "nbformat": 4,
 "nbformat_minor": 2
}
